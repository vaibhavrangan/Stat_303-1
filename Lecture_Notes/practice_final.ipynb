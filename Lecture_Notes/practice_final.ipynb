{
 "cells": [
  {
   "cell_type": "code",
   "execution_count": 1,
   "metadata": {},
   "outputs": [],
   "source": [
    "import pandas as pd\n",
    "import numpy as np\n",
    "import seaborn as sns\n",
    "import matplotlib.pyplot as plt\n",
    "\n",
    "features1 = pd.read_csv('/Users/vaibhavrangan/Downloads/Stat_303-1/Data/House_features1.csv')\n",
    "features2 = pd.read_csv('/Users/vaibhavrangan/Downloads/Stat_303-1/Data/House_features2.csv')\n",
    "all_prices = pd.read_csv('/Users/vaibhavrangan/Downloads/Stat_303-1/Data/House_all_prices.csv')\n",
    "prices = pd.read_csv('/Users/vaibhavrangan/Downloads/Stat_303-1/Data/House_prices.csv')"
   ]
  },
  {
   "cell_type": "markdown",
   "metadata": {},
   "source": [
    "Q26"
   ]
  },
  {
   "cell_type": "code",
   "execution_count": 2,
   "metadata": {},
   "outputs": [
    {
     "name": "stdout",
     "output_type": "stream",
     "text": [
      "7300\n"
     ]
    }
   ],
   "source": [
    "combined_features = pd.concat([features1, features2])\n",
    "print(len(combined_features))"
   ]
  },
  {
   "cell_type": "markdown",
   "metadata": {},
   "source": [
    "Q27"
   ]
  },
  {
   "cell_type": "code",
   "execution_count": 3,
   "metadata": {},
   "outputs": [
    {
     "name": "stdout",
     "output_type": "stream",
     "text": [
      "5\n"
     ]
    }
   ],
   "source": [
    "combined_features_pivot = combined_features.pivot(index = 'House_Id', columns = 'variable')\n",
    "print(combined_features_pivot.shape[1])"
   ]
  },
  {
   "cell_type": "markdown",
   "metadata": {},
   "source": [
    "Q28"
   ]
  },
  {
   "cell_type": "code",
   "execution_count": 4,
   "metadata": {},
   "outputs": [
    {
     "name": "stdout",
     "output_type": "stream",
     "text": [
      "1460\n"
     ]
    }
   ],
   "source": [
    "combined_features_pivot.columns = combined_features_pivot.columns.droplevel(0)\n",
    "# Reset the index so that House_Id becomes a column\n",
    "combined_features_pivot.reset_index(inplace = True)\n",
    "# merge with prices\n",
    "merged = pd.merge(combined_features_pivot, prices)\n",
    "print(len(merged))"
   ]
  },
  {
   "cell_type": "markdown",
   "metadata": {},
   "source": [
    "Q29"
   ]
  },
  {
   "cell_type": "code",
   "execution_count": 5,
   "metadata": {},
   "outputs": [
    {
     "data": {
      "text/plain": [
       "Neighborhood\n",
       "NoRidge    116120.661615\n",
       "StoneBr    114583.197743\n",
       "NridgHt     99248.411050\n",
       "Crawfor     69321.858118\n",
       "Timber      67128.253482\n",
       "Name: SalePrice, dtype: float64"
      ]
     },
     "execution_count": 5,
     "metadata": {},
     "output_type": "execute_result"
    }
   ],
   "source": [
    "# group by Neighborhood and apply std function on SalePrice\n",
    "variance = merged.groupby('Neighborhood')[\"SalePrice\"].std().sort_values(ascending = False)\n",
    "variance.head()"
   ]
  },
  {
   "cell_type": "markdown",
   "metadata": {},
   "source": [
    "Q30"
   ]
  },
  {
   "cell_type": "code",
   "execution_count": 6,
   "metadata": {},
   "outputs": [
    {
     "data": {
      "text/plain": [
       "Neighborhood\n",
       "NoRidge    0.885033\n",
       "CollgCr    0.865722\n",
       "BrkSide    0.844037\n",
       "StoneBr    0.842635\n",
       "SawyerW    0.810779\n",
       "dtype: float64"
      ]
     },
     "execution_count": 6,
     "metadata": {},
     "output_type": "execute_result"
    }
   ],
   "source": [
    "merged[\"GrLivArea\"] = merged[\"GrLivArea\"].astype(int)\n",
    "filtered = merged.groupby(\"Neighborhood\").filter(lambda x: len(x) > 2)\n",
    "corr_by_hood = filtered.groupby(\"Neighborhood\").apply(\n",
    "        lambda x: x.corr().loc[\"GrLivArea\", \"SalePrice\"]\n",
    "    ).sort_values(ascending = False)\n",
    "\n",
    "corr_by_hood.head()"
   ]
  },
  {
   "cell_type": "markdown",
   "metadata": {},
   "source": [
    "Q31"
   ]
  },
  {
   "cell_type": "code",
   "execution_count": 7,
   "metadata": {},
   "outputs": [
    {
     "name": "stdout",
     "output_type": "stream",
     "text": [
      "2    27.191781\n",
      "3    25.616438\n",
      "4    21.849315\n",
      "5    15.684932\n",
      "1     9.657534\n",
      "Name: Binned_Qual, dtype: float64\n"
     ]
    }
   ],
   "source": [
    "row_count = merged.shape[0]\n",
    "# inclusive of left bound exclusive of right bound\n",
    "# bins are [0,4), [4,5), [5,6), [6,7), [7,10)\n",
    "merged[\"Binned_Qual\"] = pd.cut(merged[\"OverallQual\"].astype(int), bins = (0,4, 5,6,7,10), labels = (\"1\", \"2\", \"3\", \"4\", \"5\"))\n",
    "print(100*merged[\"Binned_Qual\"].value_counts()/row_count)"
   ]
  },
  {
   "cell_type": "markdown",
   "metadata": {},
   "source": [
    "Q32"
   ]
  },
  {
   "cell_type": "code",
   "execution_count": 8,
   "metadata": {},
   "outputs": [
    {
     "name": "stdout",
     "output_type": "stream",
     "text": [
      "51410.62720668922\n"
     ]
    }
   ],
   "source": [
    "merged_imputed = merged.copy()\n",
    "na_count = merged_imputed[\"SalePrice\"].isnull().sum()\n",
    "grouped = merged.groupby([\"BldgType\", \"Binned_Qual\"], group_keys=False, observed=True)\n",
    "merged_imputed[\"SalePrice\"] = grouped[\"SalePrice\"].apply(lambda x: x.fillna(x.mean()))\n",
    "\n",
    "# take mean of rmse across imputed values, not all values otherwise will skew to a lot of 0s because error is 0 for all non imputed values\n",
    "rmse = np.sqrt(((all_prices['SalePrice'] - merged_imputed['SalePrice'])**2).sum()/na_count)\n",
    "print(rmse)"
   ]
  },
  {
   "cell_type": "markdown",
   "metadata": {},
   "source": [
    "Q33"
   ]
  },
  {
   "cell_type": "code",
   "execution_count": 9,
   "metadata": {},
   "outputs": [
    {
     "name": "stdout",
     "output_type": "stream",
     "text": [
      "57453.59130006382\n"
     ]
    }
   ],
   "source": [
    "def trendline_impute(df):  \n",
    "    y = df.loc[~df['SalePrice'].isnull(),'SalePrice']\n",
    "    x = df.loc[~df['SalePrice'].isnull(),'GrLivArea']    \n",
    "    z = np.polyfit(x,y,1)\n",
    "    p = np.poly1d(z)\n",
    "    xpred = df.loc[df['SalePrice'].isnull(),'GrLivArea']\n",
    "    df.loc[df['SalePrice'].isnull(),'SalePrice'] = p(xpred)\n",
    "    return(df)\n",
    "\n",
    "trendline_impute_data = merged.copy()\n",
    "# since the function specifies which column to apply the imputation to and returns a df, can set it to trendline_impute_data\n",
    "trendline_impute_data = trendline_impute(trendline_impute_data)\n",
    "rmse = np.sqrt(((all_prices['SalePrice'] - trendline_impute_data['SalePrice'])**2).sum()/na_count)\n",
    "print(rmse)"
   ]
  },
  {
   "cell_type": "markdown",
   "metadata": {},
   "source": [
    "Q34"
   ]
  },
  {
   "cell_type": "code",
   "execution_count": 10,
   "metadata": {},
   "outputs": [
    {
     "name": "stdout",
     "output_type": "stream",
     "text": [
      "635916.6362570759\n"
     ]
    }
   ],
   "source": [
    "data_imputed = merged.copy()\n",
    "total_imputed = data_imputed[\"SalePrice\"].isnull().sum()\n",
    "data_imputed[\"SalePrice\"] = data_imputed.groupby([\"BldgType\", \"Binned_Qual\"], group_keys= False, observed=True).apply(trendline_impute)\n",
    "rmse = np.sqrt(((all_prices['SalePrice'] - data_imputed['SalePrice'])**2).sum()/total_imputed)\n",
    "print(rmse)    "
   ]
  },
  {
   "cell_type": "markdown",
   "metadata": {},
   "source": [
    "Q35"
   ]
  },
  {
   "cell_type": "code",
   "execution_count": null,
   "metadata": {},
   "outputs": [
    {
     "name": "stdout",
     "output_type": "stream",
     "text": [
      "j =  1 RMSE =  51816.18799984918\n",
      "j =  2 RMSE =  46072.66568836822\n",
      "j =  3 RMSE =  44386.70600388442\n",
      "j =  4 RMSE =  40528.984238960926\n",
      "j =  5 RMSE =  39605.71573952534\n",
      "j =  6 RMSE =  38788.01545039912\n",
      "j =  7 RMSE =  39219.09755973458\n",
      "j =  8 RMSE =  40857.37603408943\n",
      "j =  9 RMSE =  39541.38064611444\n",
      "j =  10 RMSE =  38576.62546979164\n",
      "j =  11 RMSE =  39047.92526628425\n",
      "j =  12 RMSE =  39097.701333020814\n",
      "j =  13 RMSE =  39039.8341272041\n",
      "j =  14 RMSE =  39117.712904742875\n",
      "j =  15 RMSE =  38592.752662710074\n",
      "j =  16 RMSE =  38871.5207958454\n",
      "j =  17 RMSE =  38984.04841138605\n",
      "j =  18 RMSE =  38784.409889022434\n",
      "j =  19 RMSE =  38773.60401990701\n",
      "j =  20 RMSE =  38926.08556613929\n",
      "j =  10 RMSE =  38576.62546979164\n"
     ]
    }
   ],
   "source": [
    "grouped = merged.groupby([\"BldgType\", \"Binned_Qual\"], group_keys=False, observed=True)\n",
    "def rmse():\n",
    "    return np.sqrt(((all_prices['SalePrice'] - data_imputed['SalePrice'])**2).sum()/merged.SalePrice.isnull().sum())\n",
    "\n",
    "def price_j(x, j):\n",
    "    idx_missing = x.index[x[\"SalePrice\"].isnull()]\n",
    "    for i in idx_missing:\n",
    "        dist = (abs(x.loc[i, \"GrLivArea\"] - x.loc[~x[\"SalePrice\"].isnull(), \"GrLivArea\"])).sort_values().head(j).index\n",
    "        x.loc[i, \"SalePrice\"] = x.loc[dist, \"SalePrice\"].mean()\n",
    "    return(x)\n",
    "\n",
    "for j in range(1,21):\n",
    "    data_imputed = grouped.apply(lambda x: price_j(x, j))\n",
    "    print(\"j = \", j, \"RMSE = \", rmse())\n",
    "\n"
   ]
  }
 ],
 "metadata": {
  "kernelspec": {
   "display_name": ".venv",
   "language": "python",
   "name": "python3"
  },
  "language_info": {
   "codemirror_mode": {
    "name": "ipython",
    "version": 3
   },
   "file_extension": ".py",
   "mimetype": "text/x-python",
   "name": "python",
   "nbconvert_exporter": "python",
   "pygments_lexer": "ipython3",
   "version": "3.7.0"
  }
 },
 "nbformat": 4,
 "nbformat_minor": 2
}
