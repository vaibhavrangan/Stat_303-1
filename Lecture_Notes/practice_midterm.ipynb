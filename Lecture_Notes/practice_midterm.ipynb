{
 "cells": [
  {
   "cell_type": "code",
   "execution_count": 2,
   "metadata": {},
   "outputs": [],
   "source": [
    "import pandas as pd\n",
    "import numpy as np"
   ]
  },
  {
   "cell_type": "code",
   "execution_count": 3,
   "metadata": {},
   "outputs": [
    {
     "name": "stdout",
     "output_type": "stream",
     "text": [
      "5\n"
     ]
    }
   ],
   "source": [
    "starbucks_data = pd.read_csv(\"/Users/vaibhavrangan/Downloads/Stat_303-1/Data/starbucks-menu-nutrition-drinks.csv\")\n",
    "\n",
    "high_protein = starbucks_data[starbucks_data[\"Protein\"] > starbucks_data[\"Carb\"]]\n",
    "print(len(high_protein))"
   ]
  },
  {
   "cell_type": "code",
   "execution_count": 4,
   "metadata": {},
   "outputs": [
    {
     "data": {
      "text/plain": [
       "'Starbucks Refreshers™ Raspberry Pomegranate'"
      ]
     },
     "execution_count": 4,
     "metadata": {},
     "output_type": "execute_result"
    }
   ],
   "source": [
    "# Calculate 'carbs per calorie' with a check for division by zero\n",
    "starbucks_data[\"carbs per calorie\"] = np.where(\n",
    "    starbucks_data[\"Calories\"] != 0,\n",
    "    starbucks_data[\"Carb\"] / starbucks_data[\"Calories\"],\n",
    "    0\n",
    ")\n",
    "\n",
    "# Find the drink with the maximum 'carbs per calorie'\n",
    "max_carbs_per_cal = starbucks_data.loc[starbucks_data[\"carbs per calorie\"].idxmax(), \"Drink\"]\n",
    "\n",
    "max_carbs_per_cal"
   ]
  },
  {
   "cell_type": "code",
   "execution_count": 5,
   "metadata": {},
   "outputs": [
    {
     "data": {
      "text/plain": [
       "0.33695652173913043"
      ]
     },
     "execution_count": 5,
     "metadata": {},
     "output_type": "execute_result"
    }
   ],
   "source": [
    "iced_drinks = starbucks_data[\"Drink\"].str.contains(\"Iced\", na=False).sum()\n",
    "iced_drinks / len(starbucks_data)"
   ]
  },
  {
   "cell_type": "code",
   "execution_count": 23,
   "metadata": {},
   "outputs": [
    {
     "data": {
      "text/plain": [
       "Index(['HouseAge', 'HouseAgeSquared', 'LogDistanceMRT',\n",
       "       'NumberOfConvenienceStores', 'NumberOfConvenienceStores_squared',\n",
       "       'latitude', 'longitude'],\n",
       "      dtype='object')"
      ]
     },
     "execution_count": 23,
     "metadata": {},
     "output_type": "execute_result"
    }
   ],
   "source": [
    "house_data = pd.read_csv(\"/Users/vaibhavrangan/Downloads/Stat_303-1/Data/house_features.csv\")\n",
    "house_data.head()\n",
    "house_data.columns\n"
   ]
  },
  {
   "cell_type": "code",
   "execution_count": 19,
   "metadata": {},
   "outputs": [
    {
     "data": {
      "text/plain": [
       "1463.1228777410022"
      ]
     },
     "execution_count": 19,
     "metadata": {},
     "output_type": "execute_result"
    }
   ],
   "source": [
    "coeffs = {'house_age':-0.0448,'house_age_squared':0.0009, 'log_distanceMRT':-0.3094,'number_convenience_stores':0.0916,\n",
    "         'number_convenience_stores_squared':-0.0069,'latitude':22.6803,'longitude':5.0019}\n",
    "constant = -1164.8719\n",
    "\n",
    "\n",
    "house_data[\"log house price\"] = constant + \\\n",
    "    coeffs['house_age'] * house_data[\"HouseAge\"] + \\\n",
    "    coeffs['house_age_squared'] * house_data[\"HouseAgeSquared\"] + \\\n",
    "    coeffs['log_distanceMRT'] * house_data[\"LogDistanceMRT\"] + \\\n",
    "    coeffs['number_convenience_stores'] * house_data[\"NumberOfConvenienceStores\"] + \\\n",
    "    coeffs['number_convenience_stores_squared'] * house_data[\"NumberOfConvenienceStores_squared\"] + \\\n",
    "    coeffs['latitude'] * house_data[\"latitude\"] + \\\n",
    "    coeffs['longitude'] * house_data[\"longitude\"]\n",
    "house_data[\"price\"] = np.exp(house_data[\"log house price\"])\n",
    "house_data[\"price\"].mean()"
   ]
  }
 ],
 "metadata": {
  "kernelspec": {
   "display_name": ".venv",
   "language": "python",
   "name": "python3"
  },
  "language_info": {
   "codemirror_mode": {
    "name": "ipython",
    "version": 3
   },
   "file_extension": ".py",
   "mimetype": "text/x-python",
   "name": "python",
   "nbconvert_exporter": "python",
   "pygments_lexer": "ipython3",
   "version": "3.7.0"
  }
 },
 "nbformat": 4,
 "nbformat_minor": 2
}
