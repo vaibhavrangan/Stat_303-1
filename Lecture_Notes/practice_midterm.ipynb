{
 "cells": [
  {
   "cell_type": "code",
   "execution_count": 7,
   "metadata": {},
   "outputs": [],
   "source": [
    "import pandas as pd\n",
    "import numpy as np"
   ]
  },
  {
   "cell_type": "code",
   "execution_count": 23,
   "metadata": {},
   "outputs": [
    {
     "name": "stdout",
     "output_type": "stream",
     "text": [
      "5\n",
      "Index(['Drink', 'Calories', 'Fat', 'Carb', 'Fiber', 'Protein', 'Sodium'], dtype='object')\n"
     ]
    }
   ],
   "source": [
    "starbucks_data = pd.read_csv(\"/Users/vaibhavrangan/Downloads/Stat_303-1/Data/starbucks-menu-nutrition-drinks.csv\")\n",
    "\n",
    "high_protein = starbucks_data[starbucks_data[\"Protein\"] > starbucks_data[\"Carb\"]]\n",
    "print(len(high_protein))"
   ]
  },
  {
   "cell_type": "code",
   "execution_count": 29,
   "metadata": {},
   "outputs": [
    {
     "data": {
      "text/plain": [
       "'Starbucks Refreshers™ Raspberry Pomegranate'"
      ]
     },
     "execution_count": 29,
     "metadata": {},
     "output_type": "execute_result"
    }
   ],
   "source": [
    "# Calculate 'carbs per calorie' with a check for division by zero\n",
    "starbucks_data[\"carbs per calorie\"] = np.where(\n",
    "    starbucks_data[\"Calories\"] != 0,\n",
    "    starbucks_data[\"Carb\"] / starbucks_data[\"Calories\"],\n",
    "    0\n",
    ")\n",
    "\n",
    "# Find the drink with the maximum 'carbs per calorie'\n",
    "max_carbs_per_cal = starbucks_data.loc[starbucks_data[\"carbs per calorie\"].idxmax(), \"Drink\"]\n",
    "\n",
    "max_carbs_per_cal"
   ]
  },
  {
   "cell_type": "code",
   "execution_count": 33,
   "metadata": {},
   "outputs": [
    {
     "data": {
      "text/plain": [
       "0.33695652173913043"
      ]
     },
     "execution_count": 33,
     "metadata": {},
     "output_type": "execute_result"
    }
   ],
   "source": [
    "iced_drinks = starbucks_data[\"Drink\"].str.contains(\"Iced\", na=False).sum()\n",
    "iced_drinks / len(starbucks_data)"
   ]
  },
  {
   "cell_type": "code",
   "execution_count": 39,
   "metadata": {},
   "outputs": [
    {
     "data": {
      "text/html": [
       "<div>\n",
       "<style scoped>\n",
       "    .dataframe tbody tr th:only-of-type {\n",
       "        vertical-align: middle;\n",
       "    }\n",
       "\n",
       "    .dataframe tbody tr th {\n",
       "        vertical-align: top;\n",
       "    }\n",
       "\n",
       "    .dataframe thead th {\n",
       "        text-align: right;\n",
       "    }\n",
       "</style>\n",
       "<table border=\"1\" class=\"dataframe\">\n",
       "  <thead>\n",
       "    <tr style=\"text-align: right;\">\n",
       "      <th></th>\n",
       "      <th>HouseAge</th>\n",
       "      <th>HouseAgeSquared</th>\n",
       "      <th>LogDistanceMRT</th>\n",
       "      <th>NumberOfConvenienceStores</th>\n",
       "      <th>NumberOfConvenienceStores_squared</th>\n",
       "      <th>latitude</th>\n",
       "      <th>longitude</th>\n",
       "    </tr>\n",
       "  </thead>\n",
       "  <tbody>\n",
       "    <tr>\n",
       "      <th>0</th>\n",
       "      <td>16.9</td>\n",
       "      <td>285.61</td>\n",
       "      <td>6.874612</td>\n",
       "      <td>4</td>\n",
       "      <td>16</td>\n",
       "      <td>24.98872</td>\n",
       "      <td>121.53408</td>\n",
       "    </tr>\n",
       "    <tr>\n",
       "      <th>1</th>\n",
       "      <td>16.5</td>\n",
       "      <td>272.25</td>\n",
       "      <td>8.314346</td>\n",
       "      <td>0</td>\n",
       "      <td>0</td>\n",
       "      <td>24.94155</td>\n",
       "      <td>121.50381</td>\n",
       "    </tr>\n",
       "    <tr>\n",
       "      <th>2</th>\n",
       "      <td>15.6</td>\n",
       "      <td>243.36</td>\n",
       "      <td>5.667550</td>\n",
       "      <td>5</td>\n",
       "      <td>25</td>\n",
       "      <td>24.98203</td>\n",
       "      <td>121.54348</td>\n",
       "    </tr>\n",
       "    <tr>\n",
       "      <th>3</th>\n",
       "      <td>13.0</td>\n",
       "      <td>169.00</td>\n",
       "      <td>6.620167</td>\n",
       "      <td>2</td>\n",
       "      <td>4</td>\n",
       "      <td>24.97371</td>\n",
       "      <td>121.54951</td>\n",
       "    </tr>\n",
       "    <tr>\n",
       "      <th>4</th>\n",
       "      <td>19.2</td>\n",
       "      <td>368.64</td>\n",
       "      <td>6.133618</td>\n",
       "      <td>5</td>\n",
       "      <td>25</td>\n",
       "      <td>24.95425</td>\n",
       "      <td>121.53990</td>\n",
       "    </tr>\n",
       "  </tbody>\n",
       "</table>\n",
       "</div>"
      ],
      "text/plain": [
       "   HouseAge  HouseAgeSquared  LogDistanceMRT  NumberOfConvenienceStores  \\\n",
       "0      16.9           285.61        6.874612                          4   \n",
       "1      16.5           272.25        8.314346                          0   \n",
       "2      15.6           243.36        5.667550                          5   \n",
       "3      13.0           169.00        6.620167                          2   \n",
       "4      19.2           368.64        6.133618                          5   \n",
       "\n",
       "   NumberOfConvenienceStores_squared  latitude  longitude  \n",
       "0                                 16  24.98872  121.53408  \n",
       "1                                  0  24.94155  121.50381  \n",
       "2                                 25  24.98203  121.54348  \n",
       "3                                  4  24.97371  121.54951  \n",
       "4                                 25  24.95425  121.53990  "
      ]
     },
     "execution_count": 39,
     "metadata": {},
     "output_type": "execute_result"
    }
   ],
   "source": [
    "house_data = pd.read_csv(\"/Users/vaibhavrangan/Downloads/Stat_303-1/Data/house_features.csv\")\n",
    "house_data.head()\n"
   ]
  },
  {
   "cell_type": "code",
   "execution_count": 53,
   "metadata": {},
   "outputs": [
    {
     "name": "stdout",
     "output_type": "stream",
     "text": [
      "7.08465202722391\n"
     ]
    }
   ],
   "source": [
    "coeffs = {'house_age':-0.0448,'house_age_squared':0.0009, 'log_distanceMRT':-0.3094,'number_convenience_stores':0.0916,\n",
    "         'number_convenience_stores_squared':-0.0069,'latitude':22.6803,'longitude':5.0019}\n",
    "constant = -1164.8719\n",
    "\n",
    "# convert coeffs.values() to np array\n",
    "coeffs = np.array(list(coeffs.values()))\n",
    "# multiply house_data and coeefs with matrix multiplication\n",
    "price = np.matmul(house_data, coeffs).mean() + constant\n",
    "print(price)"
   ]
  }
 ],
 "metadata": {
  "kernelspec": {
   "display_name": ".venv",
   "language": "python",
   "name": "python3"
  },
  "language_info": {
   "codemirror_mode": {
    "name": "ipython",
    "version": 3
   },
   "file_extension": ".py",
   "mimetype": "text/x-python",
   "name": "python",
   "nbconvert_exporter": "python",
   "pygments_lexer": "ipython3",
   "version": "3.7.0"
  }
 },
 "nbformat": 4,
 "nbformat_minor": 2
}
