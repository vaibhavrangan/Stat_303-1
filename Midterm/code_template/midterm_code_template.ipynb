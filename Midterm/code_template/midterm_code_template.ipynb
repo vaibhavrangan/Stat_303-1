{
 "cells": [
  {
   "cell_type": "raw",
   "id": "05e1d7c1",
   "metadata": {
    "vscode": {
     "languageId": "raw"
    }
   },
   "source": [
    "---\n",
    "title: \" Midterm solution\"\n",
    "format: \n",
    "  html:\n",
    "    toc: true\n",
    "    toc-title: Contents\n",
    "    toc-depth: 4\n",
    "    self-contained: true\n",
    "    html-math-method: mathml \n",
    "jupyter: python3\n",
    "---"
   ]
  },
  {
   "cell_type": "markdown",
   "id": "4328ad55",
   "metadata": {},
   "source": [
    "## Import libraries & Read datasets"
   ]
  },
  {
   "cell_type": "code",
   "execution_count": 171,
   "id": "66d6e94e",
   "metadata": {},
   "outputs": [],
   "source": [
    "import pandas as pd\n",
    "import numpy as np\n",
    "import matplotlib.pyplot as plt\n",
    "\n",
    "starbucks_states = pd.read_csv(\"/Users/vaibhavrangan/Downloads/Stat_303-1/Midterm/starbucks_DrinkType_USStates.csv\")\n",
    "nutrition = pd.read_csv(\"/Users/vaibhavrangan/Downloads/Stat_303-1/Midterm/starbucks-menu-nutrition-drinks.csv\")\n",
    "restaurants = pd.read_csv(\"/Users/vaibhavrangan/Downloads/Stat_303-1/Midterm/US_restaurants.dat\")"
   ]
  },
  {
   "cell_type": "markdown",
   "id": "cb76b82c",
   "metadata": {},
   "source": [
    "## Q1"
   ]
  },
  {
   "cell_type": "code",
   "execution_count": 172,
   "id": "83bad984",
   "metadata": {},
   "outputs": [
    {
     "name": "stdout",
     "output_type": "stream",
     "text": [
      "1907\n",
      "3839\n",
      "51\n"
     ]
    }
   ],
   "source": [
    "# find the number of unique number of entries in \"name\" column in restaurants\n",
    "chains = restaurants[\"name\"].nunique()\n",
    "print(chains)\n",
    "\n",
    "# find the number of unique number of entries in \"city\" column in restaurants\n",
    "cities = restaurants[\"city\"].nunique()\n",
    "print(cities)\n",
    "\n",
    "# find the number of unique number of entries in \"province\" column in restaurants\n",
    "states = restaurants[\"province\"].nunique()\n",
    "print(states)\n",
    "\n"
   ]
  },
  {
   "cell_type": "markdown",
   "id": "32bfd0c7",
   "metadata": {},
   "source": [
    "## Q2"
   ]
  },
  {
   "cell_type": "code",
   "execution_count": 173,
   "id": "7dc3a055",
   "metadata": {},
   "outputs": [
    {
     "name": "stdout",
     "output_type": "stream",
     "text": [
      "CA    1928\n",
      "OH    1444\n",
      "FL    1360\n",
      "Name: province, dtype: int64\n"
     ]
    }
   ],
   "source": [
    "# sum number of restaurants in each state and print top 3\n",
    "state_restaurants = restaurants[\"province\"].value_counts()\n",
    "print(state_restaurants.head(3))"
   ]
  },
  {
   "cell_type": "markdown",
   "id": "0c1564e9",
   "metadata": {},
   "source": [
    "## Q3"
   ]
  },
  {
   "cell_type": "code",
   "execution_count": 174,
   "id": "a77eefad",
   "metadata": {},
   "outputs": [
    {
     "name": "stdout",
     "output_type": "stream",
     "text": [
      "19419    Subway\n",
      "Name: name, dtype: object 19419    Lynden\n",
      "Name: city, dtype: object 19419    WA\n",
      "Name: province, dtype: object\n"
     ]
    }
   ],
   "source": [
    "# slice data frame to only include restaurants excluding AK and HI\n",
    "mainland_restaurants = restaurants[restaurants[\"province\"] != \"AK\"]\n",
    "mainland_restaurants = mainland_restaurants[mainland_restaurants[\"province\"] != \"HI\"]\n",
    "\n",
    "max_lat = mainland_restaurants[\"latitude\"].max()\n",
    "northern_rest = mainland_restaurants[mainland_restaurants[\"latitude\"] == max_lat]\n",
    "print(northern_rest[\"name\"], northern_rest[\"city\"], northern_rest[\"province\"])"
   ]
  },
  {
   "cell_type": "markdown",
   "id": "0c31b9df",
   "metadata": {},
   "source": [
    "## Q4"
   ]
  },
  {
   "cell_type": "code",
   "execution_count": 175,
   "id": "1695874f",
   "metadata": {},
   "outputs": [
    {
     "name": "stdout",
     "output_type": "stream",
     "text": [
      "98.43499999999999\n",
      "5.455\n"
     ]
    }
   ],
   "source": [
    "# create new df of only fast food by checking if category contains \"Fast Food\"\n",
    "fast_food = restaurants[restaurants[\"categories\"].str.contains(\"Fast Food\")]\n",
    "perc_fast_food = 100 * (len(fast_food) / len(restaurants))\n",
    "print(perc_fast_food)\n",
    "\n",
    "# do the same for Ice Cream\n",
    "ice_cream = restaurants[restaurants[\"categories\"].str.contains(\"Ice Cream\")]\n",
    "perc_ice_cream = 100 * (len(ice_cream) / len(restaurants))\n",
    "print(perc_ice_cream)"
   ]
  },
  {
   "cell_type": "markdown",
   "id": "edd5d087",
   "metadata": {},
   "source": [
    "## Q5"
   ]
  },
  {
   "cell_type": "code",
   "execution_count": 176,
   "id": "376ad655",
   "metadata": {},
   "outputs": [
    {
     "name": "stdout",
     "output_type": "stream",
     "text": [
      "10000    CO\n",
      "10002    CO\n",
      "10003    CO\n",
      "10004    CO\n",
      "10005    CO\n",
      "10006    CO\n",
      "10008    CO\n",
      "10010    CO\n",
      "Name: province, dtype: object\n",
      "Denver\n"
     ]
    }
   ],
   "source": [
    "# sort by most recently added restaurants\n",
    "sorted_restaurants = restaurants.sort_values(\"dateAdded\", ascending=False)\n",
    "\n",
    "# find that top 8 most recently opened restaurants are in CO\n",
    "print(sorted_restaurants[\"province\"].head(8))  \n",
    "# print the number of most recent restaurants that are in CO\n",
    "recents = sorted_restaurants.head(8)\n",
    "# print the max of the counts of \"city\" in recents\n",
    "print(recents[\"city\"].value_counts().idxmax())"
   ]
  },
  {
   "cell_type": "markdown",
   "id": "481d2ee1",
   "metadata": {},
   "source": [
    "## Q6"
   ]
  },
  {
   "cell_type": "code",
   "execution_count": 177,
   "id": "a6b356e7",
   "metadata": {},
   "outputs": [
    {
     "name": "stdout",
     "output_type": "stream",
     "text": [
      "['Iced Espresso Classics - Caffe Mocha']\n",
      "Minnesota\n"
     ]
    }
   ],
   "source": [
    "# add new column \"us_consumption\" summing each state's consumption of each drink\n",
    "starbucks_states[\"us_consumption\"] = starbucks_states.iloc[:, 1:].sum(axis = 1)\n",
    "\n",
    "# find value of \"Drink\" column with highest us_comsumption\n",
    "max_us_consumption = starbucks_states[\"us_consumption\"].max()\n",
    "print(starbucks_states.loc[starbucks_states[\"us_consumption\"] == max_us_consumption, \"Drink\"].values)\n",
    "\n",
    "# sum each of the columns 1-50, corresponding to each state\n",
    "state_totals = starbucks_states.iloc[:, 1:51].sum()\n",
    "# find state with max state_totals\n",
    "max_state = state_totals.idxmax()\n",
    "print(max_state)"
   ]
  },
  {
   "cell_type": "markdown",
   "id": "0fb28f8c",
   "metadata": {},
   "source": [
    "## Q7"
   ]
  },
  {
   "cell_type": "code",
   "execution_count": 178,
   "id": "24b31d14",
   "metadata": {},
   "outputs": [
    {
     "name": "stdout",
     "output_type": "stream",
     "text": [
      "Starbucks Signature Hot Chocolate\n"
     ]
    }
   ],
   "source": [
    "\n",
    "# create new column \"fat_content\" with total fat content of each drink in florida\n",
    "florida_drinks = starbucks_states.loc[:, [\"Drink\", \"Florida\"]]\n",
    "\n",
    "# rename \"Florida\" column to drink_count\n",
    "florida_drinks = florida_drinks.rename(columns={\"Florida\": \"drink_count\"})\n",
    "\n",
    "# multiply drink_count by total fat content of each drink\n",
    "def find_fat(drink):\n",
    "    return (nutrition.loc[nutrition[\"Drink\"] == drink, [\"Saturated Fat (g)\", \"UnSaturated Fat (g)\", \"Trans Fat (g)\"]]).sum().sum()\n",
    "\n",
    "# apply find_fat to each row of florida_drinks and multiply by drink_count\n",
    "florida_drinks[\"fat_content\"] = florida_drinks[\"Drink\"].apply(find_fat) * florida_drinks[\"drink_count\"]\n",
    "\n",
    "# print drink with max fat_content\n",
    "print(florida_drinks.loc[florida_drinks[\"fat_content\"].idxmax(), \"Drink\"])\n"
   ]
  },
  {
   "cell_type": "markdown",
   "id": "979476e5",
   "metadata": {},
   "source": [
    "## Q8"
   ]
  },
  {
   "cell_type": "code",
   "execution_count": 179,
   "id": "429fc5d9",
   "metadata": {},
   "outputs": [
    {
     "name": "stdout",
     "output_type": "stream",
     "text": [
      "Indiana\n",
      "us_consumption\n"
     ]
    }
   ],
   "source": [
    "\n",
    "# calculate total fat content for each drink\n",
    "total_fat = nutrition[[\"Saturated Fat (g)\", \"UnSaturated Fat (g)\", \"Trans Fat (g)\"]].sum(axis=1)\n",
    "\n",
    "# create new column \"fat_content\" with total fat content of each drink in each state\n",
    "state_fat_content = starbucks_states.iloc[:, 1:].mul(total_fat, axis=0).sum()\n",
    "\n",
    "# create new column \"protein_content\" with total protein content of each drink in each state\n",
    "state_protein_content = starbucks_states.iloc[:, 1:].mul(nutrition[\"Protein (g)\"], axis=0).sum()\n",
    "\n",
    "# print state with minimum fat_content\n",
    "print(state_fat_content.idxmin())\n",
    "\n",
    "# print state with maximum protein_content\n",
    "print(state_protein_content.idxmax())\n",
    "\n"
   ]
  },
  {
   "cell_type": "markdown",
   "id": "fd35f93e",
   "metadata": {},
   "source": [
    "## Q9"
   ]
  },
  {
   "cell_type": "code",
   "execution_count": 180,
   "id": "2b71a514",
   "metadata": {},
   "outputs": [
    {
     "name": "stdout",
     "output_type": "stream",
     "text": [
      "10\n"
     ]
    }
   ],
   "source": [
    "# print the number of states where protein content is more than twice the fat content\n",
    "# use state_protein_content and state_fat_content columns created in Q8\n",
    "print(len(state_protein_content[state_protein_content > 2 * state_fat_content]))"
   ]
  },
  {
   "cell_type": "markdown",
   "id": "e53f4592",
   "metadata": {},
   "source": [
    "## Q10: Bonus question"
   ]
  },
  {
   "cell_type": "code",
   "execution_count": null,
   "id": "55cee8bb",
   "metadata": {},
   "outputs": [],
   "source": []
  },
  {
   "cell_type": "code",
   "execution_count": null,
   "id": "51a63b29",
   "metadata": {},
   "outputs": [],
   "source": []
  }
 ],
 "metadata": {
  "kernelspec": {
   "display_name": ".venv",
   "language": "python",
   "name": "python3"
  },
  "language_info": {
   "codemirror_mode": {
    "name": "ipython",
    "version": 3
   },
   "file_extension": ".py",
   "mimetype": "text/x-python",
   "name": "python",
   "nbconvert_exporter": "python",
   "pygments_lexer": "ipython3",
   "version": "3.7.0"
  }
 },
 "nbformat": 4,
 "nbformat_minor": 5
}
