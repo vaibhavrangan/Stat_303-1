{
 "cells": [
  {
   "cell_type": "raw",
   "id": "33dd6c4c",
   "metadata": {
    "vscode": {
     "languageId": "raw"
    }
   },
   "source": [
    "---\n",
    "title: \"Project Code\"\n",
    "subtitle: Team name\n",
    "author: Author 1, Author 2, Author 3, and Author 4 \n",
    "date: 12/09/2024\n",
    "number-sections: true\n",
    "abstract: _This file contains the code for the project on <>, as part of the STAT303-1-Sec20&21 course in Fall 2024_.\n",
    "format: \n",
    "  html:\n",
    "    toc: true\n",
    "    toc-title: Contents\n",
    "    self-contained: true\n",
    "    font-size: 100%\n",
    "    toc-depth: 4\n",
    "    mainfont: serif\n",
    "jupyter: python3\n",
    "---"
   ]
  },
  {
   "cell_type": "markdown",
   "id": "aba5ee91",
   "metadata": {},
   "source": [
    "## Length of the code {-}\n",
    "No restriction\n",
    "\n",
    "**Delete this section from the report, when using this template.** "
   ]
  },
  {
   "cell_type": "markdown",
   "id": "fe7ea9bb",
   "metadata": {},
   "source": [
    "## Data quality check / cleaning / preparation \n",
    "\n",
    "Put code with comments. The comments should explain the code such that it can be easily understood. You may put text *(in a markdown cell)* before a large chunk of code to explain the overall purpose of the code, if it is not intuitive. **Put the name of the person / persons who contributed to each code chunk / set of code chunks.** An example is given below."
   ]
  },
  {
   "cell_type": "markdown",
   "id": "371a5a4a",
   "metadata": {},
   "source": [
    "### Distribution of variables\n",
    "*By Sylvia Sherwood*"
   ]
  },
  {
   "cell_type": "code",
   "execution_count": null,
   "id": "b868f6b5",
   "metadata": {},
   "outputs": [],
   "source": [
    "#...Plot for distribution of variables...#"
   ]
  },
  {
   "cell_type": "markdown",
   "id": "ff6b5e83",
   "metadata": {},
   "source": [
    "### Data cleaning\n",
    "*By Sankaranarayanan Balasubramanian & Fiona Fe*"
   ]
  },
  {
   "cell_type": "code",
   "execution_count": null,
   "id": "25ddf4d3",
   "metadata": {},
   "outputs": [],
   "source": [
    "#...Code with comments...#\n",
    "\n",
    "# Imputing missing values #"
   ]
  },
  {
   "cell_type": "markdown",
   "id": "424479b5",
   "metadata": {},
   "source": [
    "### Data preparation\n",
    "*By Ryu Kimiko*\n"
   ]
  },
  {
   "cell_type": "code",
   "execution_count": 3,
   "id": "bde6859d",
   "metadata": {},
   "outputs": [],
   "source": [
    "######---------------Creating new variables----------------#########\n",
    "\n",
    "#Creating number of bedrooms per unit floor area\n",
    "\n",
    "#Creating ratio of bathrooms to bedrooms\n",
    "\n",
    "#Creating ratio of carpet area to floor area"
   ]
  },
  {
   "cell_type": "code",
   "execution_count": null,
   "id": "edf0986d",
   "metadata": {},
   "outputs": [],
   "source": [
    "######-----Standardizing the dataset ----------------------#########"
   ]
  },
  {
   "cell_type": "markdown",
   "id": "fbb11c9b",
   "metadata": {},
   "source": [
    "## Exploratory data analysis"
   ]
  },
  {
   "cell_type": "markdown",
   "id": "e4bd74a9",
   "metadata": {},
   "source": [
    "Put code with comments. The comments should explain the code such that it can be easily understood. You may put text *(in a markdown cell)* before a large chunk of code to explain the overall purpose of the code, if it is not intuitive. **Put the name of the person / persons who contributed to each code chunk / set of code chunks.**"
   ]
  },
  {
   "cell_type": "markdown",
   "id": "e2cc5c7f",
   "metadata": {},
   "source": [
    "### Analysis 1\n",
    "*By \\<Name of person doing the analysis>*"
   ]
  },
  {
   "cell_type": "markdown",
   "id": "1b80efcc",
   "metadata": {},
   "source": [
    "### Analysis 2\n",
    "*By \\<Name of person doing the analysis>*"
   ]
  },
  {
   "cell_type": "markdown",
   "id": "0f2266f4",
   "metadata": {},
   "source": [
    "### Analysis 3\n",
    "*By \\<Name of person doing the analysis>*"
   ]
  },
  {
   "cell_type": "markdown",
   "id": "796df2f5",
   "metadata": {},
   "source": [
    "### Analysis 4\n",
    "*By \\<Name of person doing the analysis>*"
   ]
  },
  {
   "cell_type": "markdown",
   "id": "acab331a",
   "metadata": {},
   "source": [
    "## Other sections"
   ]
  },
  {
   "cell_type": "markdown",
   "id": "ae5ec4c9",
   "metadata": {},
   "source": [
    "Put code with comments. The comments should explain the code such that it can be easily understood. You may put text *(in a markdown cell)* before a large chunk of code to explain the overall purpose of the code, if it is not intuitive. **Put the name of the person / persons who contributed to each code chunk / set of code chunks.**\n",
    "\n",
    "Put each model in a section of its name and mention the name of the team-member tuning the model. Below is an example:"
   ]
  },
  {
   "cell_type": "markdown",
   "id": "62a185cb",
   "metadata": {},
   "source": [
    "## Conclusions and Recommendations to stakeholder(s)\n",
    "\n",
    "You may or may not have code to put in this section. Delete this section if it is irrelevant."
   ]
  }
 ],
 "metadata": {
  "kernelspec": {
   "display_name": "stat303_env",
   "language": "python",
   "name": "python3"
  },
  "language_info": {
   "codemirror_mode": {
    "name": "ipython",
    "version": 3
   },
   "file_extension": ".py",
   "mimetype": "text/x-python",
   "name": "python",
   "nbconvert_exporter": "python",
   "pygments_lexer": "ipython3",
   "version": "3.12.4"
  }
 },
 "nbformat": 4,
 "nbformat_minor": 5
}
