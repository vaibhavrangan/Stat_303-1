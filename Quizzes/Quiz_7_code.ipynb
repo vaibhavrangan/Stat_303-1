{
 "cells": [
  {
   "cell_type": "code",
   "execution_count": 4,
   "metadata": {},
   "outputs": [],
   "source": [
    "import pandas as pd\n",
    "import numpy as np\n",
    "import matplotlib.pyplot as plt\n",
    "\n",
    "gdp_data = pd.read_csv(\"/Users/vaibhavrangan/Downloads/Stat_303-1/Data/gdpPerCapita.csv\")"
   ]
  },
  {
   "cell_type": "code",
   "execution_count": 11,
   "metadata": {},
   "outputs": [
    {
     "name": "stdout",
     "output_type": "stream",
     "text": [
      "-50082.38986\n",
      "Kuwait\n",
      "1977\n"
     ]
    }
   ],
   "source": [
    "gdp_diffs = gdp_data.drop(\"country\", axis = 1).diff(axis = 1)\n",
    "max_dec = gdp_diffs.min(axis = 1)\n",
    "print(max_dec.min())\n",
    "print(gdp_data.loc[max_dec.idxmin(), \"country\"])\n",
    "\n",
    "year_after = int(gdp_diffs.iloc[max_dec.idxmin()].idxmin())\n",
    "print(year_after)\n"
   ]
  }
 ],
 "metadata": {
  "kernelspec": {
   "display_name": ".venv",
   "language": "python",
   "name": "python3"
  },
  "language_info": {
   "codemirror_mode": {
    "name": "ipython",
    "version": 3
   },
   "file_extension": ".py",
   "mimetype": "text/x-python",
   "name": "python",
   "nbconvert_exporter": "python",
   "pygments_lexer": "ipython3",
   "version": "3.7.0"
  }
 },
 "nbformat": 4,
 "nbformat_minor": 2
}
