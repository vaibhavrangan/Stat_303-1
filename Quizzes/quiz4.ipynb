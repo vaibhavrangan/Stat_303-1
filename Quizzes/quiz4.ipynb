{
 "cells": [
  {
   "cell_type": "code",
   "execution_count": 17,
   "metadata": {},
   "outputs": [],
   "source": [
    "import pandas as pd\n",
    "import numpy as np\n",
    "import os\n",
    "\n",
    "survey_data = pd.read_csv(\"/Users/vaibhavrangan/Downloads/Stat_303-1/Data/STAT303-1 Fall 2023 survey for data analysis-1.csv\")"
   ]
  },
  {
   "cell_type": "code",
   "execution_count": 20,
   "metadata": {},
   "outputs": [
    {
     "name": "stdout",
     "output_type": "stream",
     "text": [
      "29\n",
      "30\n",
      "6\n"
     ]
    }
   ],
   "source": [
    "sleep_percentile_data = np.percentile(survey_data[\"hours_sleep_per_night\"], 25)\n",
    "num_students_below_25th = np.sum(survey_data[\"hours_sleep_per_night\"] < sleep_percentile_data)\n",
    "\n",
    "percentile_75 = np.percentile(survey_data[\"exercise_minutes_per_week\"], 75)\n",
    "num_students_above_75th = np.sum(survey_data[\"exercise_minutes_per_week\"] > percentile_75)\n",
    "\n",
    "both_conditions = np.sum((survey_data[\"exercise_minutes_per_week\"] > percentile_75) & (survey_data[\"hours_sleep_per_night\"] < sleep_percentile_data))\n",
    "print(num_students_below_25th)\n",
    "print(num_students_above_75th)\n",
    "print(both_conditions)"
   ]
  },
  {
   "cell_type": "code",
   "execution_count": 30,
   "metadata": {},
   "outputs": [
    {
     "name": "stdout",
     "output_type": "stream",
     "text": [
      "New Zealand\n"
     ]
    }
   ],
   "source": [
    "capital_data = pd.read_csv(\"/Users/vaibhavrangan/Downloads/Stat_303-1/Data/country-capital-lat-long-population.csv\")\n",
    "\n",
    "dc_latitude = capital_data.loc[capital_data['Country'] == 'United States of America', ['Latitude']].values[0]\n",
    "dc_longitude = capital_data.loc[capital_data['Country'] == 'United States of America', ['Longitude']].values[0]\n",
    "\n",
    "capital_data[\"distance_from_dc\"] = ((capital_data[\"Latitude\"] - dc_latitude)**2 + (capital_data[\"Longitude\"] - dc_longitude)**2)**0.5\n",
    "furthest_country = capital_data.loc[capital_data[\"distance_from_dc\"].idxmax(), \"Country\"]\n",
    "print(furthest_country)\n",
    "\n"
   ]
  },
  {
   "cell_type": "code",
   "execution_count": 33,
   "metadata": {},
   "outputs": [
    {
     "name": "stdout",
     "output_type": "stream",
     "text": [
      "Fiji\n",
      "Tuvalu\n",
      "Vanuatu\n",
      "Nauru\n"
     ]
    }
   ],
   "source": [
    "capital_data_sorted = capital_data.sort_values(by=\"distance_from_dc\", ascending = False)\n",
    "print(capital_data_sorted.iloc[1][\"Country\"])\n",
    "print(capital_data_sorted.iloc[2][\"Country\"])\n",
    "print(capital_data_sorted.iloc[4][\"Country\"])\n",
    "print(capital_data_sorted.iloc[7][\"Country\"])\n",
    "\n"
   ]
  }
 ],
 "metadata": {
  "kernelspec": {
   "display_name": "stat303_env",
   "language": "python",
   "name": "python3"
  },
  "language_info": {
   "codemirror_mode": {
    "name": "ipython",
    "version": 3
   },
   "file_extension": ".py",
   "mimetype": "text/x-python",
   "name": "python",
   "nbconvert_exporter": "python",
   "pygments_lexer": "ipython3",
   "version": "3.7.0"
  }
 },
 "nbformat": 4,
 "nbformat_minor": 2
}
