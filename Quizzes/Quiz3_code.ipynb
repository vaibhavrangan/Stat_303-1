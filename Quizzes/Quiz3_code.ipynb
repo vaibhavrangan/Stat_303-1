{
 "cells": [
  {
   "cell_type": "raw",
   "id": "9ca0c753",
   "metadata": {},
   "source": [
    "---\n",
    "title: \"Quiz 1 solution\"\n",
    "format: \n",
    "  html:\n",
    "    toc: true\n",
    "    toc-title: Contents\n",
    "    toc-depth: 4\n",
    "    self-contained: true\n",
    "    html-math-method: mathml \n",
    "jupyter: python3\n",
    "---"
   ]
  },
  {
   "cell_type": "markdown",
   "id": "2a801829",
   "metadata": {},
   "source": [
    "# Read data"
   ]
  },
  {
   "cell_type": "code",
   "execution_count": 2,
   "id": "10c19ce4",
   "metadata": {},
   "outputs": [],
   "source": [
    "import pandas as pd\n",
    "import os\n",
    "\n",
    "survey_data = pd.read_csv(\"/Users/vaibhavrangan/Downloads/Stat_303-1/Data/STAT303-1 survey for data analysis.csv\")"
   ]
  },
  {
   "cell_type": "markdown",
   "id": "9d124615",
   "metadata": {},
   "source": [
    "# Q1"
   ]
  },
  {
   "cell_type": "code",
   "execution_count": 3,
   "id": "f74f6565",
   "metadata": {},
   "outputs": [
    {
     "data": {
      "text/plain": [
       "(192, 51)"
      ]
     },
     "execution_count": 3,
     "metadata": {},
     "output_type": "execute_result"
    }
   ],
   "source": [
    "survey_data.shape"
   ]
  },
  {
   "cell_type": "markdown",
   "id": "db762045",
   "metadata": {},
   "source": [
    "# Q2"
   ]
  },
  {
   "cell_type": "code",
   "execution_count": 7,
   "id": "55442453",
   "metadata": {},
   "outputs": [
    {
     "name": "stdout",
     "output_type": "stream",
     "text": [
      "34\n"
     ]
    }
   ],
   "source": [
    "beer_drinkers = survey_data.loc[survey_data[\"fav_alcohol\"] == \"Beer\"]\n",
    "print(len(beer_drinkers))"
   ]
  },
  {
   "cell_type": "markdown",
   "id": "a4fe7930",
   "metadata": {},
   "source": [
    "# Q3"
   ]
  },
  {
   "cell_type": "code",
   "execution_count": 10,
   "id": "5e87f040",
   "metadata": {},
   "outputs": [
    {
     "name": "stdout",
     "output_type": "stream",
     "text": [
      "80.72727272727273\n",
      "16.32\n"
     ]
    },
    {
     "name": "stderr",
     "output_type": "stream",
     "text": [
      "/Users/vaibhavrangan/Downloads/Stat_303-1/.venv/lib/python3.7/site-packages/pandas/core/frame.py:4308: SettingWithCopyWarning: \n",
      "A value is trying to be set on a copy of a slice from a DataFrame\n",
      "\n",
      "See the caveats in the documentation: https://pandas.pydata.org/pandas-docs/stable/user_guide/indexing.html#returning-a-view-versus-a-copy\n",
      "  errors=errors,\n",
      "/Users/vaibhavrangan/Downloads/Stat_303-1/.venv/lib/python3.7/site-packages/ipykernel_launcher.py:6: SettingWithCopyWarning: \n",
      "A value is trying to be set on a copy of a slice from a DataFrame.\n",
      "Try using .loc[row_indexer,col_indexer] = value instead\n",
      "\n",
      "See the caveats in the documentation: https://pandas.pydata.org/pandas-docs/stable/user_guide/indexing.html#returning-a-view-versus-a-copy\n",
      "  \n",
      "/Users/vaibhavrangan/Downloads/Stat_303-1/.venv/lib/python3.7/site-packages/ipykernel_launcher.py:18: SettingWithCopyWarning: \n",
      "A value is trying to be set on a copy of a slice from a DataFrame.\n",
      "Try using .loc[row_indexer,col_indexer] = value instead\n",
      "\n",
      "See the caveats in the documentation: https://pandas.pydata.org/pandas-docs/stable/user_guide/indexing.html#returning-a-view-versus-a-copy\n"
     ]
    }
   ],
   "source": [
    "beer_drinkers.rename(\n",
    "    columns={\"On average (approx.) how many parties a month do you attend during the school year? Enter a whole number (0, 1, 2, 3, 4, ...)\": \"parties_per_month\"}, \n",
    "    inplace=True\n",
    ")\n",
    "\n",
    "beer_drinkers[\"parties_per_month\"] = pd.to_numeric(beer_drinkers[\"parties_per_month\"], errors='coerce')\n",
    "print(12*beer_drinkers[\"parties_per_month\"].mean())\n",
    "\n",
    "survey_data.rename(\n",
    "    columns={\"On average (approx.) how many parties a month do you attend during the school year? Enter a whole number (0, 1, 2, 3, 4, ...)\": \"parties_per_month\"}, \n",
    "    inplace=True\n",
    ")\n",
    "\n",
    "non_drinkers = survey_data.loc[survey_data[\"fav_alcohol\"] == \"I don't drink\"]\n",
    "non_drinkers.rename(columns={\"On average (approx.) how many parties a month do you attend during the school year? Enter a whole number (0, 1, 2, 3, 4, ...)\": \"parties_per_month\"}, \n",
    "    inplace=True)\n",
    "\n",
    "non_drinkers[\"parties_per_month\"] = pd.to_numeric(non_drinkers[\"parties_per_month\"], errors='coerce')\n",
    "print(12*non_drinkers[\"parties_per_month\"].mean())"
   ]
  }
 ],
 "metadata": {
  "kernelspec": {
   "display_name": "Python 3 (ipykernel)",
   "language": "python",
   "name": "python3"
  },
  "language_info": {
   "codemirror_mode": {
    "name": "ipython",
    "version": 3
   },
   "file_extension": ".py",
   "mimetype": "text/x-python",
   "name": "python",
   "nbconvert_exporter": "python",
   "pygments_lexer": "ipython3",
   "version": "3.7.0"
  }
 },
 "nbformat": 4,
 "nbformat_minor": 5
}
