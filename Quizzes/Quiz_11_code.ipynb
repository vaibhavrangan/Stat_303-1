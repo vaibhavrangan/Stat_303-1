{
 "cells": [
  {
   "cell_type": "code",
   "execution_count": 1,
   "metadata": {},
   "outputs": [],
   "source": [
    "import pandas as pd\n",
    "import numpy as np\n",
    "import seaborn as sns\n",
    "import matplotlib.pyplot as plt\n",
    "\n",
    "data = pd.read_csv(\"/Users/vaibhavrangan/Downloads/Stat_303-1/Data/survey_data_clean.csv\")\n",
    "\n"
   ]
  },
  {
   "cell_type": "code",
   "execution_count": 2,
   "metadata": {},
   "outputs": [
    {
     "data": {
      "text/plain": [
       "NU_GPA                           1.000000\n",
       "sleep_hours_per_day              0.143997\n",
       "num_majors_minors                0.141988\n",
       "only_child                       0.106440\n",
       "much_effort_is_lack_of_talent    0.047840\n",
       "farthest_distance_travelled      0.038238\n",
       "math_is_genetic                  0.036731\n",
       "num_clubs                        0.016724\n",
       "expected_marriage_age            0.011925\n",
       "num_insta_followers              0.004702\n",
       "cant_change_math_ability         0.002094\n",
       "used_python_before              -0.008536\n",
       "internet_hours_per_day          -0.014531\n",
       "AP_stats                        -0.026544\n",
       "student_athlete                 -0.027378\n",
       "childhood_in_US                 -0.028968\n",
       "high_school_GPA                 -0.030883\n",
       "height_father                   -0.040120\n",
       "expected_starting_salary        -0.048069\n",
       "age                             -0.052039\n",
       "height_mother                   -0.079276\n",
       "parties_per_month               -0.080548\n",
       "height                          -0.099082\n",
       "minutes_ex_per_week             -0.108177\n",
       "love_first_sight                -0.114041\n",
       "can_change_math_ability         -0.137330\n",
       "procrastinator                  -0.269552\n",
       "fav_number                      -0.307656\n",
       "Name: NU_GPA, dtype: float64"
      ]
     },
     "execution_count": 2,
     "metadata": {},
     "output_type": "execute_result"
    }
   ],
   "source": [
    "# find variable with strongest correlation with NU_GPA\n",
    "\n",
    "data.corr()[\"NU_GPA\"].sort_values(ascending=False)"
   ]
  },
  {
   "cell_type": "code",
   "execution_count": 3,
   "metadata": {},
   "outputs": [
    {
     "name": "stdout",
     "output_type": "stream",
     "text": [
      "much_effort_is_lack_of_talent\n"
     ]
    }
   ],
   "source": [
    "def calculate_outliers(col):\n",
    "    q1 = col.quantile(0.25)\n",
    "    q3 = col.quantile(0.75)\n",
    "    iqr = q3 - q1\n",
    "    lower_bound = q1 - 1.5 * iqr\n",
    "    upper_bound = q3 + 1.5 * iqr\n",
    "\n",
    "    # return number of outliers\n",
    "    return len(col[(col < lower_bound) | (col > upper_bound)])\n",
    "\n",
    "# apply calculate_outliers to each column of data\n",
    "outliers = data.select_dtypes(include='number').apply(calculate_outliers, axis = 0)\n",
    "print(outliers.idxmax())\n"
   ]
  },
  {
   "cell_type": "code",
   "execution_count": 7,
   "metadata": {},
   "outputs": [
    {
     "name": "stdout",
     "output_type": "stream",
     "text": [
      "num_clubs\n"
     ]
    }
   ],
   "source": [
    "from scipy import stats\n",
    "\n",
    "def z_outliers(col):\n",
    "    z = stats.zscore(col)\n",
    "    return (len(col[abs(z) > 3]))\n",
    "\n",
    "# apply z_outliers to each column of data\n",
    "z_outliers = data.select_dtypes(include='number').apply(z_outliers, axis = 0)\n",
    "print(z_outliers.idxmax())"
   ]
  },
  {
   "cell_type": "code",
   "execution_count": 8,
   "metadata": {},
   "outputs": [
    {
     "name": "stdout",
     "output_type": "stream",
     "text": [
      "0.5 4.5\n"
     ]
    }
   ],
   "source": [
    "q1_clubs = data[\"num_clubs\"].quantile(0.25)\n",
    "q3_clubs = data[\"num_clubs\"].quantile(0.75)\n",
    "\n",
    "iqr_clubs = q3_clubs - q1_clubs\n",
    "lower_bound_clubs = q1_clubs - 1.5 * iqr_clubs\n",
    "upper_bound_clubs = q3_clubs + 1.5 * iqr_clubs\n",
    "\n",
    "print(lower_bound_clubs, upper_bound_clubs)"
   ]
  }
 ],
 "metadata": {
  "kernelspec": {
   "display_name": ".venv",
   "language": "python",
   "name": "python3"
  },
  "language_info": {
   "codemirror_mode": {
    "name": "ipython",
    "version": 3
   },
   "file_extension": ".py",
   "mimetype": "text/x-python",
   "name": "python",
   "nbconvert_exporter": "python",
   "pygments_lexer": "ipython3",
   "version": "3.7.0"
  }
 },
 "nbformat": 4,
 "nbformat_minor": 2
}
