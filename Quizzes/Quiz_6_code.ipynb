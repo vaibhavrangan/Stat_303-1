{
 "cells": [
  {
   "cell_type": "raw",
   "id": "05e1d7c1",
   "metadata": {},
   "source": [
    "---\n",
    "title: \"Quiz 6 code\"\n",
    "format: \n",
    "  html:\n",
    "    toc: true\n",
    "    toc-title: Contents\n",
    "    toc-depth: 4\n",
    "    self-contained: true\n",
    "    html-math-method: mathml \n",
    "jupyter: python3\n",
    "---"
   ]
  },
  {
   "cell_type": "code",
   "execution_count": 16,
   "id": "3b89d2f3",
   "metadata": {},
   "outputs": [],
   "source": [
    "import pandas as pd\n",
    "data = pd.read_csv('/Users/vaibhavrangan/Downloads/Stat_303-1/Data/gdpPerCapita.csv')"
   ]
  },
  {
   "cell_type": "code",
   "execution_count": 17,
   "id": "64e90ce4",
   "metadata": {},
   "outputs": [
    {
     "data": {
      "text/html": [
       "<div>\n",
       "<style scoped>\n",
       "    .dataframe tbody tr th:only-of-type {\n",
       "        vertical-align: middle;\n",
       "    }\n",
       "\n",
       "    .dataframe tbody tr th {\n",
       "        vertical-align: top;\n",
       "    }\n",
       "\n",
       "    .dataframe thead th {\n",
       "        text-align: right;\n",
       "    }\n",
       "</style>\n",
       "<table border=\"1\" class=\"dataframe\">\n",
       "  <thead>\n",
       "    <tr style=\"text-align: right;\">\n",
       "      <th></th>\n",
       "      <th>country</th>\n",
       "      <th>1952</th>\n",
       "      <th>1957</th>\n",
       "      <th>1962</th>\n",
       "      <th>1967</th>\n",
       "      <th>1972</th>\n",
       "      <th>1977</th>\n",
       "      <th>1982</th>\n",
       "      <th>1987</th>\n",
       "      <th>1992</th>\n",
       "      <th>1997</th>\n",
       "      <th>2002</th>\n",
       "      <th>2007</th>\n",
       "    </tr>\n",
       "  </thead>\n",
       "  <tbody>\n",
       "    <tr>\n",
       "      <th>0</th>\n",
       "      <td>Afghanistan</td>\n",
       "      <td>779.445314</td>\n",
       "      <td>820.853030</td>\n",
       "      <td>853.100710</td>\n",
       "      <td>836.197138</td>\n",
       "      <td>739.981106</td>\n",
       "      <td>786.113360</td>\n",
       "      <td>978.011439</td>\n",
       "      <td>852.395945</td>\n",
       "      <td>649.341395</td>\n",
       "      <td>635.341351</td>\n",
       "      <td>726.734055</td>\n",
       "      <td>974.580338</td>\n",
       "    </tr>\n",
       "    <tr>\n",
       "      <th>1</th>\n",
       "      <td>Albania</td>\n",
       "      <td>1601.056136</td>\n",
       "      <td>1942.284244</td>\n",
       "      <td>2312.888958</td>\n",
       "      <td>2760.196931</td>\n",
       "      <td>3313.422188</td>\n",
       "      <td>3533.003910</td>\n",
       "      <td>3630.880722</td>\n",
       "      <td>3738.932735</td>\n",
       "      <td>2497.437901</td>\n",
       "      <td>3193.054604</td>\n",
       "      <td>4604.211737</td>\n",
       "      <td>5937.029526</td>\n",
       "    </tr>\n",
       "    <tr>\n",
       "      <th>2</th>\n",
       "      <td>Algeria</td>\n",
       "      <td>2449.008185</td>\n",
       "      <td>3013.976023</td>\n",
       "      <td>2550.816880</td>\n",
       "      <td>3246.991771</td>\n",
       "      <td>4182.663766</td>\n",
       "      <td>4910.416756</td>\n",
       "      <td>5745.160213</td>\n",
       "      <td>5681.358539</td>\n",
       "      <td>5023.216647</td>\n",
       "      <td>4797.295051</td>\n",
       "      <td>5288.040382</td>\n",
       "      <td>6223.367465</td>\n",
       "    </tr>\n",
       "    <tr>\n",
       "      <th>3</th>\n",
       "      <td>Angola</td>\n",
       "      <td>3520.610273</td>\n",
       "      <td>3827.940465</td>\n",
       "      <td>4269.276742</td>\n",
       "      <td>5522.776375</td>\n",
       "      <td>5473.288005</td>\n",
       "      <td>3008.647355</td>\n",
       "      <td>2756.953672</td>\n",
       "      <td>2430.208311</td>\n",
       "      <td>2627.845685</td>\n",
       "      <td>2277.140884</td>\n",
       "      <td>2773.287312</td>\n",
       "      <td>4797.231267</td>\n",
       "    </tr>\n",
       "    <tr>\n",
       "      <th>4</th>\n",
       "      <td>Argentina</td>\n",
       "      <td>5911.315053</td>\n",
       "      <td>6856.856212</td>\n",
       "      <td>7133.166023</td>\n",
       "      <td>8052.953021</td>\n",
       "      <td>9443.038526</td>\n",
       "      <td>10079.026740</td>\n",
       "      <td>8997.897412</td>\n",
       "      <td>9139.671389</td>\n",
       "      <td>9308.418710</td>\n",
       "      <td>10967.281950</td>\n",
       "      <td>8797.640716</td>\n",
       "      <td>12779.379640</td>\n",
       "    </tr>\n",
       "  </tbody>\n",
       "</table>\n",
       "</div>"
      ],
      "text/plain": [
       "       country         1952         1957         1962         1967  \\\n",
       "0  Afghanistan   779.445314   820.853030   853.100710   836.197138   \n",
       "1      Albania  1601.056136  1942.284244  2312.888958  2760.196931   \n",
       "2      Algeria  2449.008185  3013.976023  2550.816880  3246.991771   \n",
       "3       Angola  3520.610273  3827.940465  4269.276742  5522.776375   \n",
       "4    Argentina  5911.315053  6856.856212  7133.166023  8052.953021   \n",
       "\n",
       "          1972          1977         1982         1987         1992  \\\n",
       "0   739.981106    786.113360   978.011439   852.395945   649.341395   \n",
       "1  3313.422188   3533.003910  3630.880722  3738.932735  2497.437901   \n",
       "2  4182.663766   4910.416756  5745.160213  5681.358539  5023.216647   \n",
       "3  5473.288005   3008.647355  2756.953672  2430.208311  2627.845685   \n",
       "4  9443.038526  10079.026740  8997.897412  9139.671389  9308.418710   \n",
       "\n",
       "           1997         2002          2007  \n",
       "0    635.341351   726.734055    974.580338  \n",
       "1   3193.054604  4604.211737   5937.029526  \n",
       "2   4797.295051  5288.040382   6223.367465  \n",
       "3   2277.140884  2773.287312   4797.231267  \n",
       "4  10967.281950  8797.640716  12779.379640  "
      ]
     },
     "execution_count": 17,
     "metadata": {},
     "output_type": "execute_result"
    }
   ],
   "source": [
    "data.head()"
   ]
  },
  {
   "cell_type": "markdown",
   "id": "18ea7ce1",
   "metadata": {},
   "source": [
    "# Solution"
   ]
  },
  {
   "cell_type": "markdown",
   "id": "32bfd0c7",
   "metadata": {},
   "source": [
    "## Q1"
   ]
  },
  {
   "cell_type": "code",
   "execution_count": 18,
   "id": "ed1f1566",
   "metadata": {},
   "outputs": [
    {
     "name": "stdout",
     "output_type": "stream",
     "text": [
      "country     Kuwait\n",
      "1952        108382\n",
      "1957        113523\n",
      "1962       95458.1\n",
      "1967       80894.9\n",
      "1972        109348\n",
      "1977       59265.5\n",
      "1982         31354\n",
      "1987       28118.4\n",
      "1992       34932.9\n",
      "1997       40300.6\n",
      "2002       35110.1\n",
      "2007         47307\n",
      "range      85404.7\n",
      "Name: 71, dtype: object\n",
      "country    Burundi\n",
      "1952       339.296\n",
      "1957       379.565\n",
      "1962       355.203\n",
      "1967       412.978\n",
      "1972         464.1\n",
      "1977       556.103\n",
      "1982       559.603\n",
      "1987       621.819\n",
      "1992         631.7\n",
      "1997       463.115\n",
      "2002       446.404\n",
      "2007       430.071\n",
      "range      292.403\n",
      "Name: 17, dtype: object\n"
     ]
    }
   ],
   "source": [
    "\n",
    "# return the same output with an apply() function\n",
    "data['range'] = data.loc[:, '1952':'2007'].apply(lambda x: x.max() - x.min(), axis=1)\n",
    "\n",
    "print(data.loc[data['range'].idxmax()])\n",
    "print(data.loc[data['range'].idxmin()])"
   ]
  },
  {
   "cell_type": "markdown",
   "id": "f716c1c6",
   "metadata": {},
   "source": [
    "## Q2"
   ]
  },
  {
   "cell_type": "code",
   "execution_count": 19,
   "id": "77be9296",
   "metadata": {},
   "outputs": [
    {
     "name": "stdout",
     "output_type": "stream",
     "text": [
      "1957\n",
      "1987\n"
     ]
    }
   ],
   "source": [
    "print(data.loc[:, '1952':'2007'].apply(lambda x: x.max() - x.min()).idxmax())\n",
    "print(data.loc[:, '1952':'2007'].apply(lambda x: x.max() - x.min()).idxmin())"
   ]
  }
 ],
 "metadata": {
  "kernelspec": {
   "display_name": ".venv",
   "language": "python",
   "name": "python3"
  },
  "language_info": {
   "codemirror_mode": {
    "name": "ipython",
    "version": 3
   },
   "file_extension": ".py",
   "mimetype": "text/x-python",
   "name": "python",
   "nbconvert_exporter": "python",
   "pygments_lexer": "ipython3",
   "version": "3.7.0"
  }
 },
 "nbformat": 4,
 "nbformat_minor": 5
}
