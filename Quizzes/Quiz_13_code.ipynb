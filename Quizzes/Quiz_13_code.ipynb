{
 "cells": [
  {
   "cell_type": "raw",
   "id": "9ca0c753",
   "metadata": {
    "vscode": {
     "languageId": "raw"
    }
   },
   "source": [
    "---\n",
    "title: \"Quiz 13 solution\"\n",
    "format: \n",
    "  html:\n",
    "    toc: true\n",
    "    toc-title: Contents\n",
    "    toc-depth: 4\n",
    "    self-contained: true\n",
    "    html-math-method: mathml \n",
    "jupyter: python3\n",
    "---"
   ]
  },
  {
   "cell_type": "markdown",
   "id": "2a801829",
   "metadata": {},
   "source": [
    "# Read data"
   ]
  },
  {
   "cell_type": "markdown",
   "id": "9d124615",
   "metadata": {},
   "source": [
    "# Q \n",
    "\n",
    "Label each code cell with the corresponding question number as a header. Feel free to add or remove cells as needed"
   ]
  },
  {
   "cell_type": "code",
   "execution_count": 6,
   "id": "f74f6565",
   "metadata": {},
   "outputs": [
    {
     "name": "stdout",
     "output_type": "stream",
     "text": [
      "<class 'pandas.core.frame.DataFrame'>\n",
      "<class 'pandas.core.frame.DataFrame'>\n",
      "<class 'pandas.core.frame.DataFrame'>\n",
      "<class 'pandas.core.frame.DataFrame'>\n",
      "<class 'pandas.core.frame.DataFrame'>\n",
      "<class 'pandas.core.frame.DataFrame'>\n",
      "<class 'pandas.core.frame.DataFrame'>\n",
      "<class 'pandas.core.frame.DataFrame'>\n",
      "<class 'pandas.core.frame.DataFrame'>\n",
      "<class 'pandas.core.frame.DataFrame'>\n",
      "<class 'pandas.core.frame.DataFrame'>\n",
      "<class 'pandas.core.frame.DataFrame'>\n",
      "<class 'pandas.core.frame.DataFrame'>\n"
     ]
    },
    {
     "data": {
      "text/plain": [
       "genres         \n",
       "country  2204           Morgan Wallen\n",
       "         3513           Morgan Wallen\n",
       "         16251          Morgan Wallen\n",
       "         16250          Morgan Wallen\n",
       "         16249          Morgan Wallen\n",
       "                          ...        \n",
       "rock     121667        Eikichi Yazawa\n",
       "         121666        Eikichi Yazawa\n",
       "         121665        Eikichi Yazawa\n",
       "         121664        Eikichi Yazawa\n",
       "         123372    Tsuyoshi Nagabuchi\n",
       "Name: artist_name, Length: 243190, dtype: object"
      ]
     },
     "execution_count": 6,
     "metadata": {},
     "output_type": "execute_result"
    }
   ],
   "source": [
    "import pandas as pd\n",
    "import numpy as np\n",
    "import matplotlib.pyplot as plt\n",
    "\n",
    "spotify_data_filtered = pd.read_csv(\"/Users/vaibhavrangan/Downloads/Stat_303-1/Data/spotify_data.csv\")\n",
    "spotify_data_filtered.groupby('genres').apply(lambda x: print(type(x)) or x.sort_values('artist_popularity', ascending=False))['artist_name']\n"
   ]
  },
  {
   "cell_type": "code",
   "execution_count": 3,
   "id": "ea611675",
   "metadata": {},
   "outputs": [
    {
     "name": "stdout",
     "output_type": "stream",
     "text": [
      "<class 'pandas.core.series.Series'>\n",
      "<class 'pandas.core.series.Series'>\n",
      "<class 'pandas.core.series.Series'>\n",
      "<class 'pandas.core.series.Series'>\n",
      "<class 'pandas.core.series.Series'>\n",
      "<class 'pandas.core.series.Series'>\n",
      "<class 'pandas.core.series.Series'>\n",
      "<class 'pandas.core.series.Series'>\n",
      "<class 'pandas.core.series.Series'>\n",
      "<class 'pandas.core.series.Series'>\n",
      "<class 'pandas.core.series.Series'>\n",
      "<class 'pandas.core.series.Series'>\n"
     ]
    },
    {
     "data": {
      "text/html": [
       "<div>\n",
       "<style scoped>\n",
       "    .dataframe tbody tr th:only-of-type {\n",
       "        vertical-align: middle;\n",
       "    }\n",
       "\n",
       "    .dataframe tbody tr th {\n",
       "        vertical-align: top;\n",
       "    }\n",
       "\n",
       "    .dataframe thead th {\n",
       "        text-align: right;\n",
       "    }\n",
       "</style>\n",
       "<table border=\"1\" class=\"dataframe\">\n",
       "  <thead>\n",
       "    <tr style=\"text-align: right;\">\n",
       "      <th></th>\n",
       "      <th>danceability</th>\n",
       "      <th>energy</th>\n",
       "      <th>key</th>\n",
       "      <th>loudness</th>\n",
       "      <th>mode</th>\n",
       "      <th>speechiness</th>\n",
       "      <th>acousticness</th>\n",
       "      <th>instrumentalness</th>\n",
       "      <th>liveness</th>\n",
       "      <th>valence</th>\n",
       "      <th>tempo</th>\n",
       "      <th>time_signature</th>\n",
       "    </tr>\n",
       "  </thead>\n",
       "  <tbody>\n",
       "    <tr>\n",
       "      <th>0</th>\n",
       "      <td>0.681174</td>\n",
       "      <td>0.529</td>\n",
       "      <td>0.000000</td>\n",
       "      <td>0.827905</td>\n",
       "      <td>1.0</td>\n",
       "      <td>0.315789</td>\n",
       "      <td>0.077209</td>\n",
       "      <td>0.000338</td>\n",
       "      <td>0.0856</td>\n",
       "      <td>0.203</td>\n",
       "      <td>0.665242</td>\n",
       "      <td>0.8</td>\n",
       "    </tr>\n",
       "    <tr>\n",
       "      <th>1</th>\n",
       "      <td>0.517206</td>\n",
       "      <td>0.566</td>\n",
       "      <td>0.545455</td>\n",
       "      <td>0.827843</td>\n",
       "      <td>0.0</td>\n",
       "      <td>0.206398</td>\n",
       "      <td>0.350402</td>\n",
       "      <td>0.000000</td>\n",
       "      <td>0.3400</td>\n",
       "      <td>0.218</td>\n",
       "      <td>0.344561</td>\n",
       "      <td>0.8</td>\n",
       "    </tr>\n",
       "    <tr>\n",
       "      <th>2</th>\n",
       "      <td>0.707490</td>\n",
       "      <td>0.687</td>\n",
       "      <td>0.636364</td>\n",
       "      <td>0.878561</td>\n",
       "      <td>0.0</td>\n",
       "      <td>0.109391</td>\n",
       "      <td>0.309237</td>\n",
       "      <td>0.000036</td>\n",
       "      <td>0.1210</td>\n",
       "      <td>0.499</td>\n",
       "      <td>0.365217</td>\n",
       "      <td>0.8</td>\n",
       "    </tr>\n",
       "    <tr>\n",
       "      <th>3</th>\n",
       "      <td>0.716599</td>\n",
       "      <td>0.690</td>\n",
       "      <td>0.181818</td>\n",
       "      <td>0.859987</td>\n",
       "      <td>1.0</td>\n",
       "      <td>0.045614</td>\n",
       "      <td>0.349398</td>\n",
       "      <td>0.000000</td>\n",
       "      <td>0.2220</td>\n",
       "      <td>0.543</td>\n",
       "      <td>0.328504</td>\n",
       "      <td>0.8</td>\n",
       "    </tr>\n",
       "    <tr>\n",
       "      <th>4</th>\n",
       "      <td>0.762146</td>\n",
       "      <td>0.597</td>\n",
       "      <td>0.727273</td>\n",
       "      <td>0.808405</td>\n",
       "      <td>1.0</td>\n",
       "      <td>0.301342</td>\n",
       "      <td>0.047892</td>\n",
       "      <td>0.000000</td>\n",
       "      <td>0.1970</td>\n",
       "      <td>0.616</td>\n",
       "      <td>0.316200</td>\n",
       "      <td>0.8</td>\n",
       "    </tr>\n",
       "    <tr>\n",
       "      <th>...</th>\n",
       "      <td>...</td>\n",
       "      <td>...</td>\n",
       "      <td>...</td>\n",
       "      <td>...</td>\n",
       "      <td>...</td>\n",
       "      <td>...</td>\n",
       "      <td>...</td>\n",
       "      <td>...</td>\n",
       "      <td>...</td>\n",
       "      <td>...</td>\n",
       "      <td>...</td>\n",
       "      <td>...</td>\n",
       "    </tr>\n",
       "    <tr>\n",
       "      <th>243185</th>\n",
       "      <td>0.621457</td>\n",
       "      <td>0.298</td>\n",
       "      <td>0.272727</td>\n",
       "      <td>0.768637</td>\n",
       "      <td>0.0</td>\n",
       "      <td>0.055831</td>\n",
       "      <td>0.973896</td>\n",
       "      <td>0.646000</td>\n",
       "      <td>0.0514</td>\n",
       "      <td>0.772</td>\n",
       "      <td>0.502322</td>\n",
       "      <td>0.8</td>\n",
       "    </tr>\n",
       "    <tr>\n",
       "      <th>243186</th>\n",
       "      <td>0.797571</td>\n",
       "      <td>0.395</td>\n",
       "      <td>0.909091</td>\n",
       "      <td>0.721135</td>\n",
       "      <td>1.0</td>\n",
       "      <td>0.310630</td>\n",
       "      <td>0.885542</td>\n",
       "      <td>0.844000</td>\n",
       "      <td>0.1240</td>\n",
       "      <td>0.676</td>\n",
       "      <td>0.465432</td>\n",
       "      <td>0.8</td>\n",
       "    </tr>\n",
       "    <tr>\n",
       "      <th>243187</th>\n",
       "      <td>0.533401</td>\n",
       "      <td>0.178</td>\n",
       "      <td>0.272727</td>\n",
       "      <td>0.708867</td>\n",
       "      <td>1.0</td>\n",
       "      <td>0.081837</td>\n",
       "      <td>0.992972</td>\n",
       "      <td>0.000010</td>\n",
       "      <td>0.1040</td>\n",
       "      <td>0.370</td>\n",
       "      <td>0.431581</td>\n",
       "      <td>0.8</td>\n",
       "    </tr>\n",
       "    <tr>\n",
       "      <th>243188</th>\n",
       "      <td>0.565789</td>\n",
       "      <td>0.266</td>\n",
       "      <td>0.000000</td>\n",
       "      <td>0.787462</td>\n",
       "      <td>1.0</td>\n",
       "      <td>0.052838</td>\n",
       "      <td>0.992972</td>\n",
       "      <td>0.847000</td>\n",
       "      <td>0.4480</td>\n",
       "      <td>0.576</td>\n",
       "      <td>0.415918</td>\n",
       "      <td>0.8</td>\n",
       "    </tr>\n",
       "    <tr>\n",
       "      <th>243189</th>\n",
       "      <td>0.750000</td>\n",
       "      <td>0.284</td>\n",
       "      <td>0.272727</td>\n",
       "      <td>0.778018</td>\n",
       "      <td>1.0</td>\n",
       "      <td>0.052116</td>\n",
       "      <td>0.930723</td>\n",
       "      <td>0.078800</td>\n",
       "      <td>0.0633</td>\n",
       "      <td>0.816</td>\n",
       "      <td>0.434649</td>\n",
       "      <td>0.8</td>\n",
       "    </tr>\n",
       "  </tbody>\n",
       "</table>\n",
       "<p>243190 rows × 12 columns</p>\n",
       "</div>"
      ],
      "text/plain": [
       "        danceability  energy       key  loudness  mode  speechiness  \\\n",
       "0           0.681174   0.529  0.000000  0.827905   1.0     0.315789   \n",
       "1           0.517206   0.566  0.545455  0.827843   0.0     0.206398   \n",
       "2           0.707490   0.687  0.636364  0.878561   0.0     0.109391   \n",
       "3           0.716599   0.690  0.181818  0.859987   1.0     0.045614   \n",
       "4           0.762146   0.597  0.727273  0.808405   1.0     0.301342   \n",
       "...              ...     ...       ...       ...   ...          ...   \n",
       "243185      0.621457   0.298  0.272727  0.768637   0.0     0.055831   \n",
       "243186      0.797571   0.395  0.909091  0.721135   1.0     0.310630   \n",
       "243187      0.533401   0.178  0.272727  0.708867   1.0     0.081837   \n",
       "243188      0.565789   0.266  0.000000  0.787462   1.0     0.052838   \n",
       "243189      0.750000   0.284  0.272727  0.778018   1.0     0.052116   \n",
       "\n",
       "        acousticness  instrumentalness  liveness  valence     tempo  \\\n",
       "0           0.077209          0.000338    0.0856    0.203  0.665242   \n",
       "1           0.350402          0.000000    0.3400    0.218  0.344561   \n",
       "2           0.309237          0.000036    0.1210    0.499  0.365217   \n",
       "3           0.349398          0.000000    0.2220    0.543  0.328504   \n",
       "4           0.047892          0.000000    0.1970    0.616  0.316200   \n",
       "...              ...               ...       ...      ...       ...   \n",
       "243185      0.973896          0.646000    0.0514    0.772  0.502322   \n",
       "243186      0.885542          0.844000    0.1240    0.676  0.465432   \n",
       "243187      0.992972          0.000010    0.1040    0.370  0.431581   \n",
       "243188      0.992972          0.847000    0.4480    0.576  0.415918   \n",
       "243189      0.930723          0.078800    0.0633    0.816  0.434649   \n",
       "\n",
       "        time_signature  \n",
       "0                  0.8  \n",
       "1                  0.8  \n",
       "2                  0.8  \n",
       "3                  0.8  \n",
       "4                  0.8  \n",
       "...                ...  \n",
       "243185             0.8  \n",
       "243186             0.8  \n",
       "243187             0.8  \n",
       "243188             0.8  \n",
       "243189             0.8  \n",
       "\n",
       "[243190 rows x 12 columns]"
      ]
     },
     "execution_count": 3,
     "metadata": {},
     "output_type": "execute_result"
    }
   ],
   "source": [
    "spotify_data = pd.read_csv(\"/Users/vaibhavrangan/Downloads/Stat_303-1/Data/spotify_data.csv\")\n",
    "audio_features = spotify_data[['danceability', 'energy', 'key', 'loudness','mode','speechiness',\n",
    "                               'acousticness', 'instrumentalness', 'liveness','valence', 'tempo', 'time_signature']]\n",
    "audio_features.apply(lambda x: print(type(x)) or (x-x.min())/(x.max()-x.min()))\n"
   ]
  },
  {
   "cell_type": "code",
   "execution_count": null,
   "id": "5c4ab6e4",
   "metadata": {},
   "outputs": [
    {
     "data": {
      "text/html": [
       "<div>\n",
       "<style scoped>\n",
       "    .dataframe tbody tr th:only-of-type {\n",
       "        vertical-align: middle;\n",
       "    }\n",
       "\n",
       "    .dataframe tbody tr th {\n",
       "        vertical-align: top;\n",
       "    }\n",
       "\n",
       "    .dataframe thead tr th {\n",
       "        text-align: left;\n",
       "    }\n",
       "</style>\n",
       "<table border=\"1\" class=\"dataframe\">\n",
       "  <thead>\n",
       "    <tr>\n",
       "      <th></th>\n",
       "      <th>Country/Territory</th>\n",
       "      <th>IMF[4][5]</th>\n",
       "      <th>World Bank[6]</th>\n",
       "      <th>United Nations[7]</th>\n",
       "    </tr>\n",
       "    <tr>\n",
       "      <th></th>\n",
       "      <th>Country/Territory</th>\n",
       "      <th>Estimate</th>\n",
       "      <th>Estimate</th>\n",
       "      <th>Estimate</th>\n",
       "    </tr>\n",
       "  </thead>\n",
       "  <tbody>\n",
       "    <tr>\n",
       "      <th>0</th>\n",
       "      <td>Monaco</td>\n",
       "      <td>—</td>\n",
       "      <td>240862</td>\n",
       "      <td>240535</td>\n",
       "    </tr>\n",
       "    <tr>\n",
       "      <th>1</th>\n",
       "      <td>Liechtenstein</td>\n",
       "      <td>—</td>\n",
       "      <td>187267</td>\n",
       "      <td>197268</td>\n",
       "    </tr>\n",
       "  </tbody>\n",
       "</table>\n",
       "</div>"
      ],
      "text/plain": [
       "  Country/Territory IMF[4][5] World Bank[6] United Nations[7]\n",
       "  Country/Territory  Estimate      Estimate          Estimate\n",
       "0            Monaco         —        240862            240535\n",
       "1     Liechtenstein         —        187267            197268"
      ]
     },
     "execution_count": 8,
     "metadata": {},
     "output_type": "execute_result"
    }
   ],
   "source": [
    "import ssl\n",
    "ssl._create_default_https_context = ssl._create_unverified_context\n",
    "\n",
    "tables = pd.read_html('https://en.wikipedia.org/wiki/List_of_countries_by_GDP_(nominal)_per_capita')\n",
    "gdp_df = tables[1]\n",
    "\n",
    "gdp_df.drop(columns='Year', level=1, inplace=True)\n",
    "gdp_df.head(2)"
   ]
  },
  {
   "cell_type": "code",
   "execution_count": 9,
   "id": "aea82011",
   "metadata": {},
   "outputs": [
    {
     "data": {
      "text/html": [
       "<div>\n",
       "<style scoped>\n",
       "    .dataframe tbody tr th:only-of-type {\n",
       "        vertical-align: middle;\n",
       "    }\n",
       "\n",
       "    .dataframe tbody tr th {\n",
       "        vertical-align: top;\n",
       "    }\n",
       "\n",
       "    .dataframe thead th {\n",
       "        text-align: right;\n",
       "    }\n",
       "</style>\n",
       "<table border=\"1\" class=\"dataframe\">\n",
       "  <thead>\n",
       "    <tr style=\"text-align: right;\">\n",
       "      <th></th>\n",
       "      <th>Country/Territory</th>\n",
       "      <th>IMF[4][5]</th>\n",
       "      <th>World Bank[6]</th>\n",
       "      <th>United Nations[7]</th>\n",
       "    </tr>\n",
       "  </thead>\n",
       "  <tbody>\n",
       "    <tr>\n",
       "      <th>0</th>\n",
       "      <td>Monaco</td>\n",
       "      <td>—</td>\n",
       "      <td>240862</td>\n",
       "      <td>240535</td>\n",
       "    </tr>\n",
       "    <tr>\n",
       "      <th>1</th>\n",
       "      <td>Liechtenstein</td>\n",
       "      <td>—</td>\n",
       "      <td>187267</td>\n",
       "      <td>197268</td>\n",
       "    </tr>\n",
       "  </tbody>\n",
       "</table>\n",
       "</div>"
      ],
      "text/plain": [
       "  Country/Territory IMF[4][5] World Bank[6] United Nations[7]\n",
       "0            Monaco         —        240862            240535\n",
       "1     Liechtenstein         —        187267            197268"
      ]
     },
     "execution_count": 9,
     "metadata": {},
     "output_type": "execute_result"
    }
   ],
   "source": [
    "gdp_df = gdp_df.droplevel(1, axis=1)\n",
    "gdp_df.head(2)"
   ]
  },
  {
   "cell_type": "code",
   "execution_count": null,
   "id": "9619b53b",
   "metadata": {},
   "outputs": [
    {
     "data": {
      "text/plain": [
       "Country/Territory     0\n",
       "IMF[4][5]            27\n",
       "World Bank[6]         6\n",
       "United Nations[7]     9\n",
       "dtype: int64"
      ]
     },
     "execution_count": 12,
     "metadata": {},
     "output_type": "execute_result"
    }
   ],
   "source": [
    "gdp_columns = ['IMF[4][5]', 'World Bank[6]', 'United Nations[7]']\n",
    "gdp_df[gdp_columns] = gdp_df[gdp_columns].apply(pd.to_numeric, errors = \"coerce\")\n",
    "\n",
    "gdp_df.isna().sum()"
   ]
  },
  {
   "cell_type": "code",
   "execution_count": 14,
   "id": "824ae3a6",
   "metadata": {},
   "outputs": [
    {
     "data": {
      "text/html": [
       "<div>\n",
       "<style scoped>\n",
       "    .dataframe tbody tr th:only-of-type {\n",
       "        vertical-align: middle;\n",
       "    }\n",
       "\n",
       "    .dataframe tbody tr th {\n",
       "        vertical-align: top;\n",
       "    }\n",
       "\n",
       "    .dataframe thead th {\n",
       "        text-align: right;\n",
       "    }\n",
       "</style>\n",
       "<table border=\"1\" class=\"dataframe\">\n",
       "  <thead>\n",
       "    <tr style=\"text-align: right;\">\n",
       "      <th></th>\n",
       "      <th>Country</th>\n",
       "      <th>IMF</th>\n",
       "      <th>World Bank</th>\n",
       "      <th>United Nations</th>\n",
       "    </tr>\n",
       "  </thead>\n",
       "  <tbody>\n",
       "    <tr>\n",
       "      <th>0</th>\n",
       "      <td>Monaco</td>\n",
       "      <td>NaN</td>\n",
       "      <td>240862.0</td>\n",
       "      <td>240535.0</td>\n",
       "    </tr>\n",
       "    <tr>\n",
       "      <th>1</th>\n",
       "      <td>Liechtenstein</td>\n",
       "      <td>NaN</td>\n",
       "      <td>187267.0</td>\n",
       "      <td>197268.0</td>\n",
       "    </tr>\n",
       "  </tbody>\n",
       "</table>\n",
       "</div>"
      ],
      "text/plain": [
       "         Country  IMF  World Bank  United Nations\n",
       "0         Monaco  NaN    240862.0        240535.0\n",
       "1  Liechtenstein  NaN    187267.0        197268.0"
      ]
     },
     "execution_count": 14,
     "metadata": {},
     "output_type": "execute_result"
    }
   ],
   "source": [
    "import re\n",
    "\n",
    "column_name_cleaner = lambda x: re.split(r'\\[|/', x)[0]\n",
    "gdp_df.columns = gdp_df.columns.map(column_name_cleaner)\n",
    "\n",
    "gdp_df.head(2)"
   ]
  },
  {
   "cell_type": "code",
   "execution_count": 15,
   "id": "7423e77f",
   "metadata": {},
   "outputs": [
    {
     "data": {
      "text/plain": [
       "0"
      ]
     },
     "execution_count": 15,
     "metadata": {},
     "output_type": "execute_result"
    }
   ],
   "source": [
    "gdp_df['GDP_per_capita'] = gdp_df['United Nations'].fillna(\n",
    "    gdp_df['World Bank']\n",
    ").fillna(\n",
    "    gdp_df['IMF']\n",
    ")\n",
    "\n",
    "gdp_df[\"GDP_per_capita\"].isna().sum()"
   ]
  },
  {
   "cell_type": "code",
   "execution_count": 16,
   "id": "eb307bd0",
   "metadata": {},
   "outputs": [
    {
     "data": {
      "text/html": [
       "<div>\n",
       "<style scoped>\n",
       "    .dataframe tbody tr th:only-of-type {\n",
       "        vertical-align: middle;\n",
       "    }\n",
       "\n",
       "    .dataframe tbody tr th {\n",
       "        vertical-align: top;\n",
       "    }\n",
       "\n",
       "    .dataframe thead th {\n",
       "        text-align: right;\n",
       "    }\n",
       "</style>\n",
       "<table border=\"1\" class=\"dataframe\">\n",
       "  <thead>\n",
       "    <tr style=\"text-align: right;\">\n",
       "      <th></th>\n",
       "      <th>Country</th>\n",
       "      <th>GDP_per_capita</th>\n",
       "    </tr>\n",
       "  </thead>\n",
       "  <tbody>\n",
       "    <tr>\n",
       "      <th>0</th>\n",
       "      <td>Monaco</td>\n",
       "      <td>240535.0</td>\n",
       "    </tr>\n",
       "    <tr>\n",
       "      <th>1</th>\n",
       "      <td>Liechtenstein</td>\n",
       "      <td>197268.0</td>\n",
       "    </tr>\n",
       "  </tbody>\n",
       "</table>\n",
       "</div>"
      ],
      "text/plain": [
       "         Country  GDP_per_capita\n",
       "0         Monaco        240535.0\n",
       "1  Liechtenstein        197268.0"
      ]
     },
     "execution_count": 16,
     "metadata": {},
     "output_type": "execute_result"
    }
   ],
   "source": [
    "gdp_df = gdp_df[['Country', 'GDP_per_capita']]\n",
    "gdp_df.head(2)"
   ]
  },
  {
   "cell_type": "code",
   "execution_count": 18,
   "id": "d806b7b7",
   "metadata": {},
   "outputs": [
    {
     "data": {
      "text/html": [
       "<div>\n",
       "<style scoped>\n",
       "    .dataframe tbody tr th:only-of-type {\n",
       "        vertical-align: middle;\n",
       "    }\n",
       "\n",
       "    .dataframe tbody tr th {\n",
       "        vertical-align: top;\n",
       "    }\n",
       "\n",
       "    .dataframe thead th {\n",
       "        text-align: right;\n",
       "    }\n",
       "</style>\n",
       "<table border=\"1\" class=\"dataframe\">\n",
       "  <thead>\n",
       "    <tr style=\"text-align: right;\">\n",
       "      <th></th>\n",
       "      <th>Country</th>\n",
       "      <th>GDP_per_capita</th>\n",
       "    </tr>\n",
       "  </thead>\n",
       "  <tbody>\n",
       "    <tr>\n",
       "      <th>0</th>\n",
       "      <td>Monaco</td>\n",
       "      <td>240535.0</td>\n",
       "    </tr>\n",
       "    <tr>\n",
       "      <th>1</th>\n",
       "      <td>Liechtenstein</td>\n",
       "      <td>197268.0</td>\n",
       "    </tr>\n",
       "  </tbody>\n",
       "</table>\n",
       "</div>"
      ],
      "text/plain": [
       "         Country  GDP_per_capita\n",
       "0         Monaco        240535.0\n",
       "1  Liechtenstein        197268.0"
      ]
     },
     "execution_count": 18,
     "metadata": {},
     "output_type": "execute_result"
    }
   ],
   "source": [
    "import re\n",
    "\n",
    "country_names_clean_gdp_data = lambda x: re.sub(r'[^\\w\\s]', '', x).strip()\n",
    "\n",
    "gdp_per_capita_data = gdp_df.copy()\n",
    "gdp_per_capita_data['Country'] = gdp_per_capita_data['Country'].apply(country_names_clean_gdp_data)\n",
    "\n",
    "gdp_per_capita_data.head(2)"
   ]
  },
  {
   "cell_type": "code",
   "execution_count": 22,
   "id": "065241ad",
   "metadata": {},
   "outputs": [
    {
     "data": {
      "text/html": [
       "<div>\n",
       "<style scoped>\n",
       "    .dataframe tbody tr th:only-of-type {\n",
       "        vertical-align: middle;\n",
       "    }\n",
       "\n",
       "    .dataframe tbody tr th {\n",
       "        vertical-align: top;\n",
       "    }\n",
       "\n",
       "    .dataframe thead th {\n",
       "        text-align: right;\n",
       "    }\n",
       "</style>\n",
       "<table border=\"1\" class=\"dataframe\">\n",
       "  <thead>\n",
       "    <tr style=\"text-align: right;\">\n",
       "      <th></th>\n",
       "      <th>Country</th>\n",
       "      <th>UN Continental Region[1]</th>\n",
       "      <th>Population(1 July 2023)</th>\n",
       "    </tr>\n",
       "  </thead>\n",
       "  <tbody>\n",
       "    <tr>\n",
       "      <th>1</th>\n",
       "      <td>India</td>\n",
       "      <td>Asia</td>\n",
       "      <td>1438069596</td>\n",
       "    </tr>\n",
       "    <tr>\n",
       "      <th>2</th>\n",
       "      <td>China[a]</td>\n",
       "      <td>Asia</td>\n",
       "      <td>1422584933</td>\n",
       "    </tr>\n",
       "  </tbody>\n",
       "</table>\n",
       "</div>"
      ],
      "text/plain": [
       "    Country UN Continental Region[1]  Population(1 July 2023)\n",
       "1     India                     Asia               1438069596\n",
       "2  China[a]                     Asia               1422584933"
      ]
     },
     "execution_count": 22,
     "metadata": {},
     "output_type": "execute_result"
    }
   ],
   "source": [
    "tables_pop = pd.read_html(\"https://en.wikipedia.org/wiki/List_of_countries_by_population_(United_Nations)\")\n",
    "\n",
    "pop_df = tables_pop[0]\n",
    "pop_df = pop_df[[\"Country\", \"UN Continental Region[1]\", \"Population(1 July 2023)\"]]\n",
    "pop_df = pop_df.iloc[1:]\n",
    "\n",
    "pop_df.head(2)"
   ]
  },
  {
   "cell_type": "code",
   "execution_count": 25,
   "id": "f095d305",
   "metadata": {},
   "outputs": [
    {
     "data": {
      "text/html": [
       "<div>\n",
       "<style scoped>\n",
       "    .dataframe tbody tr th:only-of-type {\n",
       "        vertical-align: middle;\n",
       "    }\n",
       "\n",
       "    .dataframe tbody tr th {\n",
       "        vertical-align: top;\n",
       "    }\n",
       "\n",
       "    .dataframe thead th {\n",
       "        text-align: right;\n",
       "    }\n",
       "</style>\n",
       "<table border=\"1\" class=\"dataframe\">\n",
       "  <thead>\n",
       "    <tr style=\"text-align: right;\">\n",
       "      <th></th>\n",
       "      <th>Country</th>\n",
       "      <th>UN</th>\n",
       "      <th>Population</th>\n",
       "    </tr>\n",
       "  </thead>\n",
       "  <tbody>\n",
       "    <tr>\n",
       "      <th>1</th>\n",
       "      <td>India</td>\n",
       "      <td>Asia</td>\n",
       "      <td>1438069596</td>\n",
       "    </tr>\n",
       "    <tr>\n",
       "      <th>2</th>\n",
       "      <td>China[a]</td>\n",
       "      <td>Asia</td>\n",
       "      <td>1422584933</td>\n",
       "    </tr>\n",
       "  </tbody>\n",
       "</table>\n",
       "</div>"
      ],
      "text/plain": [
       "    Country    UN  Population\n",
       "1     India  Asia  1438069596\n",
       "2  China[a]  Asia  1422584933"
      ]
     },
     "execution_count": 25,
     "metadata": {},
     "output_type": "execute_result"
    }
   ],
   "source": [
    "column_name_cleaner = lambda x:re.split(r'\\[|/|\\(| ', x)[0]\n",
    "\n",
    "pop_df.columns = pop_df.columns.map(column_name_cleaner)\n",
    "\n",
    "pop_df.head(2)"
   ]
  },
  {
   "cell_type": "code",
   "execution_count": 27,
   "id": "5ed47fa6",
   "metadata": {},
   "outputs": [
    {
     "data": {
      "text/html": [
       "<div>\n",
       "<style scoped>\n",
       "    .dataframe tbody tr th:only-of-type {\n",
       "        vertical-align: middle;\n",
       "    }\n",
       "\n",
       "    .dataframe tbody tr th {\n",
       "        vertical-align: top;\n",
       "    }\n",
       "\n",
       "    .dataframe thead th {\n",
       "        text-align: right;\n",
       "    }\n",
       "</style>\n",
       "<table border=\"1\" class=\"dataframe\">\n",
       "  <thead>\n",
       "    <tr style=\"text-align: right;\">\n",
       "      <th></th>\n",
       "      <th>Country</th>\n",
       "      <th>UN</th>\n",
       "      <th>Population</th>\n",
       "    </tr>\n",
       "  </thead>\n",
       "  <tbody>\n",
       "    <tr>\n",
       "      <th>1</th>\n",
       "      <td>India</td>\n",
       "      <td>Asia</td>\n",
       "      <td>1438069596</td>\n",
       "    </tr>\n",
       "    <tr>\n",
       "      <th>2</th>\n",
       "      <td>China</td>\n",
       "      <td>Asia</td>\n",
       "      <td>1422584933</td>\n",
       "    </tr>\n",
       "  </tbody>\n",
       "</table>\n",
       "</div>"
      ],
      "text/plain": [
       "  Country    UN  Population\n",
       "1   India  Asia  1438069596\n",
       "2   China  Asia  1422584933"
      ]
     },
     "execution_count": 27,
     "metadata": {},
     "output_type": "execute_result"
    }
   ],
   "source": [
    "country_names_clean_population_data = lambda x: re.sub(\"[\\(\\[].*?[\\)\\]]\", \"\", x).strip()\n",
    "\n",
    "population_data = pop_df.copy()\n",
    "population_data['Country'] = population_data['Country'].apply(country_names_clean_population_data)\n",
    "\n",
    "population_data.head(2)"
   ]
  },
  {
   "cell_type": "code",
   "execution_count": 30,
   "id": "e83374bc",
   "metadata": {},
   "outputs": [
    {
     "data": {
      "text/html": [
       "<div>\n",
       "<style scoped>\n",
       "    .dataframe tbody tr th:only-of-type {\n",
       "        vertical-align: middle;\n",
       "    }\n",
       "\n",
       "    .dataframe tbody tr th {\n",
       "        vertical-align: top;\n",
       "    }\n",
       "\n",
       "    .dataframe thead th {\n",
       "        text-align: right;\n",
       "    }\n",
       "</style>\n",
       "<table border=\"1\" class=\"dataframe\">\n",
       "  <thead>\n",
       "    <tr style=\"text-align: right;\">\n",
       "      <th></th>\n",
       "      <th>Country</th>\n",
       "      <th>GDP_per_capita</th>\n",
       "      <th>UN</th>\n",
       "      <th>Population</th>\n",
       "    </tr>\n",
       "  </thead>\n",
       "  <tbody>\n",
       "    <tr>\n",
       "      <th>0</th>\n",
       "      <td>Monaco</td>\n",
       "      <td>240535.0</td>\n",
       "      <td>Europe</td>\n",
       "      <td>38956.0</td>\n",
       "    </tr>\n",
       "    <tr>\n",
       "      <th>1</th>\n",
       "      <td>Liechtenstein</td>\n",
       "      <td>197268.0</td>\n",
       "      <td>Europe</td>\n",
       "      <td>39598.0</td>\n",
       "    </tr>\n",
       "  </tbody>\n",
       "</table>\n",
       "</div>"
      ],
      "text/plain": [
       "         Country  GDP_per_capita      UN  Population\n",
       "0         Monaco        240535.0  Europe     38956.0\n",
       "1  Liechtenstein        197268.0  Europe     39598.0"
      ]
     },
     "execution_count": 30,
     "metadata": {},
     "output_type": "execute_result"
    }
   ],
   "source": [
    "merged_data = pd.merge(gdp_per_capita_data, population_data, on='Country', how='outer')\n",
    "merged_data = merged_data.dropna(subset=['GDP_per_capita'])\n",
    "\n",
    "merged_data.head(2)"
   ]
  },
  {
   "cell_type": "code",
   "execution_count": 31,
   "id": "5e6bf526",
   "metadata": {},
   "outputs": [
    {
     "data": {
      "text/plain": [
       "10"
      ]
     },
     "execution_count": 31,
     "metadata": {},
     "output_type": "execute_result"
    }
   ],
   "source": [
    "merged_data[\"Population\"].isna().sum()"
   ]
  },
  {
   "cell_type": "code",
   "execution_count": 32,
   "id": "aa01701c",
   "metadata": {},
   "outputs": [
    {
     "name": "stdout",
     "output_type": "stream",
     "text": [
      "Country           Monaco\n",
      "GDP_per_capita    240535\n",
      "UN                Europe\n",
      "Population         38956\n",
      "Name: 0, dtype: object Country                 India\n",
      "GDP_per_capita           2445\n",
      "UN                       Asia\n",
      "Population        1.43807e+09\n",
      "Name: 169, dtype: object\n"
     ]
    }
   ],
   "source": [
    "print(merged_data.loc[merged_data['GDP_per_capita'].idxmax()], merged_data.loc[merged_data['Population'].idxmax()])"
   ]
  }
 ],
 "metadata": {
  "kernelspec": {
   "display_name": ".venv",
   "language": "python",
   "name": "python3"
  },
  "language_info": {
   "codemirror_mode": {
    "name": "ipython",
    "version": 3
   },
   "file_extension": ".py",
   "mimetype": "text/x-python",
   "name": "python",
   "nbconvert_exporter": "python",
   "pygments_lexer": "ipython3",
   "version": "3.7.0"
  }
 },
 "nbformat": 4,
 "nbformat_minor": 5
}
