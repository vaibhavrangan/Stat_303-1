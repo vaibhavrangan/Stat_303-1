{
 "cells": [
  {
   "cell_type": "raw",
   "id": "9ca0c753",
   "metadata": {
    "vscode": {
     "languageId": "raw"
    }
   },
   "source": [
    "---\n",
    "title: \"Quiz 5 solution\"\n",
    "format: \n",
    "  html:\n",
    "    toc: true\n",
    "    toc-title: Contents\n",
    "    toc-depth: 4\n",
    "    self-contained: true\n",
    "    html-math-method: mathml \n",
    "jupyter: python3\n",
    "---"
   ]
  },
  {
   "cell_type": "markdown",
   "id": "2a801829",
   "metadata": {},
   "source": [
    "# Read data"
   ]
  },
  {
   "cell_type": "code",
   "execution_count": 10,
   "id": "0533c9c6",
   "metadata": {},
   "outputs": [],
   "source": [
    "import pandas as pd\n",
    "import numpy as np\n",
    "\n",
    "albums = pd.read_csv(\"/Users/vaibhavrangan/Downloads/Stat_303-1/Data/albums_data.csv\")\n",
    "stat_survey = pd.read_csv(\"/Users/vaibhavrangan/Downloads/Stat_303-1/Data/STAT303-1 survey for data analysis.csv\")"
   ]
  },
  {
   "cell_type": "markdown",
   "id": "9d124615",
   "metadata": {},
   "source": [
    "# Q \n",
    "\n",
    "Label each code cell with the corresponding question number as a header. Feel free to add or remove cells as needed"
   ]
  },
  {
   "cell_type": "markdown",
   "id": "e3a78601",
   "metadata": {},
   "source": [
    "Question 1"
   ]
  },
  {
   "cell_type": "code",
   "execution_count": 11,
   "id": "f74f6565",
   "metadata": {},
   "outputs": [
    {
     "name": "stdout",
     "output_type": "stream",
     "text": [
      "              Year    Ranking         CDs      Tracks       Hours     Minutes  \\\n",
      "count   320.000000  320.00000  320.000000  320.000000  320.000000  320.000000   \n",
      "mean   2005.500000    5.50000    1.043750   14.306250    0.941406   56.478500   \n",
      "std       9.247553    2.87678    0.246528    5.868995    0.382895   22.970109   \n",
      "min    1990.000000    1.00000    1.000000    6.000000    0.320000   19.430000   \n",
      "25%    1997.750000    3.00000    1.000000   12.000000    0.740000   44.137500   \n",
      "50%    2005.500000    5.50000    1.000000   13.000000    0.860000   51.555000   \n",
      "75%    2013.250000    8.00000    1.000000   15.000000    1.090000   65.112500   \n",
      "max    2021.000000   10.00000    4.000000   67.000000    5.070000  304.030000   \n",
      "\n",
      "            Seconds  \n",
      "count    320.000000  \n",
      "mean    3388.715625  \n",
      "std     1378.209812  \n",
      "min     1166.000000  \n",
      "25%     2648.250000  \n",
      "50%     3093.500000  \n",
      "75%     3906.750000  \n",
      "max    18242.000000  \n"
     ]
    }
   ],
   "source": [
    "print(albums.describe())\n",
    "# albums[\"track_length\"] = albums[\"Minutes\"] / albums[\"Tracks\"]\n",
    "# print(albums[\"track_length\"].mean())"
   ]
  },
  {
   "cell_type": "markdown",
   "id": "855e49c0",
   "metadata": {},
   "source": [
    "Question 2"
   ]
  },
  {
   "cell_type": "code",
   "execution_count": 12,
   "id": "8725cef5",
   "metadata": {},
   "outputs": [
    {
     "name": "stdout",
     "output_type": "stream",
     "text": [
      "     Year  Ranking          Artist                        Album  \\\n",
      "312  2021        1           Adele                           30   \n",
      "317  2021        2  Olivia Rodrigo                         Sour   \n",
      "316  2021        3       NCT Dream                    Hot Sauce   \n",
      "315  2021        4         NCT 127           Sticker / Favorite   \n",
      "310  2021        5   Morgan Wallen  Dangerous: The Double Album   \n",
      "\n",
      "     Worldwide Sales  CDs  Tracks Album Length  Hours  Minutes  Seconds  \\\n",
      "312        4485025.0    1      12      0:58:14   0.97    58.23     3494   \n",
      "317        3830500.0    1      11      0:34:41   0.58    34.68     2081   \n",
      "316        3633287.0    1      10      0:35:09   0.59    35.15     2109   \n",
      "315        3498564.0    1      11      0:38:43   0.65    38.72     2323   \n",
      "310        3461000.0    2      30      1:30:53   1.51    90.88     5453   \n",
      "\n",
      "       Genre  Sales per year  \n",
      "312      Pop       4485025.0  \n",
      "317      Pop       3830500.0  \n",
      "316      Pop       3633287.0  \n",
      "315      Pop       3498564.0  \n",
      "310  Country       3461000.0  \n"
     ]
    }
   ],
   "source": [
    "albums[\"Worldwide Sales\"] = pd.to_numeric(albums[\"Worldwide Sales\"],errors=\"coerce\")\n",
    "albums[\"Sales per year\"] = albums[\"Worldwide Sales\"] / (2022 - albums[\"Year\"])\n",
    "sorted_by_sales = albums.sort_values(by = \"Sales per year\", ascending= False)\n",
    "\n",
    "print(sorted_by_sales.head())\n"
   ]
  },
  {
   "cell_type": "code",
   "execution_count": 13,
   "id": "479499a0",
   "metadata": {},
   "outputs": [
    {
     "name": "stdout",
     "output_type": "stream",
     "text": [
      "Year               42\n",
      "Ranking            42\n",
      "Artist             42\n",
      "Album              42\n",
      "Worldwide Sales    42\n",
      "CDs                42\n",
      "Tracks             42\n",
      "Album Length       42\n",
      "Hours              42\n",
      "Minutes            42\n",
      "Seconds            42\n",
      "Genre              42\n",
      "Sales per year     42\n",
      "dtype: int64\n"
     ]
    }
   ],
   "source": [
    "hiphop_albums = albums[albums[\"Genre\"] == \"Hip Hop\"]\n",
    "print(hiphop_albums.count())"
   ]
  },
  {
   "cell_type": "code",
   "execution_count": 14,
   "id": "f79b284d",
   "metadata": {},
   "outputs": [
    {
     "name": "stdout",
     "output_type": "stream",
     "text": [
      "0.3385416666666667\n"
     ]
    }
   ],
   "source": [
    "stat_survey[\"On average (approx.) how many parties a month do you attend during the school year? Enter a whole number (0, 1, 2, 3, 4, ...)\"] = pd.to_numeric(stat_survey[\"On average (approx.) how many parties a month do you attend during the school year? Enter a whole number (0, 1, 2, 3, 4, ...)\"], errors='coerce')\n",
    "above_four_parties = stat_survey[stat_survey[\"On average (approx.) how many parties a month do you attend during the school year? Enter a whole number (0, 1, 2, 3, 4, ...)\"] > 4]\n",
    "print(len(above_four_parties) / len(stat_survey))\n",
    "\n"
   ]
  },
  {
   "cell_type": "code",
   "execution_count": 15,
   "id": "e70e540b",
   "metadata": {},
   "outputs": [
    {
     "data": {
      "text/plain": [
       "0.5076923076923077"
      ]
     },
     "execution_count": 15,
     "metadata": {},
     "output_type": "execute_result"
    }
   ],
   "source": [
    "len(above_four_parties[above_four_parties[\"introvert_extrovert\"] == \"Introvert\"])/ len(above_four_parties)"
   ]
  },
  {
   "cell_type": "code",
   "execution_count": 16,
   "id": "97f75e92",
   "metadata": {},
   "outputs": [
    {
     "data": {
      "text/plain": [
       "0.9076923076923077"
      ]
     },
     "execution_count": 16,
     "metadata": {},
     "output_type": "execute_result"
    }
   ],
   "source": [
    "(len(above_four_parties[above_four_parties[\"how_happy\"] == \"Pretty happy\"]) + len(above_four_parties[above_four_parties[\"how_happy\"] == \"Very happy\"]))/len(above_four_parties)"
   ]
  },
  {
   "cell_type": "code",
   "execution_count": 17,
   "id": "24db990b",
   "metadata": {},
   "outputs": [
    {
     "name": "stdout",
     "output_type": "stream",
     "text": [
      "5.111111111111111\n"
     ]
    }
   ],
   "source": [
    "stat_survey['num_insta_followers'] = pd.to_numeric(stat_survey['num_insta_followers'], errors='coerce')\n",
    "stat_survey['internet_hours_per_day'] = pd.to_numeric(stat_survey['internet_hours_per_day'], errors='coerce')\n",
    "top_46 = stat_survey.sort_values(by='num_insta_followers', ascending=False).head(46)\n",
    "mean_internet_hours = top_46['internet_hours_per_day'].mean()\n",
    "print(mean_internet_hours)"
   ]
  },
  {
   "cell_type": "code",
   "execution_count": 18,
   "id": "74661f5f",
   "metadata": {},
   "outputs": [
    {
     "name": "stdout",
     "output_type": "stream",
     "text": [
      "13.111888111888112\n"
     ]
    }
   ],
   "source": [
    "rest = stat_survey.drop(top_46.index)\n",
    "mean_of_rest = rest[\"internet_hours_per_day\"].mean()\n",
    "print(mean_of_rest)"
   ]
  }
 ],
 "metadata": {
  "kernelspec": {
   "display_name": ".venv",
   "language": "python",
   "name": "python3"
  },
  "language_info": {
   "codemirror_mode": {
    "name": "ipython",
    "version": 3
   },
   "file_extension": ".py",
   "mimetype": "text/x-python",
   "name": "python",
   "nbconvert_exporter": "python",
   "pygments_lexer": "ipython3",
   "version": "3.7.0"
  }
 },
 "nbformat": 4,
 "nbformat_minor": 5
}
