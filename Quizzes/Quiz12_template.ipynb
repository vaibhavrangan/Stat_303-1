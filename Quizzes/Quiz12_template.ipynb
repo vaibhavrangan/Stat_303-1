{
 "cells": [
  {
   "cell_type": "raw",
   "metadata": {
    "vscode": {
     "languageId": "raw"
    }
   },
   "source": [
    "---\n",
    "title: \"Quiz 12 code\"\n",
    "format: \n",
    "  html:\n",
    "    toc: true\n",
    "    toc-title: Contents\n",
    "    toc-depth: 4\n",
    "    self-contained: true\n",
    "    html-math-method: mathml \n",
    "jupyter: python3\n",
    "---"
   ]
  },
  {
   "cell_type": "code",
   "execution_count": 1,
   "metadata": {},
   "outputs": [],
   "source": [
    "import numpy as np \n",
    "import pandas as pd\n",
    "import matplotlib.pyplot as plt\n",
    "import seaborn as sns"
   ]
  },
  {
   "cell_type": "code",
   "execution_count": 2,
   "metadata": {},
   "outputs": [
    {
     "data": {
      "text/plain": [
       "(192, 51)"
      ]
     },
     "execution_count": 2,
     "metadata": {},
     "output_type": "execute_result"
    }
   ],
   "source": [
    "# Load the data\n",
    "survey_data  = pd.read_csv(\"/Users/vaibhavrangan/Downloads/Stat_303-1/Data/survey_data_clean.csv\")\n",
    "survey_data.shape"
   ]
  },
  {
   "cell_type": "markdown",
   "metadata": {},
   "source": [
    "## Q1: In the previous two iterations, students used the following two ways to create dummy variables from categorical variables."
   ]
  },
  {
   "cell_type": "markdown",
   "metadata": {},
   "source": [
    "#### Method 1: "
   ]
  },
  {
   "cell_type": "code",
   "execution_count": 3,
   "metadata": {},
   "outputs": [
    {
     "name": "stdout",
     "output_type": "stream",
     "text": [
      "915\n",
      "                      Timestamp  fav_alcohol_Beer  \\\n",
      "0   2022/09/13 1:43:34 pm GMT-5                 0   \n",
      "1   2022/09/13 5:28:17 pm GMT-5                 0   \n",
      "2   2022/09/13 7:56:38 pm GMT-5                 0   \n",
      "3  2022/09/13 10:34:37 pm GMT-5                 0   \n",
      "4   2022/09/14 4:46:19 pm GMT-5                 0   \n",
      "\n",
      "   fav_alcohol_Hard liquor/Mixed drink  fav_alcohol_I don't drink  \\\n",
      "0                                    0                          1   \n",
      "1                                    1                          0   \n",
      "2                                    1                          0   \n",
      "3                                    1                          0   \n",
      "4                                    0                          1   \n",
      "\n",
      "   fav_alcohol_Wine  parties_per_month_0.0  parties_per_month_1.0  \\\n",
      "0                 0                      0                      1   \n",
      "1                 0                      0                      0   \n",
      "2                 0                      0                      0   \n",
      "3                 0                      0                      0   \n",
      "4                 0                      0                      1   \n",
      "\n",
      "   parties_per_month_2.0  parties_per_month_3.0  parties_per_month_4.0  ...  \\\n",
      "0                      0                      0                      0  ...   \n",
      "1                      0                      1                      0  ...   \n",
      "2                      0                      1                      0  ...   \n",
      "3                      0                      0                      0  ...   \n",
      "4                      0                      0                      0  ...   \n",
      "\n",
      "   political_affliation_Other  political_affliation_Republican  \\\n",
      "0                           0                                0   \n",
      "1                           0                                0   \n",
      "2                           0                                0   \n",
      "3                           0                                0   \n",
      "4                           0                                0   \n",
      "\n",
      "   cant_change_math_ability_0  cant_change_math_ability_1  \\\n",
      "0                           1                           0   \n",
      "1                           1                           0   \n",
      "2                           1                           0   \n",
      "3                           1                           0   \n",
      "4                           0                           1   \n",
      "\n",
      "   can_change_math_ability_0  can_change_math_ability_1  math_is_genetic_0  \\\n",
      "0                          0                          1                  1   \n",
      "1                          0                          1                  1   \n",
      "2                          0                          1                  1   \n",
      "3                          0                          1                  1   \n",
      "4                          1                          0                  1   \n",
      "\n",
      "   math_is_genetic_1  much_effort_is_lack_of_talent_0  \\\n",
      "0                  0                                1   \n",
      "1                  0                                1   \n",
      "2                  0                                1   \n",
      "3                  0                                1   \n",
      "4                  0                                1   \n",
      "\n",
      "   much_effort_is_lack_of_talent_1  \n",
      "0                                0  \n",
      "1                                0  \n",
      "2                                0  \n",
      "3                                0  \n",
      "4                                0  \n",
      "\n",
      "[5 rows x 915 columns]\n"
     ]
    }
   ],
   "source": [
    "# # get dummy variables for all collumns except  the Timestamp column\n",
    "survey_dummies_1 = pd.get_dummies(survey_data, columns = survey_data.columns[1:], dtype=int)\n",
    "\n",
    "# # print out the number of columns in the new dataframe\n",
    "print(survey_dummies_1.shape[1])\n",
    "print(survey_dummies_1.head())\n"
   ]
  },
  {
   "cell_type": "markdown",
   "metadata": {},
   "source": [
    "#### Method 2: "
   ]
  },
  {
   "cell_type": "code",
   "execution_count": 4,
   "metadata": {},
   "outputs": [
    {
     "name": "stdout",
     "output_type": "stream",
     "text": [
      "308\n",
      "Index(['parties_per_month', 'love_first_sight', 'num_insta_followers',\n",
      "       'expected_marriage_age', 'expected_starting_salary',\n",
      "       'minutes_ex_per_week', 'sleep_hours_per_day',\n",
      "       'farthest_distance_travelled', 'fav_number', 'internet_hours_per_day',\n",
      "       ...\n",
      "       'region_of_residence_Midwest', 'region_of_residence_Northeast',\n",
      "       'region_of_residence_Southeast', 'region_of_residence_Southwest',\n",
      "       'region_of_residence_West', 'political_affliation_Democrat',\n",
      "       'political_affliation_Independent',\n",
      "       'political_affliation_No affiliation', 'political_affliation_Other',\n",
      "       'political_affliation_Republican'],\n",
      "      dtype='object', length=308)\n"
     ]
    }
   ],
   "source": [
    "survey_dummies2=pd.get_dummies(survey_data.iloc[:,1:], dtype='int')\n",
    "\n",
    "# # print out the number of columns in the new dataframe\n",
    "print(survey_dummies2.shape[1])\n",
    "print(survey_dummies2.columns)"
   ]
  },
  {
   "cell_type": "markdown",
   "metadata": {},
   "source": [
    "## Q1: which approch is correct? Use your code to show why the other one is incorrect?"
   ]
  },
  {
   "cell_type": "markdown",
   "metadata": {},
   "source": []
  },
  {
   "cell_type": "code",
   "execution_count": 5,
   "metadata": {},
   "outputs": [
    {
     "name": "stdout",
     "output_type": "stream",
     "text": [
      "Columns in first approach but not in second: {'internet_hours_per_day_9.0', 'high_school_GPA_4.01', 'NU_GPA_3.76', 'parties_per_month_5.0', 'height_76.0', 'num_insta_followers_300.0', 'internet_hours_per_day_100.0', 'internet_hours_per_day_210.0', 'farthest_distance_travelled_4284.0', 'height_father_67.7', 'fav_number_24.0', 'minutes_ex_per_week_240.0', 'num_insta_followers_612.0', 'farthest_distance_travelled_6887.0', 'farthest_distance_travelled_5000.0', 'parties_per_month_0.0', 'fav_number_3.0', 'high_school_GPA_4.97', 'num_insta_followers_2400.0', 'farthest_distance_travelled_6583.0', 'height_56.0', 'farthest_distance_travelled_7740.0', 'num_clubs_0', 'expected_marriage_age_30.0', 'farthest_distance_travelled_8000.0', 'farthest_distance_travelled_3000.0', 'num_insta_followers_60.0', 'fav_number_25.0', 'math_is_genetic_0', 'love_first_sight_1', 'height_father_68.0', 'only_child_0', 'farthest_distance_travelled_7353.0', 'high_school_GPA_4.58', 'NU_GPA_3.8', 'minutes_ex_per_week_375.0', 'NU_GPA_3.6630000000000003', 'expected_starting_salary_10000.0', 'height_mother_67.0', 'num_insta_followers_1557.0', 'num_insta_followers_462.0', 'height_father_65.0', 'high_school_GPA_4.12', 'minutes_ex_per_week_0.0', 'parties_per_month_25.0', 'num_insta_followers_1794.0', 'height_66.0', 'internet_hours_per_day_12.0', 'farthest_distance_travelled_7763.0', 'expected_marriage_age_37.0', 'num_insta_followers_1300.0', 'num_insta_followers_1468.0', 'farthest_distance_travelled_4800.0', 'num_insta_followers_1000.0', 'minutes_ex_per_week_360.0', 'farthest_distance_travelled_8211.0', 'farthest_distance_travelled_500.0', 'high_school_GPA_3.6', 'NU_GPA_3.56', 'height_63.78', 'farthest_distance_travelled_708.0', 'used_python_before_0', 'minutes_ex_per_week_100.0', 'procrastinator_1', 'height_father_71.0', 'height_father_63.0', 'height_father_83.0', 'parties_per_month_9.0', 'height_62.0', 'NU_GPA_3.93', 'NU_GPA_3.9', 'minutes_ex_per_week_70.0', 'farthest_distance_travelled_6500.0', 'farthest_distance_travelled_7052.0', 'NU_GPA_3.6839999999999997', 'NU_GPA_3.725', 'height_mother_65.0', 'height_father_58.0', 'farthest_distance_travelled_4407.7', 'farthest_distance_travelled_7237.0', 'high_school_GPA_4.33', 'expected_starting_salary_140000.0', 'fav_number_123.0', 'fav_number_10.0', 'minutes_ex_per_week_20.0', 'minutes_ex_per_week_700.0', 'farthest_distance_travelled_4109.0', 'NU_GPA_3.762', 'fav_number_9.0', 'num_majors_minors_3.0', 'farthest_distance_travelled_8270.0', 'minutes_ex_per_week_3.0', 'num_insta_followers_2000.0', 'minutes_ex_per_week_250.0', 'minutes_ex_per_week_180.0', 'expected_starting_salary_110000.0', 'height_75.0', 'internet_hours_per_day_75.0', 'parties_per_month_20.0', 'high_school_GPA_11.6', 'cant_change_math_ability_1', 'NU_GPA_3.9330000000000003', 'num_insta_followers_769.0', 'num_insta_followers_175.0', 'num_insta_followers_2587.0', 'expected_starting_salary_130000.0', 'farthest_distance_travelled_4682.0', 'parties_per_month_2.0', 'expected_starting_salary_84974.0', 'NU_GPA_3.89', 'fav_number_27.0', 'NU_GPA_4.83', 'NU_GPA_3.285', 'farthest_distance_travelled_4700.0', 'minutes_ex_per_week_60.0', 'num_insta_followers_865.0', 'farthest_distance_travelled_4500.0', 'farthest_distance_travelled_6243.0', 'expected_starting_salary_90000.0', 'num_insta_followers_425.0', 'num_insta_followers_440.0', 'num_insta_followers_857.0', 'num_insta_followers_350.0', 'age_19.0', 'height_father_75.0', 'height_mother_54.0', 'minutes_ex_per_week_90.0', 'farthest_distance_travelled_8374.0', 'num_insta_followers_755.0', 'height_79.0', 'height_mother_62.0', 'num_clubs_3', 'sleep_hours_per_day_10', 'expected_marriage_age_31.0', 'farthest_distance_travelled_7655.0', 'fav_number_313.0', 'high_school_GPA_3.98', 'student_athlete_1', 'expected_marriage_age_27.0', 'NU_GPA_3.62', 'high_school_GPA_99.0', 'expected_starting_salary_120000.0', 'internet_hours_per_day_4.0', 'high_school_GPA_3.97', 'NU_GPA_3.966', 'farthest_distance_travelled_3600.0', 'num_insta_followers_2575.0', 'height_mother_60.0', 'farthest_distance_travelled_2130.0', 'expected_starting_salary_200000.0', 'height_father_72.0', 'num_insta_followers_260.0', 'height_father_70.0', 'num_insta_followers_1200.0', 'high_school_GPA_4.525', 'NU_GPA_3.85', 'farthest_distance_travelled_6720.0', 'high_school_GPA_4.3', 'farthest_distance_travelled_2000.0', 'internet_hours_per_day_1.5', 'farthest_distance_travelled_5200.0', 'fav_number_14.0', 'expected_starting_salary_80000.0', 'num_insta_followers_3500.0', 'farthest_distance_travelled_6000.0', 'height_62.5', 'NU_GPA_3.71', 'farthest_distance_travelled_6526.0', 'num_insta_followers_1040.0', 'minutes_ex_per_week_315.0', 'farthest_distance_travelled_9500.0', 'NU_GPA_3.6', 'fav_number_69.0', 'minutes_ex_per_week_400.0', 'expected_marriage_age_28.0', 'high_school_GPA_4.5', 'num_insta_followers_0.0', 'high_school_GPA_4.7', 'fav_number_111.0', 'farthest_distance_travelled_3461.0', 'farthest_distance_travelled_7233.0', 'high_school_GPA_4.16', 'farthest_distance_travelled_6093.0', 'NU_GPA_3.8360000000000003', 'num_insta_followers_872.0', 'NU_GPA_3.91', 'fav_number_31.0', 'internet_hours_per_day_10.0', 'farthest_distance_travelled_7770.0', 'cant_change_math_ability_0', 'minutes_ex_per_week_150.0', 'height_mother_64.96063000000001', 'AP_stats_0', 'expected_marriage_age_34.0', 'farthest_distance_travelled_6863.0', 'parties_per_month_3.0', 'internet_hours_per_day_5.0', 'height_mother_70.0', 'expected_starting_salary_75000.0', 'NU_GPA_3.86', 'farthest_distance_travelled_4300.0', 'farthest_distance_travelled_5828.0', 'num_insta_followers_2433.0', 'num_insta_followers_1147.0', 'fav_number_7.0', 'internet_hours_per_day_1.0', 'height_father_73.0', 'minutes_ex_per_week_720.0', 'high_school_GPA_4.65', 'num_insta_followers_270.0', 'height_mother_5.4', 'expected_starting_salary_100000.0', 'internet_hours_per_day_3.0', 'NU_GPA_3.38', 'age_18.0', 'fav_number_44.0', 'sleep_hours_per_day_5', 'NU_GPA_3.0', 'fav_number_15.0', 'high_school_GPA_4.34', 'height_71.0', 'farthest_distance_travelled_7819.0', 'height_father_78.0', 'height_67.0', 'minutes_ex_per_week_200.0', 'minutes_ex_per_week_210.0', 'num_majors_minors_2.0', 'high_school_GPA_4.2', 'farthest_distance_travelled_10841.0', 'farthest_distance_travelled_9359.0', 'high_school_GPA_99.396', 'height_father_77.0', 'num_insta_followers_370.0', 'farthest_distance_travelled_1695.0', 'high_school_GPA_92.1', 'high_school_GPA_3.95', 'sleep_hours_per_day_9', 'height_60.0', 'parties_per_month_1.0', 'farthest_distance_travelled_7953.0', 'farthest_distance_travelled_8614.0', 'farthest_distance_travelled_9000.0', 'fav_number_12.0', 'farthest_distance_travelled_5473.0', 'childhood_in_US_1', 'procrastinator_0', 'expected_starting_salary_45000.0', 'fav_number_28.0', 'num_insta_followers_950.0', 'farthest_distance_travelled_3603.0', 'farthest_distance_travelled_8400.0', 'minutes_ex_per_week_225.0', 'height_72.83', 'num_insta_followers_80.0', 'minutes_ex_per_week_80.0', 'AP_stats_1', 'expected_marriage_age_40.0', 'farthest_distance_travelled_10500.0', 'farthest_distance_travelled_1200.0', 'high_school_GPA_4.71', 'NU_GPA_3.43', 'NU_GPA_3.61', 'farthest_distance_travelled_3602.0', 'high_school_GPA_5.91', 'farthest_distance_travelled_12678.0', 'height_father_74.0', 'minutes_ex_per_week_600.0', 'num_insta_followers_10.0', 'expected_starting_salary_36000.0', 'high_school_GPA_4.98', 'NU_GPA_3.28', 'farthest_distance_travelled_5901.0', 'num_insta_followers_368.0', 'farthest_distance_travelled_5713.0', 'internet_hours_per_day_7.0', 'num_insta_followers_2712.0', 'height_mother_64.0', 'num_insta_followers_885.0', 'expected_starting_salary_160000.0', 'farthest_distance_travelled_5936.0', 'high_school_GPA_3.7', 'height_mother_72.0', 'farthest_distance_travelled_7200.0', 'num_insta_followers_918.0', 'farthest_distance_travelled_4900.0', 'NU_GPA_3.45', 'internet_hours_per_day_180.0', 'farthest_distance_travelled_7900.0', 'NU_GPA_3.627', 'NU_GPA_3.7', 'farthest_distance_travelled_10046.0', 'farthest_distance_travelled_6824.0', 'NU_GPA_3.39', 'height_mother_66.0', 'NU_GPA_3.5', 'minutes_ex_per_week_30.0', 'farthest_distance_travelled_6196.0', 'used_python_before_1', 'expected_marriage_age_35.0', 'farthest_distance_travelled_6298.0', 'parties_per_month_55.0', 'farthest_distance_travelled_6893.0', 'parties_per_month_50.0', 'parties_per_month_15.0', 'expected_starting_salary_35000.0', 'num_insta_followers_1311.0', 'expected_starting_salary_30000.0', 'high_school_GPA_4.6', 'NU_GPA_4.1', 'num_insta_followers_2100.0', 'high_school_GPA_4.55', 'high_school_GPA_6.6', 'expected_marriage_age_32.0', 'parties_per_month_8.0', 'student_athlete_0', 'high_school_GPA_97.0', 'num_insta_followers_600.0', 'parties_per_month_12.0', 'fav_number_1.0', 'height_father_70.5', 'height_father_62.0', 'farthest_distance_travelled_8864.0', 'expected_starting_salary_60000.0', 'farthest_distance_travelled_4660.0', 'num_clubs_6', 'height_mother_63.0', 'NU_GPA_3.96', 'height_61.0', 'farthest_distance_travelled_7332.0', 'num_insta_followers_800.0', 'height_70.0', 'fav_number_19.0', 'love_first_sight_0', 'farthest_distance_travelled_2700.0', 'fav_number_6.0', 'minutes_ex_per_week_420.0', 'fav_number_42.0', 'expected_starting_salary_150000.0', 'num_insta_followers_1500.0', 'fav_number_2.0', 'high_school_GPA_5.0', 'NU_GPA_3.55', 'farthest_distance_travelled_3829.0', 'height_64.6', 'minutes_ex_per_week_1200.0', 'fav_number_63.0', 'math_is_genetic_1', 'farthest_distance_travelled_7798.0', 'NU_GPA_3.69', 'minutes_ex_per_week_275.0', 'minutes_ex_per_week_480.0', 'farthest_distance_travelled_4189.0', 'parties_per_month_30.0', 'NU_GPA_3.1', 'expected_starting_salary_70000.0', 'high_school_GPA_3.94', 'num_majors_minors_1.0', 'NU_GPA_3.81', 'height_77.0', 'fav_number_5.0', 'expected_starting_salary_5000.0', 'high_school_GPA_4.57', 'age_21.0', 'NU_GPA_3.877', 'num_insta_followers_1150.0', 'farthest_distance_travelled_7620.0', 'farthest_distance_travelled_7500.0', 'high_school_GPA_4.0', 'num_insta_followers_750.0', 'num_insta_followers_1900.0', 'height_mother_68.0', 'num_insta_followers_855.0', 'high_school_GPA_3.93', 'expected_starting_salary_85000.0', 'internet_hours_per_day_15.0', 'fav_number_11.0', 'internet_hours_per_day_2.0', 'height_74.0', 'farthest_distance_travelled_7000.0', 'NU_GPA_3.99', 'farthest_distance_travelled_9748.0', 'farthest_distance_travelled_5995.0', 'high_school_GPA_3.96', 'minutes_ex_per_week_15.0', 'fav_number_47.0', 'parties_per_month_6.0', 'fav_number_21.0', 'farthest_distance_travelled_10.0', 'NU_GPA_3.3', 'num_insta_followers_630.0', 'num_insta_followers_780.0', 'height_father_5.6', 'high_school_GPA_4.8', 'internet_hours_per_day_40.0', 'can_change_math_ability_0', 'height_mother_80.0', 'expected_marriage_age_29.0', 'NU_GPA_3.917', 'fav_number_4.0', 'minutes_ex_per_week_2.0', 'minutes_ex_per_week_50.0', 'high_school_GPA_4.4', 'expected_marriage_age_26.0', 'high_school_GPA_3.92', 'farthest_distance_travelled_6815.0', 'sleep_hours_per_day_7', 'age_20.0', 'farthest_distance_travelled_11000.0', 'minutes_ex_per_week_14.0', 'farthest_distance_travelled_6300.0', 'farthest_distance_travelled_3324.0', 'num_insta_followers_128.0', 'Timestamp', 'height_64.2', 'expected_marriage_age_25.0', 'expected_marriage_age_69.0', 'farthest_distance_travelled_5894.0', 'height_mother_60.2', 'num_insta_followers_500.0', 'farthest_distance_travelled_2562.0', 'height_63.0', 'farthest_distance_travelled_8290.0', 'farthest_distance_travelled_7484.0', 'NU_GPA_3.975', 'fav_number_22.0', 'num_insta_followers_1636.0', 'expected_starting_salary_250000.0', 'num_insta_followers_1100.0', 'farthest_distance_travelled_4372.0', 'height_69.0', 'num_insta_followers_850.0', 'farthest_distance_travelled_8206.0', 'height_father_66.0', 'num_insta_followers_1050.0', 'height_65.0', 'fav_number_23.0', 'farthest_distance_travelled_8700.0', 'NU_GPA_3.4', 'height_63.8', 'height_father_67.0', 'num_insta_followers_650.0', 'farthest_distance_travelled_4281.0', 'height_father_79.0', 'farthest_distance_travelled_6100.0', 'fav_number_16.0', 'num_insta_followers_269.0', 'farthest_distance_travelled_3663.0', 'farthest_distance_travelled_7400.0', 'num_insta_followers_930.0', 'height_mother_69.0', 'parties_per_month_7.0', 'high_school_GPA_4.625', 'NU_GPA_3.87', 'minutes_ex_per_week_8.0', 'height_68.89764', 'expected_marriage_age_33.0', 'farthest_distance_travelled_7246.0', 'high_school_GPA_3.5', 'fav_number_26.0', 'NU_GPA_3.42', 'NU_GPA_3.25', 'num_insta_followers_858.0', 'expected_starting_salary_84000.0', 'sleep_hours_per_day_6', 'NU_GPA_3.8930000000000002', 'farthest_distance_travelled_7384.0', 'high_school_GPA_3.64', 'high_school_GPA_3.8', 'fav_number_18.0', 'NU_GPA_4.0', 'minutes_ex_per_week_7.0', 'farthest_distance_travelled_2600.0', 'num_clubs_4', 'num_insta_followers_501.0', 'only_child_1', 'farthest_distance_travelled_7700.0', 'fav_number_64.0', 'height_64.0', 'farthest_distance_travelled_7403.0', 'fav_number_20.0', 'NU_GPA_3.77', 'height_mother_63.5', 'num_insta_followers_1400.0', 'NU_GPA_3.82', 'expected_starting_salary_95000.0', 'farthest_distance_travelled_100.0', 'age_26.0', 'num_clubs_7', 'NU_GPA_3.83', 'internet_hours_per_day_8.0', 'high_school_GPA_4.08', 'age_22.0', 'NU_GPA_3.485', 'high_school_GPA_4.11', 'height_mother_61.0', 'fav_number_45.0', 'childhood_in_US_0', 'num_insta_followers_960.0', 'height_mother_64.96', 'internet_hours_per_day_300.0', 'minutes_ex_per_week_40.0', 'farthest_distance_travelled_7600.0', 'farthest_distance_travelled_6603.0', 'height_78.0', 'fav_number_8.0', 'num_clubs_2', 'NU_GPA_3.64', 'farthest_distance_travelled_4600.0', 'height_166.0', 'height_mother_55.0', 'farthest_distance_travelled_8050.0', 'farthest_distance_travelled_8.0', 'high_school_GPA_3.99', 'minutes_ex_per_week_630.0', 'height_68.0', 'num_insta_followers_100.0', 'num_insta_followers_1230.0', 'farthest_distance_travelled_7447.0', 'num_insta_followers_30.0', 'fav_number_49.0', 'farthest_distance_travelled_4100.0', 'expected_starting_salary_55000.0', 'farthest_distance_travelled_6825.0', 'high_school_GPA_3.83', 'fav_number_17.0', 'sleep_hours_per_day_12', 'NU_GPA_3.84', 'farthest_distance_travelled_7156.0', 'expected_starting_salary_65000.0', 'farthest_distance_travelled_3657.0', 'fav_number_13.0', 'internet_hours_per_day_7.5', 'farthest_distance_travelled_5430.0', 'num_majors_minors_4.0', 'farthest_distance_travelled_4000.0', 'height_father_69.0', 'minutes_ex_per_week_120.0', 'height_72.0', 'parties_per_month_4.0', 'NU_GPA_3.78', 'high_school_GPA_3.9', 'NU_GPA_3.68', 'farthest_distance_travelled_4630.0', 'num_insta_followers_420.0', 'fav_number_420.0', 'minutes_ex_per_week_10.0', 'minutes_ex_per_week_350.0', 'farthest_distance_travelled_8338.0', 'internet_hours_per_day_6.0', 'num_insta_followers_250.0', 'farthest_distance_travelled_5811.0', 'expected_marriage_age_120.0', 'NU_GPA_3.97', 'height_5.8', 'num_insta_followers_450.0', 'farthest_distance_travelled_8200.0', 'internet_hours_per_day_19.0', 'height_mother_59.0', 'farthest_distance_travelled_20000.0', 'farthest_distance_travelled_8509.0', 'farthest_distance_travelled_10000.0', 'farthest_distance_travelled_1272.0', 'farthest_distance_travelled_9589.0', 'farthest_distance_travelled_6182.0', 'minutes_ex_per_week_140.0', 'NU_GPA_3.94', 'farthest_distance_travelled_12000.0', 'num_insta_followers_1800.0', 'fav_number_50.0', 'minutes_ex_per_week_300.0', 'NU_GPA_3.72', 'num_insta_followers_1330.0', 'farthest_distance_travelled_6800.0', 'farthest_distance_travelled_1050.0', 'much_effort_is_lack_of_talent_0', 'expected_starting_salary_69000.0', 'height_66.5', 'minutes_ex_per_week_5.0', 'num_insta_followers_1447.0', 'num_insta_followers_394.0', 'NU_GPA_3.65', 'parties_per_month_60.0', 'NU_GPA_3.415', 'num_insta_followers_700.0', 'height_father_64.0', 'sleep_hours_per_day_3', 'height_73.0', 'expected_starting_salary_220000.0', 'minutes_ex_per_week_540.0', 'can_change_math_ability_1', 'expected_starting_salary_40000.0', 'farthest_distance_travelled_5561.0', 'farthest_distance_travelled_5935.0', 'num_insta_followers_740.0', 'fav_number_2307.0', 'num_insta_followers_900.0', 'height_father_76.0', 'farthest_distance_travelled_6585.0', 'minutes_ex_per_week_6.0', 'expected_starting_salary_125000.0', 'expected_starting_salary_99000.0', 'num_insta_followers_1270.0', 'high_school_GPA_5.7', 'farthest_distance_travelled_6600.0', 'fav_number_34.0', 'farthest_distance_travelled_755.0', 'NU_GPA_3.98', 'high_school_GPA_5.01', 'farthest_distance_travelled_4725.0', 'height_father_68.50394', 'num_clubs_5', 'much_effort_is_lack_of_talent_1', 'num_insta_followers_1600.0', 'height_80.0', 'parties_per_month_11.0', 'expected_starting_salary_50000.0', 'parties_per_month_10.0', 'farthest_distance_travelled_7300.0', 'num_insta_followers_150.0', 'height_father_68.9', 'farthest_distance_travelled_7672.0', 'num_clubs_1', 'num_insta_followers_400.0', 'farthest_distance_travelled_6173.0', 'farthest_distance_travelled_4200.0', 'minutes_ex_per_week_280.0', 'fav_number_512.0', 'expected_marriage_age_24.0', 'sleep_hours_per_day_8', 'high_school_GPA_4.35', 'farthest_distance_travelled_8740.0', 'farthest_distance_travelled_1300.0', 'num_insta_followers_550.0', 'NU_GPA_3.75', 'NU_GPA_3.855'}\n",
      "Columns in second approach but not in first: {'love_first_sight', 'height', 'sleep_hours_per_day', 'can_change_math_ability', 'minutes_ex_per_week', 'NU_GPA', 'expected_marriage_age', 'farthest_distance_travelled', 'parties_per_month', 'height_mother', 'high_school_GPA', 'much_effort_is_lack_of_talent', 'math_is_genetic', 'procrastinator', 'childhood_in_US', 'fav_number', 'cant_change_math_ability', 'student_athlete', 'internet_hours_per_day', 'num_clubs', 'num_majors_minors', 'expected_starting_salary', 'only_child', 'num_insta_followers', 'AP_stats', 'age', 'used_python_before', 'height_father'}\n"
     ]
    }
   ],
   "source": [
    "print(\"Columns in first approach but not in second:\", set(survey_dummies_1.columns) - set(survey_dummies2.columns))\n",
    "print(\"Columns in second approach but not in first:\", set(survey_dummies2.columns) - set(survey_dummies_1.columns))\n"
   ]
  },
  {
   "cell_type": "markdown",
   "metadata": {},
   "source": [
    "The second method is correct because it only creates dummy variables for categorical variables whereas the first method creates different columns for every unique value of numerical variables, creating many more columns than the second method."
   ]
  },
  {
   "cell_type": "code",
   "execution_count": 6,
   "metadata": {},
   "outputs": [
    {
     "data": {
      "text/plain": [
       "Index(['artist_followers', 'genres', 'artist_name', 'artist_popularity',\n",
       "       'track_name', 'track_popularity', 'duration_ms', 'explicit',\n",
       "       'release_year', 'danceability', 'energy', 'key', 'loudness', 'mode',\n",
       "       'speechiness', 'acousticness', 'instrumentalness', 'liveness',\n",
       "       'valence', 'tempo', 'time_signature'],\n",
       "      dtype='object')"
      ]
     },
     "execution_count": 6,
     "metadata": {},
     "output_type": "execute_result"
    }
   ],
   "source": [
    "spotify_data = pd.read_csv(\"/Users/vaibhavrangan/Downloads/Stat_303-1/Data/spotify_data.csv\")\n",
    "spotify_data.columns"
   ]
  },
  {
   "cell_type": "code",
   "execution_count": 7,
   "metadata": {},
   "outputs": [
    {
     "name": "stdout",
     "output_type": "stream",
     "text": [
      "genres                      pop\n",
      "energy_lvl          High energy\n",
      "num_observations          36699\n",
      "percentage              15.0907\n",
      "Name: 19, dtype: object\n"
     ]
    }
   ],
   "source": [
    "spotify_data['energy_lvl'] = pd.qcut(spotify_data['energy'], q=2, labels=['Low energy', 'High energy'])\n",
    "genre_energy_count = spotify_data.groupby(['genres', 'energy_lvl']).size().reset_index(name='num_observations')\n",
    "genre_energy_count['percentage'] = (genre_energy_count['num_observations'] / genre_energy_count['num_observations'].sum()) * 100\n",
    "highest_percentage_combo = genre_energy_count.loc[genre_energy_count['percentage'].idxmax()]\n",
    "print(highest_percentage_combo)"
   ]
  },
  {
   "cell_type": "code",
   "execution_count": 9,
   "metadata": {},
   "outputs": [
    {
     "data": {
      "text/plain": [
       "artist_name\n",
       "Queen                89.0\n",
       "Imagine Dragons      89.0\n",
       "The Beatles          88.0\n",
       "Arctic Monkeys       87.0\n",
       "Twenty One Pilots    86.0\n",
       "Name: artist_popularity, dtype: float64"
      ]
     },
     "execution_count": 9,
     "metadata": {},
     "output_type": "execute_result"
    }
   ],
   "source": [
    "rock = spotify_data[(spotify_data['genres'] == 'rock')]\n",
    "rock_artists_grouped = rock.groupby('artist_name')['artist_popularity'].mean()\n",
    "# sort rock_artists_grouped by artist_popularity\n",
    "rock_artists_grouped.sort_values(ascending=False).head(5)"
   ]
  },
  {
   "cell_type": "code",
   "execution_count": null,
   "metadata": {},
   "outputs": [
    {
     "name": "stdout",
     "output_type": "stream",
     "text": [
      "5.784114275117673\n"
     ]
    }
   ],
   "source": [
    "# Find the top 5 artists by 'artist_popularity' in each genre\n",
    "top_artists_per_genre = spotify_data.sort_values('artist_popularity', ascending=False).groupby('genres')['artist_name'].unique().apply(lambda x: x[:5])\n",
    "\n",
    "# Filter the dataset to only include tracks by these top artists\n",
    "top_tracks = spotify_data[spotify_data.apply(lambda row: row['artist_name'] in top_artists_per_genre.get(row['genres'], []), axis=1)]\n",
    "\n",
    "# Calculate the number of unique tracks contributed by these top artists\n",
    "unique_tracks_top_artists = top_tracks['track_name'].nunique()\n",
    "\n",
    "# Calculate the total number of unique tracks in the dataset\n",
    "total_unique_tracks = spotify_data['track_name'].nunique()\n",
    "\n",
    "# Calculate the percentage\n",
    "print((unique_tracks_top_artists / total_unique_tracks) * 100)\n",
    "\n"
   ]
  }
 ],
 "metadata": {
  "kernelspec": {
   "display_name": ".venv",
   "language": "python",
   "name": "python3"
  },
  "language_info": {
   "codemirror_mode": {
    "name": "ipython",
    "version": 3
   },
   "file_extension": ".py",
   "mimetype": "text/x-python",
   "name": "python",
   "nbconvert_exporter": "python",
   "pygments_lexer": "ipython3",
   "version": "3.7.0"
  }
 },
 "nbformat": 4,
 "nbformat_minor": 2
}
