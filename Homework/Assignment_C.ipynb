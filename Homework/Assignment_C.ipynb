{
 "cells": [
  {
   "cell_type": "raw",
   "id": "33dd6c4c",
   "metadata": {},
   "source": [
    "---\n",
    "title: \"Assignment C\"\n",
    "subtitle: \"Pandas\"\n",
    "format: \n",
    "  html:\n",
    "    toc: true\n",
    "    toc-title: Contents\n",
    "    code-fold: show\n",
    "    self-contained: true\n",
    "jupyter: python3\n",
    "---"
   ]
  },
  {
   "cell_type": "markdown",
   "id": "0116f49b",
   "metadata": {},
   "source": [
    "## Instructions {-}\n",
    "\n",
    "1. You may talk to a friend, discuss the questions and potential directions for solving them. However, you need to write your own solutions and code separately, and not as a group activity. \n",
    "\n",
    "2. Do not write your name on the assignment.\n",
    "\n",
    "3. Write your code in the *Code* cells and your answer in the *Markdown* cells of the Jupyter notebook. Ensure that the solution is written neatly enough to understand and grade.\n",
    "\n",
    "4. Use [Quarto](https://quarto.org/docs/output-formats/html-basics.html) to print the *.ipynb* file as HTML. You will need to open the command prompt, navigate to the directory containing the file, and use the command: `quarto render filename.ipynb --to html`. Submit the HTML file.\n",
    "\n",
    "5. The assignment is worth 100 points, and is due on **22nd October 2023 at 11:59 pm**. There is an optional bonus question worth 10 points. You can score a maximum of 110 (out of 100) points.\n",
    "\n",
    "6. You are **not allowed to use a `for` loop** or any other kind of loop in this assignment."
   ]
  },
  {
   "cell_type": "markdown",
   "id": "fe7ea9bb",
   "metadata": {},
   "source": [
    "## C.1 GDP per capita & social indicators\n",
    "Read the file *social_indicator.txt* with python. Set the first column as the index when reading the file. How many observations and variables are there in the data?\n",
    "\n",
    "*(4 points)*"
   ]
  },
  {
   "cell_type": "code",
   "execution_count": 214,
   "id": "e1c939e0",
   "metadata": {},
   "outputs": [
    {
     "name": "stdout",
     "output_type": "stream",
     "text": [
      "155\n"
     ]
    }
   ],
   "source": [
    "import pandas as pd\n",
    "\n",
    "social_data = pd.read_csv(\"/Users/vaibhavrangan/Downloads/Stat_303-1/Data/social_indicator.txt\", index_col=\"Index\",sep=\"\\t\")\n",
    "\n",
    "print(len(social_data))\n"
   ]
  },
  {
   "cell_type": "markdown",
   "id": "16c1a490",
   "metadata": {},
   "source": [
    "### C.1.1\n",
    "Which variables have the strongest and weakest correlations with GDP per capita? Note that `lifeFemale` and `lifeMale` are the female and male life expectancies respectively.\n",
    "\n",
    "Note that only when the magnitude of the correlation is considered when judging a correlation as strong or weak.\n",
    "\n",
    "*(4 points)*"
   ]
  },
  {
   "cell_type": "code",
   "execution_count": 215,
   "id": "2d828bd3",
   "metadata": {},
   "outputs": [
    {
     "name": "stdout",
     "output_type": "stream",
     "text": [
      "gdpPerCapita              1.000000\n",
      "lifeFemale                0.604029\n",
      "lifeMale                  0.592267\n",
      "economicActivityFemale    0.052964\n",
      "contraception             0.004286\n",
      "economicActivityMale     -0.167231\n",
      "illiteracyFemale         -0.457012\n",
      "illiteracyMale           -0.471689\n",
      "totalfertilityrate       -0.548172\n",
      "infantMortality          -0.584060\n",
      "Name: gdpPerCapita, dtype: float64\n",
      "lifeFemale and lifeMale have the strongest correlations with gdpPerCapita and contraception and economicActivityFemale have the weakest correlations with gdpPerCapita\n"
     ]
    }
   ],
   "source": [
    "# find correlations of each variable with gdpPerCapita\n",
    "print(social_data.corr()['gdpPerCapita'].sort_values(ascending=False))\n",
    "\n",
    "print(\"lifeFemale and lifeMale have the strongest correlations with gdpPerCapita and contraception and economicActivityFemale have the weakest correlations with gdpPerCapita\")\n"
   ]
  },
  {
   "cell_type": "markdown",
   "id": "3b9b32b3",
   "metadata": {},
   "source": [
    "### C.1.2\n",
    "Does the male economic activity *(in the column `economicActivityMale`)* have a positive or negative correlation with GDP per capita? Did you expect the positive/negative correlation? If not, why do you think you are observing that correlation?\n",
    "\n",
    "*(4 points)*"
   ]
  },
  {
   "cell_type": "markdown",
   "id": "4439eef9",
   "metadata": {},
   "source": [
    "Male economic activity has a negative correlation with GDP per capita. I didn't expect this negative correlation but I believe I'm observing this correlation because nations with higher male economic activity relative to average are more unequal and thus less prosperous societies."
   ]
  },
  {
   "cell_type": "markdown",
   "id": "3eb2d4f2",
   "metadata": {},
   "source": [
    "### C.1.3\n",
    "\n",
    "What is the rank of the US amongst all countries in terms of GDP per capita? Which countries lie immediately above, and immediately below the US in the ranking in terms of GDP per capita? The country having the highest GDP per capita ranks 1.\n",
    "\n",
    "Note that:\n",
    "\n",
    "1. The US is mentioned as *United States* in the data. \n",
    "\n",
    "2. The country with the highest GDP per capita will have rank 1, the country with the second highest GDP per capita will have rank 2, and so on.\n",
    "\n",
    "**Hint:** [rank()](https://pandas.pydata.org/docs/reference/api/pandas.Series.rank.html)\n",
    "\n",
    "*(4 points)*"
   ]
  },
  {
   "cell_type": "code",
   "execution_count": 216,
   "id": "80cff498",
   "metadata": {},
   "outputs": [
    {
     "name": "stdout",
     "output_type": "stream",
     "text": [
      "8.0\n",
      "Norway\n",
      "Brunei\n"
     ]
    }
   ],
   "source": [
    "social_data['rank'] = social_data['gdpPerCapita'].rank(ascending=False)\n",
    "print(social_data.loc[social_data['country'] == 'United States', 'rank'].values[0])\n",
    "print(social_data.loc[social_data[\"rank\"] == 7.0, \"country\"].values[0])\n",
    "print(social_data.loc[social_data[\"rank\"] == 9.0, \"country\"].values[0])"
   ]
  },
  {
   "cell_type": "markdown",
   "id": "b87778de",
   "metadata": {},
   "source": [
    "### C.1.4\n",
    "\n",
    "Which country or countries rank among the top 20 in terms of each of these social indicators - `economicActivityFemale`, `economicActivityMale`, `gdpPerCapita`, `lifeFemale`, `lifeMale`? For each of these social indicators, the country having the largest value ranks 1 for that indicator.\n",
    "\n",
    "*(6 points)*\n",
    "\n",
    "**Hint:** \n",
    "\n",
    "1. Use [rank()](https://pandas.pydata.org/docs/reference/api/pandas.DataFrame.rank.html). Note that this method is different from the method given in the hint of the previous question. This method is of the DataFrame class, while the one in the previous question is of the Series class. *This part of the hint is just for your understanding. You don't need to write any code in this part.*\n",
    "\n",
    "2. Using `rank()`, get the DataFrame consisting of the ranks of countries on each of the relevant social indicators *(one line of code)*.\n",
    "\n",
    "3. In the DataFrame obtained in (2), filter the rows for which the maximum rank is less than or equal to 20 *(one line of code)*."
   ]
  },
  {
   "cell_type": "code",
   "execution_count": 217,
   "id": "64cb0c89",
   "metadata": {},
   "outputs": [
    {
     "name": "stdout",
     "output_type": "stream",
     "text": [
      "['Iceland']\n"
     ]
    }
   ],
   "source": [
    "ranked_indicators = social_data[['economicActivityFemale', 'economicActivityMale', 'gdpPerCapita', 'lifeFemale', 'lifeMale']].rank(ascending=False)\n",
    "top_countries = ranked_indicators[ranked_indicators.max(axis=1) <= 20]\n",
    "print(social_data.loc[top_countries.index, ['country']].values[0])"
   ]
  },
  {
   "cell_type": "markdown",
   "id": "0957416b",
   "metadata": {},
   "source": [
    "### C.1.5\n",
    "\n",
    "On which social indicator among `economicActivityFemale`, `economicActivityMale`, `gdpPerCapita`, `lifeFemale`, `lifeMale`, `illiteracyFemale`, `illiteracyMale`, `infantMortality`, and `totalfertilityrate` does the US have its worst ranking, and what is the rank? Note that for `illiteracyFemale`, `illiteracyMale`, and `infantMortality`, the country having the lowest value will rank 1, in contrast to the other social indicators.\n",
    "\n",
    "*(8 points)*"
   ]
  },
  {
   "cell_type": "code",
   "execution_count": 218,
   "id": "38de923a",
   "metadata": {},
   "outputs": [
    {
     "name": "stdout",
     "output_type": "stream",
     "text": [
      "economicActivityMale\n"
     ]
    }
   ],
   "source": [
    "descending_ranked_columns = social_data[['illiteracyFemale', 'illiteracyMale', 'infantMortality']].rank(ascending=False)\n",
    "ascending_ranked_columns = social_data[[\"totalfertilityrate\"]].rank(ascending=True)\n",
    "all_indicators = pd.concat([ranked_indicators, descending_ranked_columns, ascending_ranked_columns], axis=1)\n",
    "\n",
    "us_index = social_data.loc[social_data['country'] == 'United States'].index\n",
    "us_rankings = all_indicators.loc[us_index, :]\n",
    "us_rankings[[\"illiteracyFemale\", \"illiteracyMale\", \"infantMortality\"]] = all_indicators[[\"illiteracyFemale\", \"illiteracyMale\", \"infantMortality\"]].max().max() - us_rankings[[\"illiteracyFemale\", \"illiteracyMale\", \"infantMortality\"]]\n",
    "\n",
    "\n",
    "print(us_rankings.idxmax(axis=1).values[0])"
   ]
  },
  {
   "cell_type": "markdown",
   "id": "4d946683",
   "metadata": {},
   "source": [
    "### C.1.6\n",
    "\n",
    "Find all the countries that have a lower GDP per capita than the US, despite having lower illiteracy rates (for both genders), higher economic activity (for both genders), higher life expectancy (for both genders), and lower infant mortality rate than the US?\n",
    "\n",
    "*(6 points)*"
   ]
  },
  {
   "cell_type": "code",
   "execution_count": 219,
   "id": "89786618",
   "metadata": {},
   "outputs": [
    {
     "name": "stdout",
     "output_type": "stream",
     "text": [
      "['Iceland' 'Sweden' 'Netherlands']\n"
     ]
    }
   ],
   "source": [
    "us_gdp = social_data.loc[social_data['country'] == 'United States', 'gdpPerCapita'].values[0]\n",
    "us_male_illiteracy = social_data.loc[social_data['country'] == 'United States', 'illiteracyMale'].values[0]\n",
    "us_female_illiteracy = social_data.loc[social_data['country'] == 'United States', 'illiteracyFemale'].values[0]\n",
    "us_male_economic_activity = social_data.loc[social_data['country'] == 'United States', 'economicActivityMale'].values[0]\n",
    "us_female_economic_activity = social_data.loc[social_data['country'] == 'United States', 'economicActivityFemale'].values[0]\n",
    "us_life_fem = social_data.loc[social_data['country'] == 'United States', 'lifeFemale'].values[0]\n",
    "us_life_male = social_data.loc[social_data['country'] == 'United States', 'lifeMale'].values[0]\n",
    "us_infant_mortality = social_data.loc[social_data['country'] == 'United States', 'infantMortality'].values[0]\n",
    "\n",
    "\n",
    "conditions = (\n",
    "    (social_data['gdpPerCapita'] < us_gdp) & \n",
    "    (social_data['illiteracyFemale'] < us_female_illiteracy) & \n",
    "    (social_data['illiteracyMale'] < us_male_illiteracy) & \n",
    "    (social_data['economicActivityFemale'] > us_female_economic_activity) & \n",
    "    (social_data['economicActivityMale'] > us_male_economic_activity) & \n",
    "    (social_data['lifeFemale'] > us_life_fem) & \n",
    "    (social_data['lifeMale'] > us_life_male) & \n",
    "    (social_data['infantMortality'] < us_infant_mortality)\n",
    ")\n",
    "\n",
    "print(social_data.loc[conditions, \"country\"].values)"
   ]
  },
  {
   "cell_type": "markdown",
   "id": "cb8a845f",
   "metadata": {},
   "source": [
    "## C.2 GDP per capita vs social indicators\n",
    "We'll use the same data as in in the previous question. For the questions below, assume that all numeric columns, **except GDP per capita**, are social indicators."
   ]
  },
  {
   "cell_type": "markdown",
   "id": "3b5f5b12",
   "metadata": {},
   "source": [
    "###  C.2.1\n",
    "Use the column `geographic_location` to create a new column called `continent`. Merge the values of the `geographic_location` column appropriately to obtain 6 distinct values for the `continent` column – *Asia, Africa, North America, South America, Europe* and *Oceania*. Drop the column `geographic_location`. Print the first 5 observations of the updated DataFrame.\n",
    "\n",
    "*(8 points)*\n",
    "\n",
    "**Hint:**\n",
    "\n",
    "1. Use `value_counts()` to see the values of `geographic_location`. The code `if 'Asia' in 'something'` will return `True` if '*something*' contains the string '*Asia*', for example, if '*something*' is '*North Asia*', the code with return True. *This part of the hint is just for your understanding. You don't need to write any code in this part.*\n",
    "\n",
    "2. Apply a lambda function on the Series `geographic_location` to replace a string that contains '*Asia*' with '*Asia*', replace a string that contains '*Europe*' with '*Europe*', and replace a string that contains '*Africa*' with '*Africa*'. *This will be a single line of code.*\n",
    "\n",
    "3. Rename the column `georgaphic_location` to `continent`."
   ]
  },
  {
   "cell_type": "code",
   "execution_count": 220,
   "id": "6653451e",
   "metadata": {},
   "outputs": [
    {
     "data": {
      "text/plain": [
       "Index\n",
       "1        Asia\n",
       "9        Asia\n",
       "124    Africa\n",
       "3        Asia\n",
       "11       Asia\n",
       "Name: continent, dtype: object"
      ]
     },
     "execution_count": 220,
     "metadata": {},
     "output_type": "execute_result"
    }
   ],
   "source": [
    "social_data[\"geographic_location\"] = social_data[\"geographic_location\"].apply(lambda x: \"Asia\" if \"Asia\" in x  else\n",
    "                                                                              \"Africa\" if \"Africa\" in x else\n",
    "                                                                              \"Europe\" if \"Europe\" in x  else\n",
    "                                                                              \"North America\" if \"North America\" in x else\n",
    "                                                                              \"Oceania\" if \"Oceania\" in x  else\n",
    "                                                                              \"South America\" if \"South America\" in x else x)\n",
    "\n",
    "# rename geographic_location column to \"continent\"\n",
    "social_data = social_data.rename(columns={\"geographic_location\": \"continent\"})\n",
    "social_data[\"continent\"].head(5)"
   ]
  },
  {
   "cell_type": "markdown",
   "id": "2a672db6",
   "metadata": {},
   "source": [
    "### C.2.2\n",
    "Sort the column labels lexicographically. Drop the columns `region` and `contraception`. Print the first 5 observations of the updated DataFrame.\n",
    "\n",
    "**Hint:** [sort_index()](https://pandas.pydata.org/docs/reference/api/pandas.DataFrame.sort_index.html)\n",
    "\n",
    "*(4 points)*"
   ]
  },
  {
   "cell_type": "code",
   "execution_count": 221,
   "id": "a7401961",
   "metadata": {},
   "outputs": [
    {
     "name": "stdout",
     "output_type": "stream",
     "text": [
      "      continent      country  economicActivityFemale  economicActivityMale  \\\n",
      "Index                                                                        \n",
      "1          Asia        Yemen                     1.9                  80.6   \n",
      "9          Asia         Oman                    15.8                  84.1   \n",
      "124      Africa     Ethiopia                    58.4                  84.7   \n",
      "3          Asia  Afghanistan                     7.2                  87.5   \n",
      "11         Asia     Maldives                    20.2                  77.3   \n",
      "\n",
      "       gdpPerCapita  illiteracyFemale  illiteracyMale  infantMortality  \\\n",
      "Index                                                                    \n",
      "1              1924            69.552          32.406               80   \n",
      "9             30404             7.310           3.010               25   \n",
      "124            2973            74.700          54.500              107   \n",
      "3              2474            85.000          52.800              154   \n",
      "11            23343             7.000           6.700               49   \n",
      "\n",
      "       lifeFemale  lifeMale   rank  totalfertilityrate  \n",
      "Index                                                   \n",
      "1            58.4      57.4  149.0                 7.6  \n",
      "9            73.3      68.9   48.0                 7.2  \n",
      "124          51.6      48.4  138.0                 7.0  \n",
      "3            46.0      45.0  144.0                 6.9  \n",
      "11           63.3      65.7   59.0                 6.8  \n"
     ]
    }
   ],
   "source": [
    "sorted_social_data = social_data.sort_index(axis = 1)\n",
    "sorted_social_data = sorted_social_data.drop(columns = [\"region\", \"contraception\"])\n",
    "print(sorted_social_data.head(5))"
   ]
  },
  {
   "cell_type": "markdown",
   "id": "7a7423d0",
   "metadata": {},
   "source": [
    "### C.2.3\n",
    "\n",
    "Find the percentage of the total countries in each continent.\n",
    "\n",
    "**Hint:** One line of code with `value_counts()` and `shape`\n",
    "\n",
    "*(4 points)*"
   ]
  },
  {
   "cell_type": "code",
   "execution_count": 222,
   "id": "175a78b5",
   "metadata": {},
   "outputs": [
    {
     "data": {
      "text/plain": [
       "continent\n",
       "Asia             26.451613\n",
       "Europe           22.580645\n",
       "Africa           20.000000\n",
       "North America    13.548387\n",
       "Oceania           9.677419\n",
       "South America     7.741935\n",
       "dtype: float64"
      ]
     },
     "execution_count": 222,
     "metadata": {},
     "output_type": "execute_result"
    }
   ],
   "source": [
    "100*(social_data.value_counts(\"continent\")/social_data.shape[0])"
   ]
  },
  {
   "cell_type": "markdown",
   "id": "57e41b2a",
   "metadata": {},
   "source": [
    "### C.2.4\n",
    "\n",
    "Which country has the highest GDP per capita? Let us call it country $G$.\n",
    "\n",
    "*(4 points)*"
   ]
  },
  {
   "cell_type": "code",
   "execution_count": 223,
   "id": "fff9e406",
   "metadata": {},
   "outputs": [
    {
     "name": "stdout",
     "output_type": "stream",
     "text": [
      "Luxembourg\n"
     ]
    }
   ],
   "source": [
    "max_gdp = social_data[\"gdpPerCapita\"].max()\n",
    "country_g = social_data[social_data[\"gdpPerCapita\"] == max_gdp][\"country\"] \n",
    "print(country_g.values[0]) "
   ]
  },
  {
   "cell_type": "markdown",
   "id": "bfc4579e",
   "metadata": {},
   "source": [
    "### C.2.5\n",
    "We need to find the African country that is the closest to country $G$ with regard to social indicators. Perform the following steps:\n",
    "\n",
    "#### C.2.5.1\t\n",
    "Standardize each of the social indicators to a standard normal distribution so that all of them are on the same scale (remember to exclude *GDP per capita* from social indicators).\n",
    "\n",
    "**Hint:**\n",
    "\n",
    "1. For scaling a random variable to standard normal, subtract the mean from each value of the variable, and divide by its standard deviation.\n",
    "\n",
    "2. Use the apply method with a lambda function to scale all the social indicators to standard normal.\n",
    "\n",
    "3. The above (1) and (2) together is a single line of code.\n",
    "\n",
    "*(6 points)*"
   ]
  },
  {
   "cell_type": "code",
   "execution_count": 224,
   "id": "311c872f",
   "metadata": {},
   "outputs": [
    {
     "name": "stdout",
     "output_type": "stream",
     "text": [
      "       economicActivityFemale  economicActivityMale  illiteracyFemale  \\\n",
      "Index                                                                   \n",
      "1                   -2.608875              0.521297          1.910795   \n",
      "9                   -1.794841              0.975454         -0.560149   \n",
      "124                  0.699967              1.053310          2.115165   \n",
      "3                   -2.298488              1.416635          2.524065   \n",
      "11                  -1.537162              0.093092         -0.572456   \n",
      "...                       ...                   ...               ...   \n",
      "74                   0.049911             -1.100693         -0.810650   \n",
      "97                   0.284166             -1.567826         -0.833199   \n",
      "110                  0.448144             -0.659511         -0.842409   \n",
      "41                  -0.553294             -1.749488         -0.695523   \n",
      "36                  -0.693846             -1.944127         -0.755071   \n",
      "\n",
      "       illiteracyMale  infantMortality  lifeFemale  lifeMale  \\\n",
      "Index                                                          \n",
      "1            1.110789         1.247233   -1.198493 -0.895118   \n",
      "9           -0.647801        -0.333597    0.278282  0.387065   \n",
      "124          2.432543         2.023276   -1.872458 -1.898566   \n",
      "3            2.330842         3.374166   -2.427488 -2.277646   \n",
      "11          -0.427050         0.356220   -0.712842  0.030283   \n",
      "...               ...              ...         ...       ...   \n",
      "74          -0.768047        -0.879701    0.932424  0.888788   \n",
      "97          -0.812078        -0.850959    0.724288  0.420513   \n",
      "110         -0.815907        -0.707247    0.446773 -0.170406   \n",
      "41          -0.720188        -0.850959    1.091004  1.011432   \n",
      "36          -0.744118        -0.850959    1.081093  1.078328   \n",
      "\n",
      "       totalfertilityrate  \n",
      "Index                      \n",
      "1                2.719042  \n",
      "9                2.471951  \n",
      "124              2.348405  \n",
      "3                2.286632  \n",
      "11               2.224859  \n",
      "...                   ...  \n",
      "74              -1.172648  \n",
      "97              -1.172648  \n",
      "110             -1.172648  \n",
      "41              -1.222066  \n",
      "36              -1.240598  \n",
      "\n",
      "[155 rows x 8 columns]\n"
     ]
    }
   ],
   "source": [
    "social_indicators = [\"economicActivityFemale\", \n",
    "    \"economicActivityMale\", \n",
    "    \"illiteracyFemale\", \n",
    "    \"illiteracyMale\", \n",
    "    \"infantMortality\", \n",
    "    \"lifeFemale\", \n",
    "    \"lifeMale\", \n",
    "    \"totalfertilityrate\"]\n",
    "\n",
    "normalized_social_data = social_data[social_indicators].apply(lambda x: (x - x.mean()) / x.std())\n",
    "print(normalized_social_data) \n",
    "\n"
   ]
  },
  {
   "cell_type": "markdown",
   "id": "7e215e6d",
   "metadata": {},
   "source": [
    "#### C.2.5.2\n",
    "Compute the [Manhattan distance](https://en.wikipedia.org/wiki/Taxicab_geometry) between country $G$ and each of the African countries, based on the scaled social indicators.\n",
    "\n",
    "**Hint:** \n",
    "\n",
    "1. Broadcast a Series to a DataFrame\n",
    "\n",
    "2. The Manhattan distance between two points $(x_1, x_2, ..., x_p)$ and $(y_1, y_2, ..., y_p)$ is $|x_1 - y_1| + |x_2 - y_2| + ... + |x_p-y_p|$, where $|.|$ stands for absolute value (for example, $|-2| = 2;  |3| = 3$).\n",
    "\n",
    "*(8 points)*"
   ]
  },
  {
   "cell_type": "code",
   "execution_count": 225,
   "id": "4dc0c889",
   "metadata": {},
   "outputs": [
    {
     "name": "stdout",
     "output_type": "stream",
     "text": [
      "Index\n",
      "124    21.506361\n",
      "146    22.487953\n",
      "68     20.935868\n",
      "151    25.148325\n",
      "155    24.333913\n",
      "94     17.169729\n",
      "148    26.037851\n",
      "154    23.101754\n",
      "42     15.264537\n",
      "88     13.552373\n",
      "122    19.562837\n",
      "16     18.630221\n",
      "18     20.222236\n",
      "59     15.882509\n",
      "66     18.348685\n",
      "57     18.600012\n",
      "142    18.662018\n",
      "84     10.853300\n",
      "73     12.812347\n",
      "19     14.962067\n",
      "23      9.734368\n",
      "55     12.747434\n",
      "4      10.517160\n",
      "93      9.088161\n",
      "51      9.364599\n",
      "13     10.984499\n",
      "17     11.300956\n",
      "12      8.260904\n",
      "118     6.372256\n",
      "45      5.051104\n",
      "56      3.183005\n",
      "dtype: float64\n"
     ]
    }
   ],
   "source": [
    "african_rows = normalized_social_data.loc[social_data['continent'] == \"Africa\", social_indicators]\n",
    "g_rows = normalized_social_data.loc[social_data['country'] == country_g.values[0], social_indicators]\n",
    "manhattan_distances = african_rows[social_indicators].apply(\n",
    "    lambda x: (x - g_rows.values.flatten()).abs().sum(), axis=1\n",
    ")\n",
    "print(manhattan_distances)\n"
   ]
  },
  {
   "cell_type": "markdown",
   "id": "dabff2f9",
   "metadata": {},
   "source": [
    "#### C.2.5.3\n",
    "Identify the African country, say country $A$, with the least Manhattan distance to country $G$.\n",
    "\n",
    "*(8 points)*"
   ]
  },
  {
   "cell_type": "code",
   "execution_count": 226,
   "id": "398c2148",
   "metadata": {},
   "outputs": [
    {
     "name": "stdout",
     "output_type": "stream",
     "text": [
      "Reunion\n"
     ]
    }
   ],
   "source": [
    "min_index = manhattan_distances.argmin()\n",
    "country_a = social_data.loc[social_data['continent'] == \"Africa\", \"country\"].iloc[min_index]\n",
    "print(country_a)"
   ]
  },
  {
   "cell_type": "markdown",
   "id": "1e21fcf2",
   "metadata": {},
   "source": [
    "### C.2.6\n",
    "Find the correlation between the Manhattan distance from country $G$ and GDP per capita for African countries.\n",
    "\n",
    "*(6 points)*"
   ]
  },
  {
   "cell_type": "code",
   "execution_count": 227,
   "id": "5d50c9be",
   "metadata": {},
   "outputs": [
    {
     "data": {
      "text/plain": [
       "-0.7126967474772727"
      ]
     },
     "execution_count": 227,
     "metadata": {},
     "output_type": "execute_result"
    }
   ],
   "source": [
    "african_subset = social_data[social_data[\"continent\"] == \"Africa\"]\n",
    "manhattan_distances.corr(african_subset[\"gdpPerCapita\"])\n"
   ]
  },
  {
   "cell_type": "markdown",
   "id": "578eab22",
   "metadata": {},
   "source": [
    "### C.2.7\n",
    "Based on the correlation coefficient in $2(f)$, do you think African countries should try to emulate the social characteristics of country $G$? Justify your answer.\n",
    "\n",
    "*(4 points)*"
   ]
  },
  {
   "cell_type": "markdown",
   "id": "94e25603",
   "metadata": {},
   "source": [
    "There is a strong negative correlation between Manhattan distance from country G and GDP per capita of African countries (-0.71). This means that the closer an African country is from the composite z-scores of the social characteristics of country_g (Luxembourg), the higher their GDP per capita tends to be. Thus, African countries should try to emulate the social characteristics of country G as changing their social characteristics to more closely resemble those of country g's would likely increase their GDP per capita,"
   ]
  },
  {
   "cell_type": "markdown",
   "id": "61e85404",
   "metadata": {},
   "source": [
    "## C.3 Medical data"
   ]
  },
  {
   "cell_type": "markdown",
   "id": "498b0a1c",
   "metadata": {},
   "source": [
    "Read the data sets *conditions.csv and patients.csv*. Suppose we are interested in studying patients with prediabetes condition. Do not drop or compute any missing values. In *condition.csv*, the patient IDs are stored in column `PATIENT`, and the medical conditions are stored in column `DESCRIPTION`. In *patient.csv*, the patient IDs are stored in column `Id`."
   ]
  },
  {
   "cell_type": "code",
   "execution_count": 228,
   "id": "5585667e",
   "metadata": {},
   "outputs": [
    {
     "data": {
      "text/plain": [
       "Index(['START', 'STOP', 'PATIENT', 'ENCOUNTER', 'CODE', 'DESCRIPTION'], dtype='object')"
      ]
     },
     "execution_count": 228,
     "metadata": {},
     "output_type": "execute_result"
    }
   ],
   "source": [
    "medical_data = pd.read_csv(\"/Users/vaibhavrangan/Downloads/Stat_303-1/Data/patients.csv\")\n",
    "conditions_data = pd.read_csv(\"/Users/vaibhavrangan/Downloads/Stat_303-1/Data/conditions.csv\")\n",
    "conditions_data.columns"
   ]
  },
  {
   "cell_type": "markdown",
   "id": "a1f97a03",
   "metadata": {},
   "source": [
    "### C.3.1\n",
    "Print the patient IDs of all the patients with prediabetes condition.\n",
    "\n",
    "*(4 points)*"
   ]
  },
  {
   "cell_type": "code",
   "execution_count": 229,
   "id": "c312856b",
   "metadata": {},
   "outputs": [
    {
     "data": {
      "text/plain": [
       "40     e9922ddd-8e85-9837-9ac8-885c34075450\n",
       "112    6d95ba48-a8be-b4c8-cdf6-f3d89142217b\n",
       "170    2599cde2-f690-8596-3cb5-905d701f6987\n",
       "182    527c52ef-be00-25b5-823b-b87005bf0d5f\n",
       "223    f3d4b3f5-5ca8-d376-c3ae-f61c93b1d130\n",
       "Name: PATIENT, dtype: object"
      ]
     },
     "execution_count": 229,
     "metadata": {},
     "output_type": "execute_result"
    }
   ],
   "source": [
    "conditions_data[conditions_data[\"DESCRIPTION\"] == \"Prediabetes\"][\"PATIENT\"]"
   ]
  },
  {
   "cell_type": "markdown",
   "id": "759b7401",
   "metadata": {},
   "source": [
    "### C.3.2\n",
    "Make a subset of the data with only prediabetes patients. How many prediabetes patients are there?\n",
    "\n",
    "*(4 points)*\n",
    "\n",
    "**Hint:** `.isin()`"
   ]
  },
  {
   "cell_type": "code",
   "execution_count": 230,
   "id": "14b881a1",
   "metadata": {},
   "outputs": [
    {
     "name": "stdout",
     "output_type": "stream",
     "text": [
      "5\n"
     ]
    }
   ],
   "source": [
    "# make a subset of medical_data with only those patients with a condition of Prediabetes\n",
    "prediabetes_patients = medical_data[medical_data[\"Id\"].isin(conditions_data[conditions_data[\"DESCRIPTION\"] == \"Prediabetes\"][\"PATIENT\"])]\n",
    "print(len(prediabetes_patients))"
   ]
  },
  {
   "cell_type": "markdown",
   "id": "7e4f600f",
   "metadata": {},
   "source": [
    "### C.3.3\n",
    "What proportion of the total `HEALTHCARE_EXPENSES` of all the patients correspond to the `HEALTHCARE_EXPENSES` of prediabetes patients.\n",
    "\n",
    "*(4 points)*"
   ]
  },
  {
   "cell_type": "code",
   "execution_count": 231,
   "id": "03749414",
   "metadata": {},
   "outputs": [
    {
     "name": "stdout",
     "output_type": "stream",
     "text": [
      "0.4609622337553665\n"
     ]
    }
   ],
   "source": [
    "total_expenses = medical_data[\"HEALTHCARE_EXPENSES\"].sum()\n",
    "prediabetes_expenses = prediabetes_patients[\"HEALTHCARE_EXPENSES\"].sum()\n",
    "print(prediabetes_expenses / total_expenses)"
   ]
  },
  {
   "cell_type": "markdown",
   "id": "5292e23c",
   "metadata": {},
   "source": [
    "## C.4 Bonus question\n",
    "This is an optional question with no partial credit. You will get points only if your solution is completely correct. We advise you to attempt it only when you are done with the rest of the assignment.\n",
    "\n",
    "*(10 points)*"
   ]
  },
  {
   "cell_type": "markdown",
   "id": "a783fc80",
   "metadata": {},
   "source": [
    "Read the file *STAT303-1 survey for data analysis.csv*. In this question, we'll work to clean this data a bit. As with every question, you are **not** allowed to use a `for` loop or any other loop."
   ]
  },
  {
   "cell_type": "markdown",
   "id": "2bfe92a4",
   "metadata": {},
   "source": [
    "Execute the following code to read the data and clean the column names."
   ]
  },
  {
   "cell_type": "code",
   "execution_count": 232,
   "id": "cb1eb89a",
   "metadata": {},
   "outputs": [],
   "source": [
    "survey_data = pd.read_csv('/Users/vaibhavrangan/Downloads/Stat_303-1/Data/STAT303-1 survey for data analysis.csv')\n",
    "new_col_names = ['parties_per_month', 'smoke', 'weed', 'introvert_extrovert', 'love_first_sight', 'learning_style', 'left_right_brained', 'personality_type', 'social_media', 'num_insta_followers', 'streaming_platforms', 'expected_marriage_age', 'expected_starting_salary', 'fav_sport', 'minutes_ex_per_week', 'sleep_hours_per_day', 'how_happy', 'farthest_distance_travelled', 'fav_number', 'fav_letter', 'internet_hours_per_day', 'only_child', 'birthdate_odd_even', 'birth_month', 'fav_season', 'living_location_on_campus', 'major', 'num_majors_minors', 'high_school_GPA', 'NU_GPA', 'age', 'height', 'height_father', 'height_mother', 'school_year', 'procrastinator', 'num_clubs', 'student_athlete', 'AP_stats', 'used_python_before', 'dominant_hand', 'childhood_in_US', 'gender', 'region_of_residence', 'political_affliation', 'cant_change_math_ability', 'can_change_math_ability', 'math_is_genetic', 'much_effort_is_lack_of_talent']\n",
    "survey_data.columns = list(survey_data.columns[0:2])+new_col_names"
   ]
  },
  {
   "cell_type": "markdown",
   "id": "0fa95282",
   "metadata": {},
   "source": [
    "Check the datatype of the variables using the `dtypes` attribute of the Pandas DataFrame object. You will notice that only two variables are numeric. However, if you check the first few observations of the data with the function `head()` you will find the there are several more variables that seem to have numeric values."
   ]
  },
  {
   "cell_type": "code",
   "execution_count": 233,
   "id": "d84fb5f8",
   "metadata": {},
   "outputs": [
    {
     "data": {
      "text/html": [
       "<div>\n",
       "<style scoped>\n",
       "    .dataframe tbody tr th:only-of-type {\n",
       "        vertical-align: middle;\n",
       "    }\n",
       "\n",
       "    .dataframe tbody tr th {\n",
       "        vertical-align: top;\n",
       "    }\n",
       "\n",
       "    .dataframe thead th {\n",
       "        text-align: right;\n",
       "    }\n",
       "</style>\n",
       "<table border=\"1\" class=\"dataframe\">\n",
       "  <thead>\n",
       "    <tr style=\"text-align: right;\">\n",
       "      <th></th>\n",
       "      <th>Timestamp</th>\n",
       "      <th>fav_alcohol</th>\n",
       "      <th>parties_per_month</th>\n",
       "      <th>smoke</th>\n",
       "      <th>weed</th>\n",
       "      <th>introvert_extrovert</th>\n",
       "      <th>love_first_sight</th>\n",
       "      <th>learning_style</th>\n",
       "      <th>left_right_brained</th>\n",
       "      <th>personality_type</th>\n",
       "      <th>...</th>\n",
       "      <th>used_python_before</th>\n",
       "      <th>dominant_hand</th>\n",
       "      <th>childhood_in_US</th>\n",
       "      <th>gender</th>\n",
       "      <th>region_of_residence</th>\n",
       "      <th>political_affliation</th>\n",
       "      <th>cant_change_math_ability</th>\n",
       "      <th>can_change_math_ability</th>\n",
       "      <th>math_is_genetic</th>\n",
       "      <th>much_effort_is_lack_of_talent</th>\n",
       "    </tr>\n",
       "  </thead>\n",
       "  <tbody>\n",
       "    <tr>\n",
       "      <th>0</th>\n",
       "      <td>2022/09/13 1:43:34 pm GMT-5</td>\n",
       "      <td>I don't drink</td>\n",
       "      <td>1</td>\n",
       "      <td>No</td>\n",
       "      <td>Occasionally</td>\n",
       "      <td>Introvert</td>\n",
       "      <td>No</td>\n",
       "      <td>Visual (learn best through images or graphic o...</td>\n",
       "      <td>Left-brained (logic, science, critical thinkin...</td>\n",
       "      <td>INFJ</td>\n",
       "      <td>...</td>\n",
       "      <td>Yes</td>\n",
       "      <td>Right</td>\n",
       "      <td>Yes</td>\n",
       "      <td>Female</td>\n",
       "      <td>Northeast</td>\n",
       "      <td>Democrat</td>\n",
       "      <td>Disagree</td>\n",
       "      <td>Agree</td>\n",
       "      <td>Disagree</td>\n",
       "      <td>Disagree</td>\n",
       "    </tr>\n",
       "    <tr>\n",
       "      <th>1</th>\n",
       "      <td>2022/09/13 5:28:17 pm GMT-5</td>\n",
       "      <td>Hard liquor/Mixed drink</td>\n",
       "      <td>3</td>\n",
       "      <td>No</td>\n",
       "      <td>Occasionally</td>\n",
       "      <td>Extrovert</td>\n",
       "      <td>No</td>\n",
       "      <td>Visual (learn best through images or graphic o...</td>\n",
       "      <td>Left-brained (logic, science, critical thinkin...</td>\n",
       "      <td>ESFJ</td>\n",
       "      <td>...</td>\n",
       "      <td>Yes</td>\n",
       "      <td>Right</td>\n",
       "      <td>Yes</td>\n",
       "      <td>Male</td>\n",
       "      <td>West</td>\n",
       "      <td>Democrat</td>\n",
       "      <td>Disagree</td>\n",
       "      <td>Agree</td>\n",
       "      <td>Disagree</td>\n",
       "      <td>Disagree</td>\n",
       "    </tr>\n",
       "    <tr>\n",
       "      <th>2</th>\n",
       "      <td>2022/09/13 7:56:38 pm GMT-5</td>\n",
       "      <td>Hard liquor/Mixed drink</td>\n",
       "      <td>3</td>\n",
       "      <td>No</td>\n",
       "      <td>Yes</td>\n",
       "      <td>Introvert</td>\n",
       "      <td>No</td>\n",
       "      <td>Kinesthetic (learn best through figuring out h...</td>\n",
       "      <td>Left-brained (logic, science, critical thinkin...</td>\n",
       "      <td>ISTJ</td>\n",
       "      <td>...</td>\n",
       "      <td>No</td>\n",
       "      <td>Right</td>\n",
       "      <td>No</td>\n",
       "      <td>Female</td>\n",
       "      <td>International</td>\n",
       "      <td>No affiliation</td>\n",
       "      <td>Disagree</td>\n",
       "      <td>Agree</td>\n",
       "      <td>Disagree</td>\n",
       "      <td>Disagree</td>\n",
       "    </tr>\n",
       "    <tr>\n",
       "      <th>3</th>\n",
       "      <td>2022/09/13 10:34:37 pm GMT-5</td>\n",
       "      <td>Hard liquor/Mixed drink</td>\n",
       "      <td>12</td>\n",
       "      <td>No</td>\n",
       "      <td>No</td>\n",
       "      <td>Extrovert</td>\n",
       "      <td>No</td>\n",
       "      <td>Visual (learn best through images or graphic o...</td>\n",
       "      <td>Left-brained (logic, science, critical thinkin...</td>\n",
       "      <td>ENFJ</td>\n",
       "      <td>...</td>\n",
       "      <td>No</td>\n",
       "      <td>Right</td>\n",
       "      <td>Yes</td>\n",
       "      <td>Female</td>\n",
       "      <td>Southeast</td>\n",
       "      <td>Democrat</td>\n",
       "      <td>Disagree</td>\n",
       "      <td>Agree</td>\n",
       "      <td>Disagree</td>\n",
       "      <td>Disagree</td>\n",
       "    </tr>\n",
       "    <tr>\n",
       "      <th>4</th>\n",
       "      <td>2022/09/14 4:46:19 pm GMT-5</td>\n",
       "      <td>I don't drink</td>\n",
       "      <td>1</td>\n",
       "      <td>No</td>\n",
       "      <td>No</td>\n",
       "      <td>Extrovert</td>\n",
       "      <td>Yes</td>\n",
       "      <td>Reading/Writing (learn best through words ofte...</td>\n",
       "      <td>Right-brained (creative, art, imaginative, int...</td>\n",
       "      <td>ENTJ</td>\n",
       "      <td>...</td>\n",
       "      <td>No</td>\n",
       "      <td>Right</td>\n",
       "      <td>Yes</td>\n",
       "      <td>Female</td>\n",
       "      <td>Northeast</td>\n",
       "      <td>Democrat</td>\n",
       "      <td>Agree</td>\n",
       "      <td>Disagree</td>\n",
       "      <td>Disagree</td>\n",
       "      <td>Disagree</td>\n",
       "    </tr>\n",
       "  </tbody>\n",
       "</table>\n",
       "<p>5 rows × 51 columns</p>\n",
       "</div>"
      ],
      "text/plain": [
       "                      Timestamp              fav_alcohol parties_per_month  \\\n",
       "0   2022/09/13 1:43:34 pm GMT-5            I don't drink                 1   \n",
       "1   2022/09/13 5:28:17 pm GMT-5  Hard liquor/Mixed drink                 3   \n",
       "2   2022/09/13 7:56:38 pm GMT-5  Hard liquor/Mixed drink                 3   \n",
       "3  2022/09/13 10:34:37 pm GMT-5  Hard liquor/Mixed drink                12   \n",
       "4   2022/09/14 4:46:19 pm GMT-5            I don't drink                 1   \n",
       "\n",
       "  smoke          weed introvert_extrovert love_first_sight  \\\n",
       "0    No  Occasionally           Introvert               No   \n",
       "1    No  Occasionally           Extrovert               No   \n",
       "2    No           Yes           Introvert               No   \n",
       "3    No            No           Extrovert               No   \n",
       "4    No            No           Extrovert              Yes   \n",
       "\n",
       "                                      learning_style  \\\n",
       "0  Visual (learn best through images or graphic o...   \n",
       "1  Visual (learn best through images or graphic o...   \n",
       "2  Kinesthetic (learn best through figuring out h...   \n",
       "3  Visual (learn best through images or graphic o...   \n",
       "4  Reading/Writing (learn best through words ofte...   \n",
       "\n",
       "                                  left_right_brained personality_type  ...  \\\n",
       "0  Left-brained (logic, science, critical thinkin...             INFJ  ...   \n",
       "1  Left-brained (logic, science, critical thinkin...             ESFJ  ...   \n",
       "2  Left-brained (logic, science, critical thinkin...             ISTJ  ...   \n",
       "3  Left-brained (logic, science, critical thinkin...             ENFJ  ...   \n",
       "4  Right-brained (creative, art, imaginative, int...             ENTJ  ...   \n",
       "\n",
       "  used_python_before dominant_hand childhood_in_US  gender  \\\n",
       "0                Yes         Right             Yes  Female   \n",
       "1                Yes         Right             Yes    Male   \n",
       "2                 No         Right              No  Female   \n",
       "3                 No         Right             Yes  Female   \n",
       "4                 No         Right             Yes  Female   \n",
       "\n",
       "  region_of_residence political_affliation cant_change_math_ability  \\\n",
       "0           Northeast             Democrat                 Disagree   \n",
       "1                West             Democrat                 Disagree   \n",
       "2       International       No affiliation                 Disagree   \n",
       "3           Southeast             Democrat                 Disagree   \n",
       "4           Northeast             Democrat                    Agree   \n",
       "\n",
       "   can_change_math_ability math_is_genetic much_effort_is_lack_of_talent  \n",
       "0                    Agree        Disagree                      Disagree  \n",
       "1                    Agree        Disagree                      Disagree  \n",
       "2                    Agree        Disagree                      Disagree  \n",
       "3                    Agree        Disagree                      Disagree  \n",
       "4                 Disagree        Disagree                      Disagree  \n",
       "\n",
       "[5 rows x 51 columns]"
      ]
     },
     "execution_count": 233,
     "metadata": {},
     "output_type": "execute_result"
    }
   ],
   "source": [
    "survey_data.dtypes\n",
    "survey_data.head()"
   ]
  },
  {
   "cell_type": "markdown",
   "id": "770751c6",
   "metadata": {},
   "source": [
    "Write a function that accepts a Pandas Series *(or a column of a Pandas DataFrame object)* as argument, and if the datatype of the Series is non-numeric, does the following:\n",
    "\n",
    "1. Checks if at least 10 values of the Series contain a digit in them.\n",
    "\n",
    "2. If at least 10 values are found to contain a digit, then:\n",
    "\n",
    "    A. Eliminate the characters `~`, `+`, and `,` from all the values of the Series.\n",
    "    \n",
    "    B. Convert the Series to numeric (with coercion if needed).\n",
    "    \n",
    "3. If at least 10 values are NOT found to contain a digit, then:\n",
    "\n",
    "    A. If the values of the Series are *'Yes'* and *'No'*, then replace *'Yes'* with *1* and *'No'* with *0*. The Series datatype must change to numeric as well.\n",
    "    \n",
    "    B. If the values of the Series are *'Agree'* and *'Disagree'*, then replace *'Agree'* with *1* and *'Disagree'* with *0*. The Series datatype must change to numeric as well.\n",
    "    \n",
    "Apply the function to each column of `survey_data` using the *apply()* method. Save the updated DataFrame as `survey_data_clean`. Then, execute the following code."
   ]
  },
  {
   "cell_type": "code",
   "execution_count": 234,
   "id": "0ad3102a",
   "metadata": {},
   "outputs": [
    {
     "data": {
      "text/plain": [
       "parties_per_month                    5.052632\n",
       "smoke                                0.036458\n",
       "weed                                 0.166667\n",
       "love_first_sight                     0.281250\n",
       "num_insta_followers                969.211957\n",
       "expected_marriage_age               29.185792\n",
       "expected_starting_salary         85393.478723\n",
       "minutes_ex_per_week                205.778378\n",
       "sleep_hours_per_day                  7.223958\n",
       "farthest_distance_travelled       6283.676271\n",
       "fav_number                          37.978947\n",
       "internet_hours_per_day              11.196809\n",
       "only_child                           0.151042\n",
       "num_majors_minors                    2.505263\n",
       "high_school_GPA                      6.704000\n",
       "height                              67.660495\n",
       "height_father                       69.073518\n",
       "height_mother                       63.377369\n",
       "procrastinator                       0.640625\n",
       "num_clubs                            2.593750\n",
       "student_athlete                      0.015625\n",
       "AP_stats                             0.494792\n",
       "used_python_before                   0.817708\n",
       "childhood_in_US                      0.697917\n",
       "cant_change_math_ability             0.218750\n",
       "can_change_math_ability              0.744792\n",
       "math_is_genetic                      0.187500\n",
       "much_effort_is_lack_of_talent        0.250000\n",
       "Name: mean, dtype: float64"
      ]
     },
     "execution_count": 234,
     "metadata": {},
     "output_type": "execute_result"
    }
   ],
   "source": [
    "def change_values(df):\n",
    "    # change all values to string\n",
    "    df = df.astype(str)\n",
    "    # check if at least 10 values of df contains a digit\n",
    "    if len(df[df.str.isdigit()]) >= 10:\n",
    "        # eliminate characers ~, +, and , from all values of the Series\n",
    "        df = df.str.replace(\"~\", \"\")\n",
    "        df = df.str.replace(\"+\", \"\")\n",
    "        df = df.str.replace(\",\", \"\")\n",
    "        # convert series to numeric using coercion\n",
    "        df = df.apply(pd.to_numeric, errors='coerce')\n",
    "    else:\n",
    "        # check if values of series are \"Yes\" and \"No\"\n",
    "        if len(df[df == \"Yes\"]) >= 1 and len(df[df == \"No\"]) >= 1:\n",
    "            df = df.apply(lambda x: 1 if x == \"Yes\" else 0)\n",
    "            df = pd.to_numeric(df)\n",
    "        elif len(df[df == \"Agree\"]) >= 1 and len(df[df == \"Disagree\"]) >= 1:\n",
    "            df = df.apply(lambda x: 1 if x == \"Agree\" else 0)\n",
    "            df = pd.to_numeric(df)\n",
    "    # return numeric columns of df\n",
    "    return df\n",
    "\n",
    "survey_data_clean = survey_data.apply(change_values)\n",
    "survey_data_clean.describe().loc['mean',:]\n",
    "\n"
   ]
  },
  {
   "cell_type": "markdown",
   "id": "b76ed062",
   "metadata": {},
   "source": [
    " The above code should print out the mean values of 28 numeric columns in the data `survey_data_clean`."
   ]
  },
  {
   "cell_type": "markdown",
   "id": "a407516e",
   "metadata": {},
   "source": [
    "The variables that you should see as numeric in `survey_data_clean` are given in the list `numeric_columns` below *(this is just to check your work)*:"
   ]
  },
  {
   "cell_type": "code",
   "execution_count": 235,
   "id": "213ff23b",
   "metadata": {},
   "outputs": [],
   "source": [
    "numeric_columns = ['parties_per_month', 'love_first_sight', 'num_insta_followers',\n",
    "       'expected_marriage_age', 'expected_starting_salary',\n",
    "       'minutes_ex_per_week', 'sleep_hours_per_day',\n",
    "       'farthest_distance_travelled', 'fav_number', 'internet_hours_per_day',\n",
    "       'only_child', 'num_majors_minors', 'high_school_GPA', 'NU_GPA', 'age',\n",
    "       'height', 'height_father', 'height_mother', 'procrastinator',\n",
    "       'num_clubs', 'student_athlete', 'AP_stats', 'used_python_before',\n",
    "       'childhood_in_US', 'cant_change_math_ability',\n",
    "       'can_change_math_ability', 'math_is_genetic',\n",
    "       'much_effort_is_lack_of_talent']"
   ]
  },
  {
   "cell_type": "markdown",
   "id": "ed265339",
   "metadata": {},
   "source": [
    "Note that your **function must be general**, i.e., it must work for any other dataset as well. This means, you cannot hard code a column name, or anything specific to `survey_data` in the function."
   ]
  }
 ],
 "metadata": {
  "kernelspec": {
   "display_name": ".venv",
   "language": "python",
   "name": "python3"
  },
  "language_info": {
   "codemirror_mode": {
    "name": "ipython",
    "version": 3
   },
   "file_extension": ".py",
   "mimetype": "text/x-python",
   "name": "python",
   "nbconvert_exporter": "python",
   "pygments_lexer": "ipython3",
   "version": "3.7.0"
  }
 },
 "nbformat": 4,
 "nbformat_minor": 5
}
