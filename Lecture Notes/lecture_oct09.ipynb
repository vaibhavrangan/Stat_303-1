{
 "cells": [
  {
   "cell_type": "code",
   "execution_count": 1,
   "metadata": {},
   "outputs": [],
   "source": [
    "import numpy as np\n",
    "import pandas as pd"
   ]
  },
  {
   "cell_type": "code",
   "execution_count": 3,
   "metadata": {},
   "outputs": [
    {
     "name": "stdout",
     "output_type": "stream",
     "text": [
      "[[1 2]\n",
      " [3 4]]\n"
     ]
    }
   ],
   "source": [
    "# use numpy array() function to create numpy array\n",
    "numpy_array = np.array([[1,2], [3,4]])\n",
    "print(numpy_array)"
   ]
  },
  {
   "cell_type": "code",
   "execution_count": 4,
   "metadata": {},
   "outputs": [
    {
     "data": {
      "text/plain": [
       "numpy.ndarray"
      ]
     },
     "execution_count": 4,
     "metadata": {},
     "output_type": "execute_result"
    }
   ],
   "source": [
    "type(numpy_array)"
   ]
  },
  {
   "cell_type": "code",
   "execution_count": 5,
   "metadata": {},
   "outputs": [
    {
     "data": {
      "text/plain": [
       "2"
      ]
     },
     "execution_count": 5,
     "metadata": {},
     "output_type": "execute_result"
    }
   ],
   "source": [
    "numpy_array.ndim"
   ]
  },
  {
   "cell_type": "code",
   "execution_count": 6,
   "metadata": {},
   "outputs": [
    {
     "data": {
      "text/plain": [
       "dtype('int64')"
      ]
     },
     "execution_count": 6,
     "metadata": {},
     "output_type": "execute_result"
    }
   ],
   "source": [
    "numpy_array.dtype"
   ]
  },
  {
   "cell_type": "code",
   "execution_count": 9,
   "metadata": {},
   "outputs": [
    {
     "name": "stdout",
     "output_type": "stream",
     "text": [
      "float64\n"
     ]
    }
   ],
   "source": [
    "# if you create a numpy array with elements of different data types, numpy automatically upcasts the data type to a compatible data type that can accommodate all of them \n",
    "arr = np.array([[1, 2.5], [3.5,5]])\n",
    "print(arr.dtype)"
   ]
  },
  {
   "cell_type": "code",
   "execution_count": 10,
   "metadata": {},
   "outputs": [
    {
     "name": "stdout",
     "output_type": "stream",
     "text": [
      "<U32\n"
     ]
    }
   ],
   "source": [
    "# if you mix strings and numbers, numpy will upcast all elements to strings\n",
    "arr = np.array([1, 'hello', 3.5])\n",
    "print(arr.dtype)"
   ]
  },
  {
   "cell_type": "code",
   "execution_count": 11,
   "metadata": {},
   "outputs": [
    {
     "name": "stdout",
     "output_type": "stream",
     "text": [
      "{'NumPy Array (in bytes)': 8000, 'Python List (in bytes)': 37108, 'Python Tuple (in bytes)': 36044}\n"
     ]
    }
   ],
   "source": [
    "import sys\n",
    "\n",
    "# Create a NumPy array, Python list, and tuple with the same elements\n",
    "array = np.arange(1000)\n",
    "py_list = list(range(1000))\n",
    "py_tuple = tuple(range(1000))\n",
    "\n",
    "# Calculate memory usage\n",
    "array_memory = array.nbytes\n",
    "list_memory = sys.getsizeof(py_list) + sum(sys.getsizeof(item) for item in py_list)\n",
    "tuple_memory = sys.getsizeof(py_tuple) + sum(sys.getsizeof(item) for item in py_tuple)\n",
    "\n",
    "# Display the memory usage\n",
    "memory_usage = {\n",
    "    \"NumPy Array (in bytes)\": array_memory,\n",
    "    \"Python List (in bytes)\": list_memory,\n",
    "    \"Python Tuple (in bytes)\": tuple_memory\n",
    "}\n",
    "\n",
    "print(memory_usage)\n",
    "\n",
    "\n",
    "# numpy arrays are memory efficient because they store elements of the same data type in contiguous memory locations"
   ]
  },
  {
   "cell_type": "code",
   "execution_count": 12,
   "metadata": {},
   "outputs": [
    {
     "name": "stdout",
     "output_type": "stream",
     "text": [
      "Time take to multiply numbers in a list =  0.030297040939331055\n",
      "Time take to multiply numbers in a tuple =  0.028814077377319336\n",
      "Time take to multiply numbers in a NumPy array =  0.0069010257720947266\n"
     ]
    }
   ],
   "source": [
    "#Examples showing NumPy arrays are more efficient for numerical computation\n",
    "import time as tm\n",
    "start_time = tm.time()\n",
    "list_ex = list(range(1000000)) #List containinig whole numbers upto 1 million\n",
    "a=(list_ex*2)\n",
    "print(\"Time take to multiply numbers in a list = \", tm.time()-start_time)\n",
    "\n",
    "start_time = tm.time()\n",
    "tuple_ex = tuple(range(1000000)) #Tuple containinig whole numbers upto 1 million\n",
    "a=(tuple_ex*2)\n",
    "print(\"Time take to multiply numbers in a tuple = \", tm.time()-start_time)\n",
    "\n",
    "start_time = tm.time()\n",
    "numpy_ex = np.arange(1000000) #NumPy array containinig whole numbers upto 1 million\n",
    "a=(numpy_ex*2)\n",
    "print(\"Time take to multiply numbers in a NumPy array = \", tm.time()-start_time)\n",
    "\n"
   ]
  },
  {
   "cell_type": "code",
   "execution_count": 13,
   "metadata": {},
   "outputs": [
    {
     "data": {
      "text/plain": [
       "array([[1, 2, 3],\n",
       "       [4, 5, 6]])"
      ]
     },
     "execution_count": 13,
     "metadata": {},
     "output_type": "execute_result"
    }
   ],
   "source": [
    "numpy_ex = np.array([[1,2,3],[4,5,6]])\n",
    "numpy_ex"
   ]
  },
  {
   "cell_type": "code",
   "execution_count": 14,
   "metadata": {},
   "outputs": [
    {
     "data": {
      "text/plain": [
       "2"
      ]
     },
     "execution_count": 14,
     "metadata": {},
     "output_type": "execute_result"
    }
   ],
   "source": [
    "numpy_ex.ndim"
   ]
  },
  {
   "cell_type": "code",
   "execution_count": 15,
   "metadata": {},
   "outputs": [
    {
     "data": {
      "text/plain": [
       "(2, 3)"
      ]
     },
     "execution_count": 15,
     "metadata": {},
     "output_type": "execute_result"
    }
   ],
   "source": [
    "numpy_ex.shape"
   ]
  },
  {
   "cell_type": "code",
   "execution_count": 16,
   "metadata": {},
   "outputs": [
    {
     "data": {
      "text/plain": [
       "6"
      ]
     },
     "execution_count": 16,
     "metadata": {},
     "output_type": "execute_result"
    }
   ],
   "source": [
    "numpy_ex.size"
   ]
  },
  {
   "cell_type": "code",
   "execution_count": 17,
   "metadata": {},
   "outputs": [
    {
     "data": {
      "text/plain": [
       "dtype('int64')"
      ]
     },
     "execution_count": 17,
     "metadata": {},
     "output_type": "execute_result"
    }
   ],
   "source": [
    "numpy_ex.dtype"
   ]
  },
  {
   "cell_type": "code",
   "execution_count": 19,
   "metadata": {},
   "outputs": [
    {
     "name": "stdout",
     "output_type": "stream",
     "text": [
      "10\n",
      "50\n",
      "50\n",
      "30\n"
     ]
    }
   ],
   "source": [
    "# uses zero based indexing like lists\n",
    "array = np.array([10, 20, 30, 40, 50])\n",
    "\n",
    "# first element\n",
    "print(array[0])  \n",
    "# last element\n",
    "print(array[4]) \n",
    "# last element\n",
    "print(array[-1])  \n",
    "# 3rd element when counting backwards\n",
    "print(array[-3])  "
   ]
  },
  {
   "cell_type": "code",
   "execution_count": 20,
   "metadata": {},
   "outputs": [
    {
     "name": "stdout",
     "output_type": "stream",
     "text": [
      "[[1 2 3]\n",
      " [4 5 6]\n",
      " [7 8 9]]\n",
      "2\n",
      "6\n",
      "9\n"
     ]
    }
   ],
   "source": [
    "# 2D array 3 rows 3 columns\n",
    "array_2d = np.array([[1, 2, 3], [4, 5, 6], [7, 8, 9]])\n",
    "print(array_2d)\n",
    "# first row second column\n",
    "print(array_2d[0, 1])  \n",
    "# 2nd row last column\n",
    "print(array_2d[1, -1]) \n",
    "# last row last column\n",
    "print(array_2d[-1, -1])  "
   ]
  },
  {
   "cell_type": "code",
   "execution_count": 24,
   "metadata": {},
   "outputs": [
    {
     "name": "stdout",
     "output_type": "stream",
     "text": [
      "[]\n"
     ]
    }
   ],
   "source": [
    "array = np.array([10,20,30,40,50])\n",
    "mask = array > 50 # boolean mask for elements > 50\n",
    "print(array[mask])\n"
   ]
  },
  {
   "cell_type": "code",
   "execution_count": 25,
   "metadata": {},
   "outputs": [
    {
     "name": "stdout",
     "output_type": "stream",
     "text": [
      "[20 30 40]\n",
      "[10 20 30]\n",
      "[30 40 50]\n",
      "[10 30 50]\n",
      "[50 40 30 20 10]\n"
     ]
    }
   ],
   "source": [
    "array = np.array([10, 20, 30, 40, 50])\n",
    "\n",
    "# start:stop:step\n",
    "# includes start excludes stop\n",
    "print(array[1:4])  \n",
    "print(array[:3])  \n",
    "print(array[2:])  \n",
    "print(array[::2])  \n",
    "print(array[::-1]) "
   ]
  },
  {
   "cell_type": "code",
   "execution_count": 26,
   "metadata": {},
   "outputs": [
    {
     "name": "stdout",
     "output_type": "stream",
     "text": [
      "[[5 6]\n",
      " [8 9]]\n"
     ]
    }
   ],
   "source": [
    "array_2d = np.array([[1, 2, 3], [4, 5, 6], [7, 8, 9]])\n",
    "\n",
    "#extract a sub array elements from the first two rows and first two columns\n",
    "sub_array = array_2d[:2,:2]\n",
    "\n",
    "# extract all rows for 2nd column\n",
    "col = array_2d[:,1]\n",
    "\n",
    "# Extract the last two rows and last two columns\n",
    "sub_array = array_2d[-2:, -2:]\n",
    "print(sub_array)  "
   ]
  },
  {
   "cell_type": "code",
   "execution_count": 27,
   "metadata": {},
   "outputs": [
    {
     "name": "stdout",
     "output_type": "stream",
     "text": [
      "[ 10 100 100 100  50]\n"
     ]
    }
   ],
   "source": [
    "array = np.array([10, 20, 30, 40, 50])\n",
    "array[1:4] = 100  # Replace elements from index 1 to 3 with 100\n",
    "print(array)  # Output: [ 10 100 100 100  50]"
   ]
  },
  {
   "cell_type": "code",
   "execution_count": 28,
   "metadata": {},
   "outputs": [
    {
     "name": "stdout",
     "output_type": "stream",
     "text": [
      "[2 5]\n",
      "[10 11]\n"
     ]
    }
   ],
   "source": [
    "# Create a 3D array\n",
    "array_3d = np.array([[[1, 2, 3], [4, 5, 6]], [[7, 8, 9], [10, 11, 12]]])\n",
    "\n",
    "# Select specific elements and slices\n",
    "print(array_3d[0, :, 1])  # Output: [2 5] (second element from each row in the first sub-array)\n",
    "print(array_3d[1, 1, :2])  # Output: [10 11] (first two elements in the last row of the second sub-array)"
   ]
  },
  {
   "cell_type": "code",
   "execution_count": 29,
   "metadata": {},
   "outputs": [
    {
     "name": "stdout",
     "output_type": "stream",
     "text": [
      "Elements greater than 5:\n",
      " [[[ 0  0  0]\n",
      "  [ 0  0  6]]\n",
      "\n",
      " [[ 7  8  9]\n",
      "  [10 11 12]]]\n",
      "\n",
      "Categorized array:\n",
      " [[['low' 'low' 'low']\n",
      "  ['medium' 'medium' 'medium']]\n",
      "\n",
      " [['medium' 'medium' 'high']\n",
      "  ['high' 'high' 'high']]]\n"
     ]
    }
   ],
   "source": [
    "# Using np.where to create a mask and select elements greater than 5\n",
    "greater_than_5 = np.where(array_3d > 5, array_3d, 0)\n",
    "print(\"Elements greater than 5:\\n\", greater_than_5)\n",
    "\n",
    "# Using np.select to categorize elements into three categories\n",
    "conditions = [array_3d < 4, (array_3d >= 4) & (array_3d <= 8), array_3d > 8]\n",
    "choices = ['low', 'medium', 'high']\n",
    "categorized_array = np.select(conditions, choices, default='unknown')\n",
    "print(\"\\nCategorized array:\\n\", categorized_array)"
   ]
  },
  {
   "cell_type": "code",
   "execution_count": null,
   "metadata": {},
   "outputs": [],
   "source": []
  }
 ],
 "metadata": {
  "kernelspec": {
   "display_name": ".venv",
   "language": "python",
   "name": "python3"
  },
  "language_info": {
   "codemirror_mode": {
    "name": "ipython",
    "version": 3
   },
   "file_extension": ".py",
   "mimetype": "text/x-python",
   "name": "python",
   "nbconvert_exporter": "python",
   "pygments_lexer": "ipython3",
   "version": "3.7.0"
  }
 },
 "nbformat": 4,
 "nbformat_minor": 2
}
